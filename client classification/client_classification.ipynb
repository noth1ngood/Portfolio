{
 "cells": [
  {
   "cell_type": "markdown",
   "metadata": {
    "toc": true
   },
   "source": [
    "<h1>Содержание<span class=\"tocSkip\"></span></h1>\n",
    "<div class=\"toc\"><ul class=\"toc-item\"><li><span><a href=\"#Подготовка-данных\" data-toc-modified-id=\"Подготовка-данных-1\"><span class=\"toc-item-num\">1&nbsp;&nbsp;</span>Подготовка данных</a></span><ul class=\"toc-item\"><li><ul class=\"toc-item\"><li><span><a href=\"#Вывод:\" data-toc-modified-id=\"Вывод:-1.0.1\"><span class=\"toc-item-num\">1.0.1&nbsp;&nbsp;</span>Вывод:</a></span></li></ul></li><li><span><a href=\"#Изменение-названия-столбцов\" data-toc-modified-id=\"Изменение-названия-столбцов-1.1\"><span class=\"toc-item-num\">1.1&nbsp;&nbsp;</span><strong>Изменение названия столбцов</strong></a></span><ul class=\"toc-item\"><li><span><a href=\"#Вывод:\" data-toc-modified-id=\"Вывод:-1.1.1\"><span class=\"toc-item-num\">1.1.1&nbsp;&nbsp;</span>Вывод:</a></span></li><li><span><a href=\"#Вывод:\" data-toc-modified-id=\"Вывод:-1.1.2\"><span class=\"toc-item-num\">1.1.2&nbsp;&nbsp;</span>Вывод:</a></span></li></ul></li><li><span><a href=\"#Кодирование-категориальных-признаков\" data-toc-modified-id=\"Кодирование-категориальных-признаков-1.2\"><span class=\"toc-item-num\">1.2&nbsp;&nbsp;</span><strong>Кодирование категориальных признаков</strong></a></span><ul class=\"toc-item\"><li><span><a href=\"#Вывод:\" data-toc-modified-id=\"Вывод:-1.2.1\"><span class=\"toc-item-num\">1.2.1&nbsp;&nbsp;</span>Вывод:</a></span></li></ul></li><li><span><a href=\"#Маштабирование-признаков\" data-toc-modified-id=\"Маштабирование-признаков-1.3\"><span class=\"toc-item-num\">1.3&nbsp;&nbsp;</span>Маштабирование признаков</a></span></li></ul></li><li><span><a href=\"#Исследование-задачи\" data-toc-modified-id=\"Исследование-задачи-2\"><span class=\"toc-item-num\">2&nbsp;&nbsp;</span>Исследование задачи</a></span><ul class=\"toc-item\"><li><ul class=\"toc-item\"><li><span><a href=\"#Вывод:\" data-toc-modified-id=\"Вывод:-2.0.1\"><span class=\"toc-item-num\">2.0.1&nbsp;&nbsp;</span>Вывод:</a></span></li></ul></li></ul></li><li><span><a href=\"#Борьба-с-дисбалансом\" data-toc-modified-id=\"Борьба-с-дисбалансом-3\"><span class=\"toc-item-num\">3&nbsp;&nbsp;</span>Борьба с дисбалансом</a></span><ul class=\"toc-item\"><li><ul class=\"toc-item\"><li><span><a href=\"#Вывод:\" data-toc-modified-id=\"Вывод:-3.0.1\"><span class=\"toc-item-num\">3.0.1&nbsp;&nbsp;</span>Вывод:</a></span></li></ul></li></ul></li><li><span><a href=\"#Тестирование-модели\" data-toc-modified-id=\"Тестирование-модели-4\"><span class=\"toc-item-num\">4&nbsp;&nbsp;</span>Тестирование модели</a></span><ul class=\"toc-item\"><li><ul class=\"toc-item\"><li><span><a href=\"#Вывод:\" data-toc-modified-id=\"Вывод:-4.0.1\"><span class=\"toc-item-num\">4.0.1&nbsp;&nbsp;</span>Вывод:</a></span></li></ul></li></ul></li><li><span><a href=\"#Вывод:\" data-toc-modified-id=\"Вывод:-5\"><span class=\"toc-item-num\">5&nbsp;&nbsp;</span>Вывод:</a></span></li><li><span><a href=\"#Чек-лист-готовности-проекта\" data-toc-modified-id=\"Чек-лист-готовности-проекта-6\"><span class=\"toc-item-num\">6&nbsp;&nbsp;</span>Чек-лист готовности проекта</a></span></li></ul></div>"
   ]
  },
  {
   "cell_type": "markdown",
   "metadata": {},
   "source": [
    "# Отток клиентов"
   ]
  },
  {
   "cell_type": "markdown",
   "metadata": {},
   "source": [
    "Из банка стали уходить клиенты. Каждый месяц. Немного, но заметно. Банковские маркетологи посчитали: сохранять текущих клиентов дешевле, чем привлекать новых.\n",
    "\n",
    "Нужно спрогнозировать, уйдёт клиент из банка в ближайшее время или нет. Вам предоставлены исторические данные о поведении клиентов и расторжении договоров с банком. \n",
    "\n",
    "Постройте модель с предельно большим значением *F1*-меры. Чтобы сдать проект успешно, нужно довести метрику до 0.59. Проверьте *F1*-меру на тестовой выборке самостоятельно.\n",
    "\n",
    "Дополнительно измеряйте *AUC-ROC*, сравнивайте её значение с *F1*-мерой.\n",
    "\n",
    "Источник данных: [https://www.kaggle.com/barelydedicated/bank-customer-churn-modeling](https://www.kaggle.com/barelydedicated/bank-customer-churn-modeling)"
   ]
  },
  {
   "cell_type": "markdown",
   "metadata": {},
   "source": [
    "**Используемые бибилиотеки**"
   ]
  },
  {
   "cell_type": "code",
   "execution_count": 1,
   "metadata": {},
   "outputs": [
    {
     "name": "stdout",
     "output_type": "stream",
     "text": [
      "Requirement already satisfied: scikit-learn in /opt/conda/lib/python3.9/site-packages (0.24.1)\n",
      "Collecting scikit-learn\n",
      "  Downloading scikit_learn-1.2.2-cp39-cp39-manylinux_2_17_x86_64.manylinux2014_x86_64.whl (9.6 MB)\n",
      "\u001b[K     |████████████████████████████████| 9.6 MB 1.2 MB/s eta 0:00:01     |████████████████████▋           | 6.2 MB 1.2 MB/s eta 0:00:03     |███████████████████████████▋    | 8.3 MB 1.2 MB/s eta 0:00:02     |████████████████████████████████| 9.6 MB 1.2 MB/s \n",
      "\u001b[?25hRequirement already satisfied: numpy>=1.17.3 in /opt/conda/lib/python3.9/site-packages (from scikit-learn) (1.21.1)\n",
      "Requirement already satisfied: scipy>=1.3.2 in /opt/conda/lib/python3.9/site-packages (from scikit-learn) (1.9.1)\n",
      "Requirement already satisfied: threadpoolctl>=2.0.0 in /opt/conda/lib/python3.9/site-packages (from scikit-learn) (3.1.0)\n",
      "Collecting joblib>=1.1.1\n",
      "  Downloading joblib-1.2.0-py3-none-any.whl (297 kB)\n",
      "\u001b[K     |████████████████████████████████| 297 kB 53.3 MB/s eta 0:00:01\n",
      "\u001b[?25hInstalling collected packages: joblib, scikit-learn\n",
      "  Attempting uninstall: joblib\n",
      "    Found existing installation: joblib 1.1.0\n",
      "    Uninstalling joblib-1.1.0:\n",
      "      Successfully uninstalled joblib-1.1.0\n",
      "  Attempting uninstall: scikit-learn\n",
      "    Found existing installation: scikit-learn 0.24.1\n",
      "    Uninstalling scikit-learn-0.24.1:\n",
      "      Successfully uninstalled scikit-learn-0.24.1\n",
      "Successfully installed joblib-1.2.0 scikit-learn-1.2.2\n"
     ]
    }
   ],
   "source": [
    "!pip install scikit-learn --upgrade"
   ]
  },
  {
   "cell_type": "code",
   "execution_count": 2,
   "metadata": {},
   "outputs": [],
   "source": [
    "import pandas as pd\n",
    "import numpy as np\n",
    "import matplotlib.pyplot as plt\n",
    "\n",
    "from sklearn.model_selection import train_test_split\n",
    "from sklearn.model_selection import GridSearchCV\n",
    "\n",
    "from sklearn.preprocessing import StandardScaler\n",
    "from sklearn.preprocessing import OneHotEncoder\n",
    "\n",
    "from sklearn.tree import DecisionTreeClassifier\n",
    "from sklearn.linear_model import LogisticRegression\n",
    "from sklearn.ensemble import RandomForestClassifier\n",
    "\n",
    "from sklearn.metrics import accuracy_score\n",
    "from sklearn.metrics import f1_score\n",
    "from sklearn.metrics import roc_auc_score\n",
    "from sklearn.metrics import roc_curve\n",
    "\n",
    "from sklearn.utils import shuffle\n",
    "\n",
    "import warnings\n",
    "warnings.filterwarnings('ignore')"
   ]
  },
  {
   "cell_type": "markdown",
   "metadata": {},
   "source": [
    "## Подготовка данных"
   ]
  },
  {
   "cell_type": "markdown",
   "metadata": {},
   "source": [
    "**Глобальные переменные**"
   ]
  },
  {
   "cell_type": "code",
   "execution_count": 3,
   "metadata": {},
   "outputs": [],
   "source": [
    "STATE = 12345"
   ]
  },
  {
   "cell_type": "markdown",
   "metadata": {},
   "source": [
    "**Открываем файл**"
   ]
  },
  {
   "cell_type": "code",
   "execution_count": 4,
   "metadata": {},
   "outputs": [],
   "source": [
    "try:\n",
    "    df = pd.read_csv('Churn.csv')\n",
    "except:\n",
    "    df = pd.read_csv('/datasets/Churn.csv')"
   ]
  },
  {
   "cell_type": "code",
   "execution_count": 5,
   "metadata": {
    "scrolled": true
   },
   "outputs": [
    {
     "data": {
      "text/html": [
       "<div>\n",
       "<style scoped>\n",
       "    .dataframe tbody tr th:only-of-type {\n",
       "        vertical-align: middle;\n",
       "    }\n",
       "\n",
       "    .dataframe tbody tr th {\n",
       "        vertical-align: top;\n",
       "    }\n",
       "\n",
       "    .dataframe thead th {\n",
       "        text-align: right;\n",
       "    }\n",
       "</style>\n",
       "<table border=\"1\" class=\"dataframe\">\n",
       "  <thead>\n",
       "    <tr style=\"text-align: right;\">\n",
       "      <th></th>\n",
       "      <th>RowNumber</th>\n",
       "      <th>CustomerId</th>\n",
       "      <th>Surname</th>\n",
       "      <th>CreditScore</th>\n",
       "      <th>Geography</th>\n",
       "      <th>Gender</th>\n",
       "      <th>Age</th>\n",
       "      <th>Tenure</th>\n",
       "      <th>Balance</th>\n",
       "      <th>NumOfProducts</th>\n",
       "      <th>HasCrCard</th>\n",
       "      <th>IsActiveMember</th>\n",
       "      <th>EstimatedSalary</th>\n",
       "      <th>Exited</th>\n",
       "    </tr>\n",
       "  </thead>\n",
       "  <tbody>\n",
       "    <tr>\n",
       "      <th>0</th>\n",
       "      <td>1</td>\n",
       "      <td>15634602</td>\n",
       "      <td>Hargrave</td>\n",
       "      <td>619</td>\n",
       "      <td>France</td>\n",
       "      <td>Female</td>\n",
       "      <td>42</td>\n",
       "      <td>2.0</td>\n",
       "      <td>0.00</td>\n",
       "      <td>1</td>\n",
       "      <td>1</td>\n",
       "      <td>1</td>\n",
       "      <td>101348.88</td>\n",
       "      <td>1</td>\n",
       "    </tr>\n",
       "    <tr>\n",
       "      <th>1</th>\n",
       "      <td>2</td>\n",
       "      <td>15647311</td>\n",
       "      <td>Hill</td>\n",
       "      <td>608</td>\n",
       "      <td>Spain</td>\n",
       "      <td>Female</td>\n",
       "      <td>41</td>\n",
       "      <td>1.0</td>\n",
       "      <td>83807.86</td>\n",
       "      <td>1</td>\n",
       "      <td>0</td>\n",
       "      <td>1</td>\n",
       "      <td>112542.58</td>\n",
       "      <td>0</td>\n",
       "    </tr>\n",
       "    <tr>\n",
       "      <th>2</th>\n",
       "      <td>3</td>\n",
       "      <td>15619304</td>\n",
       "      <td>Onio</td>\n",
       "      <td>502</td>\n",
       "      <td>France</td>\n",
       "      <td>Female</td>\n",
       "      <td>42</td>\n",
       "      <td>8.0</td>\n",
       "      <td>159660.80</td>\n",
       "      <td>3</td>\n",
       "      <td>1</td>\n",
       "      <td>0</td>\n",
       "      <td>113931.57</td>\n",
       "      <td>1</td>\n",
       "    </tr>\n",
       "    <tr>\n",
       "      <th>3</th>\n",
       "      <td>4</td>\n",
       "      <td>15701354</td>\n",
       "      <td>Boni</td>\n",
       "      <td>699</td>\n",
       "      <td>France</td>\n",
       "      <td>Female</td>\n",
       "      <td>39</td>\n",
       "      <td>1.0</td>\n",
       "      <td>0.00</td>\n",
       "      <td>2</td>\n",
       "      <td>0</td>\n",
       "      <td>0</td>\n",
       "      <td>93826.63</td>\n",
       "      <td>0</td>\n",
       "    </tr>\n",
       "    <tr>\n",
       "      <th>4</th>\n",
       "      <td>5</td>\n",
       "      <td>15737888</td>\n",
       "      <td>Mitchell</td>\n",
       "      <td>850</td>\n",
       "      <td>Spain</td>\n",
       "      <td>Female</td>\n",
       "      <td>43</td>\n",
       "      <td>2.0</td>\n",
       "      <td>125510.82</td>\n",
       "      <td>1</td>\n",
       "      <td>1</td>\n",
       "      <td>1</td>\n",
       "      <td>79084.10</td>\n",
       "      <td>0</td>\n",
       "    </tr>\n",
       "  </tbody>\n",
       "</table>\n",
       "</div>"
      ],
      "text/plain": [
       "   RowNumber  CustomerId   Surname  CreditScore Geography  Gender  Age  \\\n",
       "0          1    15634602  Hargrave          619    France  Female   42   \n",
       "1          2    15647311      Hill          608     Spain  Female   41   \n",
       "2          3    15619304      Onio          502    France  Female   42   \n",
       "3          4    15701354      Boni          699    France  Female   39   \n",
       "4          5    15737888  Mitchell          850     Spain  Female   43   \n",
       "\n",
       "   Tenure    Balance  NumOfProducts  HasCrCard  IsActiveMember  \\\n",
       "0     2.0       0.00              1          1               1   \n",
       "1     1.0   83807.86              1          0               1   \n",
       "2     8.0  159660.80              3          1               0   \n",
       "3     1.0       0.00              2          0               0   \n",
       "4     2.0  125510.82              1          1               1   \n",
       "\n",
       "   EstimatedSalary  Exited  \n",
       "0        101348.88       1  \n",
       "1        112542.58       0  \n",
       "2        113931.57       1  \n",
       "3         93826.63       0  \n",
       "4         79084.10       0  "
      ]
     },
     "execution_count": 5,
     "metadata": {},
     "output_type": "execute_result"
    }
   ],
   "source": [
    "df.head()"
   ]
  },
  {
   "cell_type": "code",
   "execution_count": 6,
   "metadata": {},
   "outputs": [
    {
     "name": "stdout",
     "output_type": "stream",
     "text": [
      "<class 'pandas.core.frame.DataFrame'>\n",
      "RangeIndex: 10000 entries, 0 to 9999\n",
      "Data columns (total 14 columns):\n",
      " #   Column           Non-Null Count  Dtype  \n",
      "---  ------           --------------  -----  \n",
      " 0   RowNumber        10000 non-null  int64  \n",
      " 1   CustomerId       10000 non-null  int64  \n",
      " 2   Surname          10000 non-null  object \n",
      " 3   CreditScore      10000 non-null  int64  \n",
      " 4   Geography        10000 non-null  object \n",
      " 5   Gender           10000 non-null  object \n",
      " 6   Age              10000 non-null  int64  \n",
      " 7   Tenure           9091 non-null   float64\n",
      " 8   Balance          10000 non-null  float64\n",
      " 9   NumOfProducts    10000 non-null  int64  \n",
      " 10  HasCrCard        10000 non-null  int64  \n",
      " 11  IsActiveMember   10000 non-null  int64  \n",
      " 12  EstimatedSalary  10000 non-null  float64\n",
      " 13  Exited           10000 non-null  int64  \n",
      "dtypes: float64(3), int64(8), object(3)\n",
      "memory usage: 1.1+ MB\n"
     ]
    }
   ],
   "source": [
    "df.info()"
   ]
  },
  {
   "cell_type": "markdown",
   "metadata": {},
   "source": [
    "#### Вывод: \n",
    "Видим, что некоторые признаки категориальные, такие как `Geography`, `Gender`. А значит их надо перевести в количественные путем кодирования. Также меня не устраивает названия колонок, и их стоит привести к snake_case."
   ]
  },
  {
   "cell_type": "markdown",
   "metadata": {},
   "source": [
    "### **Изменение названия столбцов**"
   ]
  },
  {
   "cell_type": "code",
   "execution_count": 7,
   "metadata": {},
   "outputs": [
    {
     "data": {
      "text/html": [
       "<div>\n",
       "<style scoped>\n",
       "    .dataframe tbody tr th:only-of-type {\n",
       "        vertical-align: middle;\n",
       "    }\n",
       "\n",
       "    .dataframe tbody tr th {\n",
       "        vertical-align: top;\n",
       "    }\n",
       "\n",
       "    .dataframe thead th {\n",
       "        text-align: right;\n",
       "    }\n",
       "</style>\n",
       "<table border=\"1\" class=\"dataframe\">\n",
       "  <thead>\n",
       "    <tr style=\"text-align: right;\">\n",
       "      <th></th>\n",
       "      <th>row_number</th>\n",
       "      <th>customer_id</th>\n",
       "      <th>surname</th>\n",
       "      <th>credit_score</th>\n",
       "      <th>geography</th>\n",
       "      <th>gender</th>\n",
       "      <th>age</th>\n",
       "      <th>tenure</th>\n",
       "      <th>balance</th>\n",
       "      <th>num_of_products</th>\n",
       "      <th>has_cr_card</th>\n",
       "      <th>is_active_member</th>\n",
       "      <th>estimated_salary</th>\n",
       "      <th>exited</th>\n",
       "    </tr>\n",
       "  </thead>\n",
       "  <tbody>\n",
       "    <tr>\n",
       "      <th>0</th>\n",
       "      <td>1</td>\n",
       "      <td>15634602</td>\n",
       "      <td>Hargrave</td>\n",
       "      <td>619</td>\n",
       "      <td>France</td>\n",
       "      <td>Female</td>\n",
       "      <td>42</td>\n",
       "      <td>2.0</td>\n",
       "      <td>0.00</td>\n",
       "      <td>1</td>\n",
       "      <td>1</td>\n",
       "      <td>1</td>\n",
       "      <td>101348.88</td>\n",
       "      <td>1</td>\n",
       "    </tr>\n",
       "    <tr>\n",
       "      <th>1</th>\n",
       "      <td>2</td>\n",
       "      <td>15647311</td>\n",
       "      <td>Hill</td>\n",
       "      <td>608</td>\n",
       "      <td>Spain</td>\n",
       "      <td>Female</td>\n",
       "      <td>41</td>\n",
       "      <td>1.0</td>\n",
       "      <td>83807.86</td>\n",
       "      <td>1</td>\n",
       "      <td>0</td>\n",
       "      <td>1</td>\n",
       "      <td>112542.58</td>\n",
       "      <td>0</td>\n",
       "    </tr>\n",
       "    <tr>\n",
       "      <th>2</th>\n",
       "      <td>3</td>\n",
       "      <td>15619304</td>\n",
       "      <td>Onio</td>\n",
       "      <td>502</td>\n",
       "      <td>France</td>\n",
       "      <td>Female</td>\n",
       "      <td>42</td>\n",
       "      <td>8.0</td>\n",
       "      <td>159660.80</td>\n",
       "      <td>3</td>\n",
       "      <td>1</td>\n",
       "      <td>0</td>\n",
       "      <td>113931.57</td>\n",
       "      <td>1</td>\n",
       "    </tr>\n",
       "    <tr>\n",
       "      <th>3</th>\n",
       "      <td>4</td>\n",
       "      <td>15701354</td>\n",
       "      <td>Boni</td>\n",
       "      <td>699</td>\n",
       "      <td>France</td>\n",
       "      <td>Female</td>\n",
       "      <td>39</td>\n",
       "      <td>1.0</td>\n",
       "      <td>0.00</td>\n",
       "      <td>2</td>\n",
       "      <td>0</td>\n",
       "      <td>0</td>\n",
       "      <td>93826.63</td>\n",
       "      <td>0</td>\n",
       "    </tr>\n",
       "    <tr>\n",
       "      <th>4</th>\n",
       "      <td>5</td>\n",
       "      <td>15737888</td>\n",
       "      <td>Mitchell</td>\n",
       "      <td>850</td>\n",
       "      <td>Spain</td>\n",
       "      <td>Female</td>\n",
       "      <td>43</td>\n",
       "      <td>2.0</td>\n",
       "      <td>125510.82</td>\n",
       "      <td>1</td>\n",
       "      <td>1</td>\n",
       "      <td>1</td>\n",
       "      <td>79084.10</td>\n",
       "      <td>0</td>\n",
       "    </tr>\n",
       "  </tbody>\n",
       "</table>\n",
       "</div>"
      ],
      "text/plain": [
       "   row_number  customer_id   surname  credit_score geography  gender  age  \\\n",
       "0           1     15634602  Hargrave           619    France  Female   42   \n",
       "1           2     15647311      Hill           608     Spain  Female   41   \n",
       "2           3     15619304      Onio           502    France  Female   42   \n",
       "3           4     15701354      Boni           699    France  Female   39   \n",
       "4           5     15737888  Mitchell           850     Spain  Female   43   \n",
       "\n",
       "   tenure    balance  num_of_products  has_cr_card  is_active_member  \\\n",
       "0     2.0       0.00                1            1                 1   \n",
       "1     1.0   83807.86                1            0                 1   \n",
       "2     8.0  159660.80                3            1                 0   \n",
       "3     1.0       0.00                2            0                 0   \n",
       "4     2.0  125510.82                1            1                 1   \n",
       "\n",
       "   estimated_salary  exited  \n",
       "0         101348.88       1  \n",
       "1         112542.58       0  \n",
       "2         113931.57       1  \n",
       "3          93826.63       0  \n",
       "4          79084.10       0  "
      ]
     },
     "execution_count": 7,
     "metadata": {},
     "output_type": "execute_result"
    }
   ],
   "source": [
    "list(map(lambda x: x.lower(), list(df.columns)))\n",
    "df.columns = ['row_number', 'customer_id', 'surname', 'credit_score', 'geography', \n",
    "              'gender', 'age', 'tenure', 'balance', 'num_of_products', 'has_cr_card',\n",
    "              'is_active_member', 'estimated_salary', 'exited']\n",
    "df.head()"
   ]
  },
  {
   "cell_type": "markdown",
   "metadata": {},
   "source": [
    "#### Вывод:\n",
    "Поменяли названия столбцов для красоты и лучшего восприятия"
   ]
  },
  {
   "cell_type": "markdown",
   "metadata": {},
   "source": [
    "**Заполнение пропусков**"
   ]
  },
  {
   "cell_type": "markdown",
   "metadata": {},
   "source": [
    "В столбце `tenure` есть пропущенные значения, которые стоит заполнить, так как иначе в дальнейшем модель не будет работать из-за этого"
   ]
  },
  {
   "cell_type": "code",
   "execution_count": 8,
   "metadata": {
    "scrolled": true
   },
   "outputs": [
    {
     "data": {
      "text/plain": [
       "1.0     952\n",
       "2.0     950\n",
       "8.0     933\n",
       "3.0     928\n",
       "5.0     927\n",
       "7.0     925\n",
       "4.0     885\n",
       "9.0     882\n",
       "6.0     881\n",
       "10.0    446\n",
       "0.0     382\n",
       "Name: tenure, dtype: int64"
      ]
     },
     "execution_count": 8,
     "metadata": {},
     "output_type": "execute_result"
    }
   ],
   "source": [
    "df['tenure'].value_counts()"
   ]
  },
  {
   "cell_type": "code",
   "execution_count": 9,
   "metadata": {},
   "outputs": [],
   "source": [
    "df['tenure'] = df['tenure'].fillna(df['tenure'].median())"
   ]
  },
  {
   "cell_type": "code",
   "execution_count": 10,
   "metadata": {},
   "outputs": [
    {
     "name": "stdout",
     "output_type": "stream",
     "text": [
      "<class 'pandas.core.frame.DataFrame'>\n",
      "RangeIndex: 10000 entries, 0 to 9999\n",
      "Data columns (total 14 columns):\n",
      " #   Column            Non-Null Count  Dtype  \n",
      "---  ------            --------------  -----  \n",
      " 0   row_number        10000 non-null  int64  \n",
      " 1   customer_id       10000 non-null  int64  \n",
      " 2   surname           10000 non-null  object \n",
      " 3   credit_score      10000 non-null  int64  \n",
      " 4   geography         10000 non-null  object \n",
      " 5   gender            10000 non-null  object \n",
      " 6   age               10000 non-null  int64  \n",
      " 7   tenure            10000 non-null  float64\n",
      " 8   balance           10000 non-null  float64\n",
      " 9   num_of_products   10000 non-null  int64  \n",
      " 10  has_cr_card       10000 non-null  int64  \n",
      " 11  is_active_member  10000 non-null  int64  \n",
      " 12  estimated_salary  10000 non-null  float64\n",
      " 13  exited            10000 non-null  int64  \n",
      "dtypes: float64(3), int64(8), object(3)\n",
      "memory usage: 1.1+ MB\n"
     ]
    }
   ],
   "source": [
    "df.info()"
   ]
  },
  {
   "cell_type": "markdown",
   "metadata": {},
   "source": [
    "#### Вывод:\n",
    "Заполнили пропуски средним значением, так как сильного разброса значений нет в столбце `tenure`"
   ]
  },
  {
   "cell_type": "markdown",
   "metadata": {},
   "source": [
    "### **Кодирование категориальных признаков**"
   ]
  },
  {
   "cell_type": "markdown",
   "metadata": {},
   "source": [
    "Посмотрим какие уникальные значения в столбцах `geography` и `gender`, чтобы понять можно ли безболезненно воспользоваться известными нам кодировками, в частности, One-Hot Encoding"
   ]
  },
  {
   "cell_type": "code",
   "execution_count": 11,
   "metadata": {},
   "outputs": [
    {
     "data": {
      "text/plain": [
       "array(['France', 'Spain', 'Germany'], dtype=object)"
      ]
     },
     "execution_count": 11,
     "metadata": {},
     "output_type": "execute_result"
    }
   ],
   "source": [
    "df.geography.unique()"
   ]
  },
  {
   "cell_type": "code",
   "execution_count": 12,
   "metadata": {},
   "outputs": [
    {
     "data": {
      "text/plain": [
       "array(['Female', 'Male'], dtype=object)"
      ]
     },
     "execution_count": 12,
     "metadata": {},
     "output_type": "execute_result"
    }
   ],
   "source": [
    "df.gender.unique()"
   ]
  },
  {
   "cell_type": "markdown",
   "metadata": {},
   "source": [
    "Видим, что OHE сюда прекрасно подойдет"
   ]
  },
  {
   "cell_type": "code",
   "execution_count": 13,
   "metadata": {},
   "outputs": [],
   "source": [
    "df = df.drop(['surname', 'customer_id', 'row_number'], axis=1)"
   ]
  },
  {
   "cell_type": "code",
   "execution_count": 14,
   "metadata": {},
   "outputs": [],
   "source": [
    "target = df['exited']\n",
    "features = df.drop(['exited'], axis=1)\n",
    "\n",
    "features_train, features_test, target_train, target_test = train_test_split(features, target, \n",
    "                                                                              test_size=0.25, random_state=STATE)\n",
    "features_train, features_valid, target_train, target_valid = train_test_split(features_train, target_train, \n",
    "                                                                              test_size=0.25, random_state=STATE)"
   ]
  },
  {
   "cell_type": "code",
   "execution_count": 15,
   "metadata": {},
   "outputs": [],
   "source": [
    "cat_features = ['geography', 'gender']\n",
    "\n",
    "ohe_encoder = OneHotEncoder(drop='first', sparse=False)\n",
    "\n",
    "train_temp = ohe_encoder.fit_transform(features_train[cat_features])\n",
    "features_train[ohe_encoder.get_feature_names_out()] = train_temp\n",
    "features_train.drop(cat_features, axis=1, inplace=True)\n",
    "\n",
    "valid_temp = ohe_encoder.transform(features_valid[cat_features])\n",
    "features_valid[ohe_encoder.get_feature_names_out()] = valid_temp\n",
    "features_valid.drop(cat_features, axis=1, inplace=True)\n",
    "\n",
    "test_temp = ohe_encoder.transform(features_test[cat_features])\n",
    "features_test[ohe_encoder.get_feature_names_out()] = test_temp\n",
    "features_test.drop(cat_features, axis=1, inplace=True)"
   ]
  },
  {
   "cell_type": "code",
   "execution_count": 16,
   "metadata": {},
   "outputs": [
    {
     "data": {
      "text/html": [
       "<div>\n",
       "<style scoped>\n",
       "    .dataframe tbody tr th:only-of-type {\n",
       "        vertical-align: middle;\n",
       "    }\n",
       "\n",
       "    .dataframe tbody tr th {\n",
       "        vertical-align: top;\n",
       "    }\n",
       "\n",
       "    .dataframe thead th {\n",
       "        text-align: right;\n",
       "    }\n",
       "</style>\n",
       "<table border=\"1\" class=\"dataframe\">\n",
       "  <thead>\n",
       "    <tr style=\"text-align: right;\">\n",
       "      <th></th>\n",
       "      <th>credit_score</th>\n",
       "      <th>age</th>\n",
       "      <th>tenure</th>\n",
       "      <th>balance</th>\n",
       "      <th>num_of_products</th>\n",
       "      <th>has_cr_card</th>\n",
       "      <th>is_active_member</th>\n",
       "      <th>estimated_salary</th>\n",
       "      <th>geography_Germany</th>\n",
       "      <th>geography_Spain</th>\n",
       "      <th>gender_Male</th>\n",
       "    </tr>\n",
       "  </thead>\n",
       "  <tbody>\n",
       "    <tr>\n",
       "      <th>9315</th>\n",
       "      <td>694</td>\n",
       "      <td>42</td>\n",
       "      <td>8.0</td>\n",
       "      <td>133767.19</td>\n",
       "      <td>1</td>\n",
       "      <td>1</td>\n",
       "      <td>0</td>\n",
       "      <td>36405.21</td>\n",
       "      <td>0.0</td>\n",
       "      <td>0.0</td>\n",
       "      <td>1.0</td>\n",
       "    </tr>\n",
       "    <tr>\n",
       "      <th>58</th>\n",
       "      <td>511</td>\n",
       "      <td>66</td>\n",
       "      <td>4.0</td>\n",
       "      <td>0.00</td>\n",
       "      <td>1</td>\n",
       "      <td>1</td>\n",
       "      <td>0</td>\n",
       "      <td>1643.11</td>\n",
       "      <td>0.0</td>\n",
       "      <td>1.0</td>\n",
       "      <td>0.0</td>\n",
       "    </tr>\n",
       "    <tr>\n",
       "      <th>4609</th>\n",
       "      <td>581</td>\n",
       "      <td>34</td>\n",
       "      <td>1.0</td>\n",
       "      <td>0.00</td>\n",
       "      <td>2</td>\n",
       "      <td>0</td>\n",
       "      <td>1</td>\n",
       "      <td>81175.25</td>\n",
       "      <td>0.0</td>\n",
       "      <td>1.0</td>\n",
       "      <td>1.0</td>\n",
       "    </tr>\n",
       "    <tr>\n",
       "      <th>9958</th>\n",
       "      <td>537</td>\n",
       "      <td>37</td>\n",
       "      <td>6.0</td>\n",
       "      <td>0.00</td>\n",
       "      <td>1</td>\n",
       "      <td>1</td>\n",
       "      <td>1</td>\n",
       "      <td>17802.42</td>\n",
       "      <td>0.0</td>\n",
       "      <td>0.0</td>\n",
       "      <td>1.0</td>\n",
       "    </tr>\n",
       "    <tr>\n",
       "      <th>16</th>\n",
       "      <td>653</td>\n",
       "      <td>58</td>\n",
       "      <td>1.0</td>\n",
       "      <td>132602.88</td>\n",
       "      <td>1</td>\n",
       "      <td>1</td>\n",
       "      <td>0</td>\n",
       "      <td>5097.67</td>\n",
       "      <td>1.0</td>\n",
       "      <td>0.0</td>\n",
       "      <td>1.0</td>\n",
       "    </tr>\n",
       "    <tr>\n",
       "      <th>...</th>\n",
       "      <td>...</td>\n",
       "      <td>...</td>\n",
       "      <td>...</td>\n",
       "      <td>...</td>\n",
       "      <td>...</td>\n",
       "      <td>...</td>\n",
       "      <td>...</td>\n",
       "      <td>...</td>\n",
       "      <td>...</td>\n",
       "      <td>...</td>\n",
       "      <td>...</td>\n",
       "    </tr>\n",
       "    <tr>\n",
       "      <th>1661</th>\n",
       "      <td>690</td>\n",
       "      <td>32</td>\n",
       "      <td>0.0</td>\n",
       "      <td>106683.52</td>\n",
       "      <td>2</td>\n",
       "      <td>1</td>\n",
       "      <td>1</td>\n",
       "      <td>137916.49</td>\n",
       "      <td>1.0</td>\n",
       "      <td>0.0</td>\n",
       "      <td>1.0</td>\n",
       "    </tr>\n",
       "    <tr>\n",
       "      <th>3419</th>\n",
       "      <td>674</td>\n",
       "      <td>26</td>\n",
       "      <td>10.0</td>\n",
       "      <td>0.00</td>\n",
       "      <td>2</td>\n",
       "      <td>1</td>\n",
       "      <td>1</td>\n",
       "      <td>138423.10</td>\n",
       "      <td>0.0</td>\n",
       "      <td>0.0</td>\n",
       "      <td>0.0</td>\n",
       "    </tr>\n",
       "    <tr>\n",
       "      <th>3148</th>\n",
       "      <td>648</td>\n",
       "      <td>39</td>\n",
       "      <td>6.0</td>\n",
       "      <td>130694.89</td>\n",
       "      <td>2</td>\n",
       "      <td>1</td>\n",
       "      <td>1</td>\n",
       "      <td>153955.38</td>\n",
       "      <td>0.0</td>\n",
       "      <td>0.0</td>\n",
       "      <td>0.0</td>\n",
       "    </tr>\n",
       "    <tr>\n",
       "      <th>5617</th>\n",
       "      <td>626</td>\n",
       "      <td>43</td>\n",
       "      <td>4.0</td>\n",
       "      <td>137638.69</td>\n",
       "      <td>1</td>\n",
       "      <td>1</td>\n",
       "      <td>0</td>\n",
       "      <td>130442.08</td>\n",
       "      <td>0.0</td>\n",
       "      <td>0.0</td>\n",
       "      <td>1.0</td>\n",
       "    </tr>\n",
       "    <tr>\n",
       "      <th>480</th>\n",
       "      <td>788</td>\n",
       "      <td>34</td>\n",
       "      <td>6.0</td>\n",
       "      <td>156478.62</td>\n",
       "      <td>1</td>\n",
       "      <td>0</td>\n",
       "      <td>1</td>\n",
       "      <td>181196.76</td>\n",
       "      <td>0.0</td>\n",
       "      <td>1.0</td>\n",
       "      <td>1.0</td>\n",
       "    </tr>\n",
       "  </tbody>\n",
       "</table>\n",
       "<p>5625 rows × 11 columns</p>\n",
       "</div>"
      ],
      "text/plain": [
       "      credit_score  age  tenure    balance  num_of_products  has_cr_card  \\\n",
       "9315           694   42     8.0  133767.19                1            1   \n",
       "58             511   66     4.0       0.00                1            1   \n",
       "4609           581   34     1.0       0.00                2            0   \n",
       "9958           537   37     6.0       0.00                1            1   \n",
       "16             653   58     1.0  132602.88                1            1   \n",
       "...            ...  ...     ...        ...              ...          ...   \n",
       "1661           690   32     0.0  106683.52                2            1   \n",
       "3419           674   26    10.0       0.00                2            1   \n",
       "3148           648   39     6.0  130694.89                2            1   \n",
       "5617           626   43     4.0  137638.69                1            1   \n",
       "480            788   34     6.0  156478.62                1            0   \n",
       "\n",
       "      is_active_member  estimated_salary  geography_Germany  geography_Spain  \\\n",
       "9315                 0          36405.21                0.0              0.0   \n",
       "58                   0           1643.11                0.0              1.0   \n",
       "4609                 1          81175.25                0.0              1.0   \n",
       "9958                 1          17802.42                0.0              0.0   \n",
       "16                   0           5097.67                1.0              0.0   \n",
       "...                ...               ...                ...              ...   \n",
       "1661                 1         137916.49                1.0              0.0   \n",
       "3419                 1         138423.10                0.0              0.0   \n",
       "3148                 1         153955.38                0.0              0.0   \n",
       "5617                 0         130442.08                0.0              0.0   \n",
       "480                  1         181196.76                0.0              1.0   \n",
       "\n",
       "      gender_Male  \n",
       "9315          1.0  \n",
       "58            0.0  \n",
       "4609          1.0  \n",
       "9958          1.0  \n",
       "16            1.0  \n",
       "...           ...  \n",
       "1661          1.0  \n",
       "3419          0.0  \n",
       "3148          0.0  \n",
       "5617          1.0  \n",
       "480           1.0  \n",
       "\n",
       "[5625 rows x 11 columns]"
      ]
     },
     "execution_count": 16,
     "metadata": {},
     "output_type": "execute_result"
    }
   ],
   "source": [
    "features_train"
   ]
  },
  {
   "cell_type": "markdown",
   "metadata": {},
   "source": [
    "#### Вывод:\n",
    "Вот и получили, что в датасете теперь нет категориальных признаков"
   ]
  },
  {
   "cell_type": "markdown",
   "metadata": {},
   "source": [
    "### Маштабирование признаков"
   ]
  },
  {
   "cell_type": "markdown",
   "metadata": {},
   "source": [
    "Проведем стандартизацию всех численных признаков"
   ]
  },
  {
   "cell_type": "code",
   "execution_count": 19,
   "metadata": {},
   "outputs": [],
   "source": [
    "numeric = ['credit_score', 'age', 'tenure', 'balance', 'estimated_salary']\n",
    "\n",
    "scaler = StandardScaler()\n",
    "scaler.fit(features_train[numeric])\n",
    "\n",
    "features_train[numeric] = scaler.transform(features_train[numeric])\n",
    "features_valid[numeric] = scaler.transform(features_valid[numeric])\n",
    "features_test[numeric] = scaler.transform(features_test[numeric])"
   ]
  },
  {
   "cell_type": "code",
   "execution_count": 20,
   "metadata": {},
   "outputs": [
    {
     "data": {
      "text/html": [
       "<div>\n",
       "<style scoped>\n",
       "    .dataframe tbody tr th:only-of-type {\n",
       "        vertical-align: middle;\n",
       "    }\n",
       "\n",
       "    .dataframe tbody tr th {\n",
       "        vertical-align: top;\n",
       "    }\n",
       "\n",
       "    .dataframe thead th {\n",
       "        text-align: right;\n",
       "    }\n",
       "</style>\n",
       "<table border=\"1\" class=\"dataframe\">\n",
       "  <thead>\n",
       "    <tr style=\"text-align: right;\">\n",
       "      <th></th>\n",
       "      <th>credit_score</th>\n",
       "      <th>age</th>\n",
       "      <th>tenure</th>\n",
       "      <th>balance</th>\n",
       "      <th>num_of_products</th>\n",
       "      <th>has_cr_card</th>\n",
       "      <th>is_active_member</th>\n",
       "      <th>estimated_salary</th>\n",
       "      <th>geography_Germany</th>\n",
       "      <th>geography_Spain</th>\n",
       "      <th>gender_Male</th>\n",
       "    </tr>\n",
       "  </thead>\n",
       "  <tbody>\n",
       "    <tr>\n",
       "      <th>9315</th>\n",
       "      <td>0.436123</td>\n",
       "      <td>0.302839</td>\n",
       "      <td>1.073302</td>\n",
       "      <td>0.932262</td>\n",
       "      <td>1</td>\n",
       "      <td>1</td>\n",
       "      <td>0</td>\n",
       "      <td>-1.121738</td>\n",
       "      <td>0.0</td>\n",
       "      <td>0.0</td>\n",
       "      <td>1.0</td>\n",
       "    </tr>\n",
       "    <tr>\n",
       "      <th>58</th>\n",
       "      <td>-1.458825</td>\n",
       "      <td>2.563332</td>\n",
       "      <td>-0.377280</td>\n",
       "      <td>-1.217770</td>\n",
       "      <td>1</td>\n",
       "      <td>1</td>\n",
       "      <td>0</td>\n",
       "      <td>-1.724514</td>\n",
       "      <td>0.0</td>\n",
       "      <td>1.0</td>\n",
       "      <td>0.0</td>\n",
       "    </tr>\n",
       "    <tr>\n",
       "      <th>4609</th>\n",
       "      <td>-0.733981</td>\n",
       "      <td>-0.450659</td>\n",
       "      <td>-1.465217</td>\n",
       "      <td>-1.217770</td>\n",
       "      <td>2</td>\n",
       "      <td>0</td>\n",
       "      <td>1</td>\n",
       "      <td>-0.345423</td>\n",
       "      <td>0.0</td>\n",
       "      <td>1.0</td>\n",
       "      <td>1.0</td>\n",
       "    </tr>\n",
       "    <tr>\n",
       "      <th>9958</th>\n",
       "      <td>-1.189597</td>\n",
       "      <td>-0.168097</td>\n",
       "      <td>0.348011</td>\n",
       "      <td>-1.217770</td>\n",
       "      <td>1</td>\n",
       "      <td>1</td>\n",
       "      <td>1</td>\n",
       "      <td>-1.444311</td>\n",
       "      <td>0.0</td>\n",
       "      <td>0.0</td>\n",
       "      <td>1.0</td>\n",
       "    </tr>\n",
       "    <tr>\n",
       "      <th>16</th>\n",
       "      <td>0.011572</td>\n",
       "      <td>1.809834</td>\n",
       "      <td>-1.465217</td>\n",
       "      <td>0.913549</td>\n",
       "      <td>1</td>\n",
       "      <td>1</td>\n",
       "      <td>0</td>\n",
       "      <td>-1.664612</td>\n",
       "      <td>1.0</td>\n",
       "      <td>0.0</td>\n",
       "      <td>1.0</td>\n",
       "    </tr>\n",
       "    <tr>\n",
       "      <th>...</th>\n",
       "      <td>...</td>\n",
       "      <td>...</td>\n",
       "      <td>...</td>\n",
       "      <td>...</td>\n",
       "      <td>...</td>\n",
       "      <td>...</td>\n",
       "      <td>...</td>\n",
       "      <td>...</td>\n",
       "      <td>...</td>\n",
       "      <td>...</td>\n",
       "      <td>...</td>\n",
       "    </tr>\n",
       "    <tr>\n",
       "      <th>1661</th>\n",
       "      <td>0.394703</td>\n",
       "      <td>-0.639033</td>\n",
       "      <td>-1.827862</td>\n",
       "      <td>0.496948</td>\n",
       "      <td>2</td>\n",
       "      <td>1</td>\n",
       "      <td>1</td>\n",
       "      <td>0.638472</td>\n",
       "      <td>1.0</td>\n",
       "      <td>0.0</td>\n",
       "      <td>1.0</td>\n",
       "    </tr>\n",
       "    <tr>\n",
       "      <th>3419</th>\n",
       "      <td>0.229025</td>\n",
       "      <td>-1.204156</td>\n",
       "      <td>1.798593</td>\n",
       "      <td>-1.217770</td>\n",
       "      <td>2</td>\n",
       "      <td>1</td>\n",
       "      <td>1</td>\n",
       "      <td>0.647257</td>\n",
       "      <td>0.0</td>\n",
       "      <td>0.0</td>\n",
       "      <td>0.0</td>\n",
       "    </tr>\n",
       "    <tr>\n",
       "      <th>3148</th>\n",
       "      <td>-0.040203</td>\n",
       "      <td>0.020277</td>\n",
       "      <td>0.348011</td>\n",
       "      <td>0.882882</td>\n",
       "      <td>2</td>\n",
       "      <td>1</td>\n",
       "      <td>1</td>\n",
       "      <td>0.916587</td>\n",
       "      <td>0.0</td>\n",
       "      <td>0.0</td>\n",
       "      <td>0.0</td>\n",
       "    </tr>\n",
       "    <tr>\n",
       "      <th>5617</th>\n",
       "      <td>-0.268011</td>\n",
       "      <td>0.397026</td>\n",
       "      <td>-0.377280</td>\n",
       "      <td>0.994489</td>\n",
       "      <td>1</td>\n",
       "      <td>1</td>\n",
       "      <td>0</td>\n",
       "      <td>0.508866</td>\n",
       "      <td>0.0</td>\n",
       "      <td>0.0</td>\n",
       "      <td>1.0</td>\n",
       "    </tr>\n",
       "    <tr>\n",
       "      <th>480</th>\n",
       "      <td>1.409484</td>\n",
       "      <td>-0.450659</td>\n",
       "      <td>0.348011</td>\n",
       "      <td>1.297302</td>\n",
       "      <td>1</td>\n",
       "      <td>0</td>\n",
       "      <td>1</td>\n",
       "      <td>1.388954</td>\n",
       "      <td>0.0</td>\n",
       "      <td>1.0</td>\n",
       "      <td>1.0</td>\n",
       "    </tr>\n",
       "  </tbody>\n",
       "</table>\n",
       "<p>5625 rows × 11 columns</p>\n",
       "</div>"
      ],
      "text/plain": [
       "      credit_score       age    tenure   balance  num_of_products  \\\n",
       "9315      0.436123  0.302839  1.073302  0.932262                1   \n",
       "58       -1.458825  2.563332 -0.377280 -1.217770                1   \n",
       "4609     -0.733981 -0.450659 -1.465217 -1.217770                2   \n",
       "9958     -1.189597 -0.168097  0.348011 -1.217770                1   \n",
       "16        0.011572  1.809834 -1.465217  0.913549                1   \n",
       "...            ...       ...       ...       ...              ...   \n",
       "1661      0.394703 -0.639033 -1.827862  0.496948                2   \n",
       "3419      0.229025 -1.204156  1.798593 -1.217770                2   \n",
       "3148     -0.040203  0.020277  0.348011  0.882882                2   \n",
       "5617     -0.268011  0.397026 -0.377280  0.994489                1   \n",
       "480       1.409484 -0.450659  0.348011  1.297302                1   \n",
       "\n",
       "      has_cr_card  is_active_member  estimated_salary  geography_Germany  \\\n",
       "9315            1                 0         -1.121738                0.0   \n",
       "58              1                 0         -1.724514                0.0   \n",
       "4609            0                 1         -0.345423                0.0   \n",
       "9958            1                 1         -1.444311                0.0   \n",
       "16              1                 0         -1.664612                1.0   \n",
       "...           ...               ...               ...                ...   \n",
       "1661            1                 1          0.638472                1.0   \n",
       "3419            1                 1          0.647257                0.0   \n",
       "3148            1                 1          0.916587                0.0   \n",
       "5617            1                 0          0.508866                0.0   \n",
       "480             0                 1          1.388954                0.0   \n",
       "\n",
       "      geography_Spain  gender_Male  \n",
       "9315              0.0          1.0  \n",
       "58                1.0          0.0  \n",
       "4609              1.0          1.0  \n",
       "9958              0.0          1.0  \n",
       "16                0.0          1.0  \n",
       "...               ...          ...  \n",
       "1661              0.0          1.0  \n",
       "3419              0.0          0.0  \n",
       "3148              0.0          0.0  \n",
       "5617              0.0          1.0  \n",
       "480               1.0          1.0  \n",
       "\n",
       "[5625 rows x 11 columns]"
      ]
     },
     "execution_count": 20,
     "metadata": {},
     "output_type": "execute_result"
    }
   ],
   "source": [
    "features_train"
   ]
  },
  {
   "cell_type": "markdown",
   "metadata": {},
   "source": [
    "## Исследование задачи"
   ]
  },
  {
   "cell_type": "markdown",
   "metadata": {},
   "source": [
    "Имеем итоговые данные, по которым можно провести обучение модели без учета дисбаланса классов"
   ]
  },
  {
   "cell_type": "code",
   "execution_count": 21,
   "metadata": {},
   "outputs": [
    {
     "data": {
      "text/html": [
       "<style>#sk-container-id-1 {color: black;background-color: white;}#sk-container-id-1 pre{padding: 0;}#sk-container-id-1 div.sk-toggleable {background-color: white;}#sk-container-id-1 label.sk-toggleable__label {cursor: pointer;display: block;width: 100%;margin-bottom: 0;padding: 0.3em;box-sizing: border-box;text-align: center;}#sk-container-id-1 label.sk-toggleable__label-arrow:before {content: \"▸\";float: left;margin-right: 0.25em;color: #696969;}#sk-container-id-1 label.sk-toggleable__label-arrow:hover:before {color: black;}#sk-container-id-1 div.sk-estimator:hover label.sk-toggleable__label-arrow:before {color: black;}#sk-container-id-1 div.sk-toggleable__content {max-height: 0;max-width: 0;overflow: hidden;text-align: left;background-color: #f0f8ff;}#sk-container-id-1 div.sk-toggleable__content pre {margin: 0.2em;color: black;border-radius: 0.25em;background-color: #f0f8ff;}#sk-container-id-1 input.sk-toggleable__control:checked~div.sk-toggleable__content {max-height: 200px;max-width: 100%;overflow: auto;}#sk-container-id-1 input.sk-toggleable__control:checked~label.sk-toggleable__label-arrow:before {content: \"▾\";}#sk-container-id-1 div.sk-estimator input.sk-toggleable__control:checked~label.sk-toggleable__label {background-color: #d4ebff;}#sk-container-id-1 div.sk-label input.sk-toggleable__control:checked~label.sk-toggleable__label {background-color: #d4ebff;}#sk-container-id-1 input.sk-hidden--visually {border: 0;clip: rect(1px 1px 1px 1px);clip: rect(1px, 1px, 1px, 1px);height: 1px;margin: -1px;overflow: hidden;padding: 0;position: absolute;width: 1px;}#sk-container-id-1 div.sk-estimator {font-family: monospace;background-color: #f0f8ff;border: 1px dotted black;border-radius: 0.25em;box-sizing: border-box;margin-bottom: 0.5em;}#sk-container-id-1 div.sk-estimator:hover {background-color: #d4ebff;}#sk-container-id-1 div.sk-parallel-item::after {content: \"\";width: 100%;border-bottom: 1px solid gray;flex-grow: 1;}#sk-container-id-1 div.sk-label:hover label.sk-toggleable__label {background-color: #d4ebff;}#sk-container-id-1 div.sk-serial::before {content: \"\";position: absolute;border-left: 1px solid gray;box-sizing: border-box;top: 0;bottom: 0;left: 50%;z-index: 0;}#sk-container-id-1 div.sk-serial {display: flex;flex-direction: column;align-items: center;background-color: white;padding-right: 0.2em;padding-left: 0.2em;position: relative;}#sk-container-id-1 div.sk-item {position: relative;z-index: 1;}#sk-container-id-1 div.sk-parallel {display: flex;align-items: stretch;justify-content: center;background-color: white;position: relative;}#sk-container-id-1 div.sk-item::before, #sk-container-id-1 div.sk-parallel-item::before {content: \"\";position: absolute;border-left: 1px solid gray;box-sizing: border-box;top: 0;bottom: 0;left: 50%;z-index: -1;}#sk-container-id-1 div.sk-parallel-item {display: flex;flex-direction: column;z-index: 1;position: relative;background-color: white;}#sk-container-id-1 div.sk-parallel-item:first-child::after {align-self: flex-end;width: 50%;}#sk-container-id-1 div.sk-parallel-item:last-child::after {align-self: flex-start;width: 50%;}#sk-container-id-1 div.sk-parallel-item:only-child::after {width: 0;}#sk-container-id-1 div.sk-dashed-wrapped {border: 1px dashed gray;margin: 0 0.4em 0.5em 0.4em;box-sizing: border-box;padding-bottom: 0.4em;background-color: white;}#sk-container-id-1 div.sk-label label {font-family: monospace;font-weight: bold;display: inline-block;line-height: 1.2em;}#sk-container-id-1 div.sk-label-container {text-align: center;}#sk-container-id-1 div.sk-container {/* jupyter's `normalize.less` sets `[hidden] { display: none; }` but bootstrap.min.css set `[hidden] { display: none !important; }` so we also need the `!important` here to be able to override the default hidden behavior on the sphinx rendered scikit-learn.org. See: https://github.com/scikit-learn/scikit-learn/issues/21755 */display: inline-block !important;position: relative;}#sk-container-id-1 div.sk-text-repr-fallback {display: none;}</style><div id=\"sk-container-id-1\" class=\"sk-top-container\"><div class=\"sk-text-repr-fallback\"><pre>LogisticRegression(random_state=12345, solver=&#x27;liblinear&#x27;)</pre><b>In a Jupyter environment, please rerun this cell to show the HTML representation or trust the notebook. <br />On GitHub, the HTML representation is unable to render, please try loading this page with nbviewer.org.</b></div><div class=\"sk-container\" hidden><div class=\"sk-item\"><div class=\"sk-estimator sk-toggleable\"><input class=\"sk-toggleable__control sk-hidden--visually\" id=\"sk-estimator-id-1\" type=\"checkbox\" checked><label for=\"sk-estimator-id-1\" class=\"sk-toggleable__label sk-toggleable__label-arrow\">LogisticRegression</label><div class=\"sk-toggleable__content\"><pre>LogisticRegression(random_state=12345, solver=&#x27;liblinear&#x27;)</pre></div></div></div></div></div>"
      ],
      "text/plain": [
       "LogisticRegression(random_state=12345, solver='liblinear')"
      ]
     },
     "execution_count": 21,
     "metadata": {},
     "output_type": "execute_result"
    }
   ],
   "source": [
    "model = LogisticRegression(solver='liblinear', random_state=STATE)\n",
    "model.fit(features_train, target_train)"
   ]
  },
  {
   "cell_type": "code",
   "execution_count": 22,
   "metadata": {},
   "outputs": [
    {
     "data": {
      "text/plain": [
       "0.8128"
      ]
     },
     "execution_count": 22,
     "metadata": {},
     "output_type": "execute_result"
    }
   ],
   "source": [
    "predicted_valid = model.predict(features_valid)\n",
    "accuracy = accuracy_score(target_valid, predicted_valid)\n",
    "accuracy"
   ]
  },
  {
   "cell_type": "markdown",
   "metadata": {},
   "source": [
    "Теперь посмотрим на константную модель, чтобы оценить адекватность модели"
   ]
  },
  {
   "cell_type": "code",
   "execution_count": 23,
   "metadata": {},
   "outputs": [
    {
     "data": {
      "text/plain": [
       "0.7973333333333333"
      ]
     },
     "execution_count": 23,
     "metadata": {},
     "output_type": "execute_result"
    }
   ],
   "source": [
    "target_pred_constant = pd.Series([0] * len(target_valid))\n",
    "accuracy = accuracy_score(target_valid, target_pred_constant)\n",
    "accuracy"
   ]
  },
  {
   "cell_type": "markdown",
   "metadata": {},
   "source": [
    "Получается, что точность для константной модели и для модели линейной регрессии одинаковая) Это стоит исправить, скорее всего у нас присутствует большой дисбаланс классов, посмотрим на него:"
   ]
  },
  {
   "cell_type": "code",
   "execution_count": 24,
   "metadata": {},
   "outputs": [
    {
     "data": {
      "text/plain": [
       "Text(0, 0.5, 'Стандартизированное значение частоты встречаемости классов')"
      ]
     },
     "execution_count": 24,
     "metadata": {},
     "output_type": "execute_result"
    },
    {
     "data": {
      "image/png": "[encoded data removed]",
      "text/plain": [
       "<Figure size 504x504 with 1 Axes>"
      ]
     },
     "metadata": {
      "needs_background": "light"
     },
     "output_type": "display_data"
    }
   ],
   "source": [
    "target.value_counts(normalize=True).plot(kind='bar', figsize=(7, 7))\n",
    "plt.title('Отношение классов в target')\n",
    "plt.xlabel('Названия классов')\n",
    "plt.ylabel('Стандартизированное значение частоты встречаемости классов')"
   ]
  },
  {
   "cell_type": "code",
   "execution_count": 25,
   "metadata": {},
   "outputs": [
    {
     "data": {
      "text/plain": [
       "Text(0, 0.5, 'Стандартизированное значение частоты встречаемости классов')"
      ]
     },
     "execution_count": 25,
     "metadata": {},
     "output_type": "execute_result"
    },
    {
     "data": {
      "image/png": "[encoded data removed]",
      "text/plain": [
       "<Figure size 504x504 with 1 Axes>"
      ]
     },
     "metadata": {
      "needs_background": "light"
     },
     "output_type": "display_data"
    }
   ],
   "source": [
    "pd.Series(predicted_valid).value_counts(normalize=True).plot(kind=\"bar\", figsize=(7, 7))\n",
    "plt.title('Отношение классов в predicted_valid')\n",
    "plt.xlabel('Названия классов')\n",
    "plt.ylabel('Стандартизированное значение частоты встречаемости классов')"
   ]
  },
  {
   "cell_type": "markdown",
   "metadata": {},
   "source": [
    "Отношение классов 4 / 1, это явный дисбаланс. Дальнейший перебор гиперпараметров и моделей в целом ничего не поменяет, а значит стоит устранить дисбаланс классов. Причем наша модель предсказывает как и константная, а значит что-то явно не так. Смысла смотреть другие метрики нет, такие как precision, recall и F1 нет смысла, так как наша модель вообще не определяет другого класса, а значит и большинство метрик будут бесполезными(F1 уж точно). Но так как мы занимаемся исследованием, то посмотрим на модели без учета дисбаланса."
   ]
  },
  {
   "cell_type": "markdown",
   "metadata": {},
   "source": [
    "**LogReg**"
   ]
  },
  {
   "cell_type": "code",
   "execution_count": 26,
   "metadata": {},
   "outputs": [
    {
     "name": "stdout",
     "output_type": "stream",
     "text": [
      "F1: 0.3131115459882583\n",
      "ROC-AUC: 0.5882063017074459\n"
     ]
    }
   ],
   "source": [
    "model = LogisticRegression(solver='liblinear', random_state=STATE)\n",
    "model.fit(features_train, target_train)\n",
    "\n",
    "predict_valid = model.predict(features_valid)\n",
    "print(\"F1:\", f1_score(target_valid, predicted_valid))\n",
    "print('ROC-AUC:', roc_auc_score(target_valid, predicted_valid))"
   ]
  },
  {
   "cell_type": "markdown",
   "metadata": {},
   "source": [
    "**TreeClassifier**"
   ]
  },
  {
   "cell_type": "code",
   "execution_count": 27,
   "metadata": {},
   "outputs": [
    {
     "name": "stdout",
     "output_type": "stream",
     "text": [
      "F1: 0.3131115459882583\n",
      "ROC-AUC: 0.5882063017074459\n"
     ]
    }
   ],
   "source": [
    "model = DecisionTreeClassifier(random_state=STATE)\n",
    "model.fit(features_train, target_train)\n",
    "\n",
    "predict_valid = model.predict(features_valid)\n",
    "print(\"F1:\", f1_score(target_valid, predicted_valid))\n",
    "print('ROC-AUC:', roc_auc_score(target_valid, predicted_valid))"
   ]
  },
  {
   "cell_type": "markdown",
   "metadata": {},
   "source": [
    "**RandomForest**"
   ]
  },
  {
   "cell_type": "code",
   "execution_count": 28,
   "metadata": {},
   "outputs": [
    {
     "name": "stdout",
     "output_type": "stream",
     "text": [
      "F1: 0.3131115459882583\n",
      "ROC-AUC: 0.5882063017074459\n"
     ]
    }
   ],
   "source": [
    "model = RandomForestClassifier(random_state=STATE)\n",
    "model.fit(features_train, target_train)\n",
    "\n",
    "predict_valid = model.predict(features_valid)\n",
    "print(\"F1:\", f1_score(target_valid, predicted_valid))\n",
    "print('ROC-AUC:', roc_auc_score(target_valid, predicted_valid))"
   ]
  },
  {
   "cell_type": "markdown",
   "metadata": {},
   "source": [
    "#### Вывод:\n",
    "Увидели явный дисбаланс классов в наших данных, без его учета все модели классификации показывают низкие значения метрик"
   ]
  },
  {
   "cell_type": "markdown",
   "metadata": {},
   "source": [
    "## Борьба с дисбалансом"
   ]
  },
  {
   "cell_type": "markdown",
   "metadata": {},
   "source": [
    "**Взвешенные классы**"
   ]
  },
  {
   "cell_type": "code",
   "execution_count": 29,
   "metadata": {},
   "outputs": [
    {
     "name": "stdout",
     "output_type": "stream",
     "text": [
      "F1: 0.5203405865657521\n",
      "ROC-AUC: 0.727393944728041\n"
     ]
    }
   ],
   "source": [
    "model = LogisticRegression(random_state=STATE, solver='liblinear', class_weight='balanced')\n",
    "model.fit(features_train, target_train)\n",
    "predicted_valid = model.predict(features_valid)\n",
    "print(\"F1:\", f1_score(target_valid, predicted_valid))\n",
    "print('ROC-AUC:', roc_auc_score(target_valid, predicted_valid))"
   ]
  },
  {
   "cell_type": "markdown",
   "metadata": {},
   "source": [
    "**Upstamping**"
   ]
  },
  {
   "cell_type": "code",
   "execution_count": 30,
   "metadata": {},
   "outputs": [],
   "source": [
    "def upsample(features, target, repeat):\n",
    "    features_zeros = features[target == 0]\n",
    "    features_ones = features[target == 1]\n",
    "    target_zeros = target[target == 0]\n",
    "    target_ones = target[target == 1]\n",
    "\n",
    "    features_upsampled = pd.concat([features_zeros] + [features_ones] * repeat)\n",
    "    target_upsampled = pd.concat([target_zeros] + [target_ones] * repeat)\n",
    "    \n",
    "    features_upsampled, target_upsampled = shuffle(\n",
    "        features_upsampled, target_upsampled, random_state=12345)\n",
    "    \n",
    "    return features_upsampled, target_upsampled\n",
    "\n",
    "features_upsampled, target_upsampled = upsample(features_train, target_train, 4)"
   ]
  },
  {
   "cell_type": "markdown",
   "metadata": {},
   "source": [
    "**LogReg upsampled**"
   ]
  },
  {
   "cell_type": "code",
   "execution_count": 31,
   "metadata": {},
   "outputs": [
    {
     "name": "stdout",
     "output_type": "stream",
     "text": [
      "F1: 0.5213270142180095\n",
      "ROC-AUC: 0.728062841049111\n"
     ]
    }
   ],
   "source": [
    "model = LogisticRegression(random_state=STATE, solver='liblinear')\n",
    "model.fit(features_upsampled, target_upsampled)\n",
    "predicted_valid = model.predict(features_valid)\n",
    "\n",
    "print(\"F1:\", f1_score(target_valid, predicted_valid))\n",
    "print('ROC-AUC:', roc_auc_score(target_valid, predicted_valid))"
   ]
  },
  {
   "cell_type": "markdown",
   "metadata": {},
   "source": [
    "**RandomForest upsampled**"
   ]
  },
  {
   "cell_type": "code",
   "execution_count": 32,
   "metadata": {},
   "outputs": [
    {
     "name": "stdout",
     "output_type": "stream",
     "text": [
      "F1: 0.5927\n",
      "ROC-AUC: 0.7329915507833128\n"
     ]
    }
   ],
   "source": [
    "model_upstamping = RandomForestClassifier(random_state=STATE)\n",
    "\n",
    "model_upstamping.fit(features_upsampled, target_upsampled)\n",
    "predicted_valid = model_upstamping.predict(features_valid)\n",
    "\n",
    "print(\"F1:\", f1_score(target_valid, predicted_valid).round(4))\n",
    "print('ROC-AUC:', roc_auc_score(target_valid, predicted_valid))"
   ]
  },
  {
   "cell_type": "markdown",
   "metadata": {},
   "source": [
    "**Downstamping**"
   ]
  },
  {
   "cell_type": "code",
   "execution_count": 33,
   "metadata": {},
   "outputs": [],
   "source": [
    "def downsample(features, target, fraction):\n",
    "    features_zeros = features[target == 0]\n",
    "    features_ones = features[target == 1]\n",
    "    target_zeros = target[target == 0]\n",
    "    target_ones = target[target == 1]\n",
    "\n",
    "    features_downsampled = pd.concat(\n",
    "        [features_ones.sample(frac=fraction, random_state=STATE)] + [features_zeros])\n",
    "    target_downsampled = pd.concat(\n",
    "        [target_ones.sample(frac=fraction, random_state=STATE)] + [target_zeros])\n",
    "    \n",
    "    features_downsampled, target_downsampled = shuffle(\n",
    "        features_downsampled, target_downsampled, random_state=STATE)\n",
    "    \n",
    "    return features_downsampled, target_downsampled\n",
    "\n",
    "features_downsampled, target_downsampled = downsample(features_train, target_train, 0.25)"
   ]
  },
  {
   "cell_type": "markdown",
   "metadata": {},
   "source": [
    "**LogReg downsampled**"
   ]
  },
  {
   "cell_type": "code",
   "execution_count": 34,
   "metadata": {
    "scrolled": true
   },
   "outputs": [
    {
     "name": "stdout",
     "output_type": "stream",
     "text": [
      "F1: 0.020779220779220776\n",
      "ROC-AUC: 0.5049287097342017\n"
     ]
    }
   ],
   "source": [
    "model.fit(features_downsampled, target_downsampled)\n",
    "predicted_valid = model.predict(features_valid)\n",
    "print(\"F1:\", f1_score(target_valid, predicted_valid))\n",
    "print('ROC-AUC:', roc_auc_score(target_valid, predicted_valid))"
   ]
  },
  {
   "cell_type": "markdown",
   "metadata": {},
   "source": [
    "**Random Forest downsampled**"
   ]
  },
  {
   "cell_type": "code",
   "execution_count": 35,
   "metadata": {},
   "outputs": [
    {
     "name": "stdout",
     "output_type": "stream",
     "text": [
      "F1: 0.3397\n",
      "ROC-AUC: 0.6015842281288505\n"
     ]
    }
   ],
   "source": [
    "model_upstamping.fit(features_downsampled, target_downsampled)\n",
    "predicted_valid = model_upstamping.predict(features_valid)\n",
    "\n",
    "print(\"F1:\", f1_score(target_valid, predicted_valid).round(4))\n",
    "print('ROC-AUC:', roc_auc_score(target_valid, predicted_valid))"
   ]
  },
  {
   "cell_type": "markdown",
   "metadata": {},
   "source": [
    "**Изменение порога**"
   ]
  },
  {
   "cell_type": "code",
   "execution_count": 36,
   "metadata": {},
   "outputs": [
    {
     "name": "stdout",
     "output_type": "stream",
     "text": [
      "Порог = 0.10 | F1 = 0.503 | ROC-AUC = 0.690\n",
      "Порог = 0.12 | F1 = 0.468 | ROC-AUC = 0.663\n",
      "Порог = 0.14 | F1 = 0.420 | ROC-AUC = 0.635\n",
      "Порог = 0.16 | F1 = 0.376 | ROC-AUC = 0.613\n",
      "Порог = 0.18 | F1 = 0.348 | ROC-AUC = 0.602\n",
      "Порог = 0.20 | F1 = 0.315 | ROC-AUC = 0.590\n",
      "Порог = 0.22 | F1 = 0.275 | ROC-AUC = 0.576\n",
      "Порог = 0.24 | F1 = 0.261 | ROC-AUC = 0.573\n",
      "Порог = 0.26 | F1 = 0.205 | ROC-AUC = 0.554\n",
      "Порог = 0.28 | F1 = 0.169 | ROC-AUC = 0.544\n",
      "Порог = 0.30 | F1 = 0.143 | ROC-AUC = 0.536\n",
      "Порог = 0.32 | F1 = 0.126 | ROC-AUC = 0.532\n",
      "Порог = 0.34 | F1 = 0.089 | ROC-AUC = 0.522\n",
      "Порог = 0.36 | F1 = 0.065 | ROC-AUC = 0.515\n",
      "Порог = 0.38 | F1 = 0.066 | ROC-AUC = 0.516\n",
      "Порог = 0.40 | F1 = 0.041 | ROC-AUC = 0.510\n",
      "Порог = 0.42 | F1 = 0.031 | ROC-AUC = 0.507\n",
      "Порог = 0.44 | F1 = 0.026 | ROC-AUC = 0.506\n"
     ]
    }
   ],
   "source": [
    "probabilities_valid = model.predict_proba(features_valid)\n",
    "probabilities_one_valid = probabilities_valid[:, 1]\n",
    "\n",
    "for threshold in np.arange(0.1, 0.45, 0.02):\n",
    "    predicted_valid = probabilities_one_valid > threshold\n",
    "    F1 = f1_score(target_valid, predicted_valid)\n",
    "    ROC_AUC = roc_auc_score(target_valid, predicted_valid)\n",
    "    print(\"Порог = {:.2f} | F1 = {:.3f} | ROC-AUC = {:.3f}\".format(\n",
    "        threshold, F1, ROC_AUC))"
   ]
  },
  {
   "cell_type": "markdown",
   "metadata": {},
   "source": [
    "Как видим, наилучший вариант борьбы с дисбалансом это взвешенные классы и upsampled, осталось подумать как улучшить саму модель"
   ]
  },
  {
   "cell_type": "markdown",
   "metadata": {},
   "source": [
    "**DecisionTreeClassifier**"
   ]
  },
  {
   "cell_type": "code",
   "execution_count": 37,
   "metadata": {},
   "outputs": [],
   "source": [
    "parametrs_tree_classifier = { 'max_depth': range (1,13, 2),\n",
    "    'min_samples_split': range (2,10,2),\n",
    "    'criterion': ['gini', 'entropy', 'log_loss'],\n",
    "    'min_samples_leaf': range (1,8)\n",
    "}"
   ]
  },
  {
   "cell_type": "code",
   "execution_count": 38,
   "metadata": {},
   "outputs": [
    {
     "data": {
      "text/html": [
       "<style>#sk-container-id-2 {color: black;background-color: white;}#sk-container-id-2 pre{padding: 0;}#sk-container-id-2 div.sk-toggleable {background-color: white;}#sk-container-id-2 label.sk-toggleable__label {cursor: pointer;display: block;width: 100%;margin-bottom: 0;padding: 0.3em;box-sizing: border-box;text-align: center;}#sk-container-id-2 label.sk-toggleable__label-arrow:before {content: \"▸\";float: left;margin-right: 0.25em;color: #696969;}#sk-container-id-2 label.sk-toggleable__label-arrow:hover:before {color: black;}#sk-container-id-2 div.sk-estimator:hover label.sk-toggleable__label-arrow:before {color: black;}#sk-container-id-2 div.sk-toggleable__content {max-height: 0;max-width: 0;overflow: hidden;text-align: left;background-color: #f0f8ff;}#sk-container-id-2 div.sk-toggleable__content pre {margin: 0.2em;color: black;border-radius: 0.25em;background-color: #f0f8ff;}#sk-container-id-2 input.sk-toggleable__control:checked~div.sk-toggleable__content {max-height: 200px;max-width: 100%;overflow: auto;}#sk-container-id-2 input.sk-toggleable__control:checked~label.sk-toggleable__label-arrow:before {content: \"▾\";}#sk-container-id-2 div.sk-estimator input.sk-toggleable__control:checked~label.sk-toggleable__label {background-color: #d4ebff;}#sk-container-id-2 div.sk-label input.sk-toggleable__control:checked~label.sk-toggleable__label {background-color: #d4ebff;}#sk-container-id-2 input.sk-hidden--visually {border: 0;clip: rect(1px 1px 1px 1px);clip: rect(1px, 1px, 1px, 1px);height: 1px;margin: -1px;overflow: hidden;padding: 0;position: absolute;width: 1px;}#sk-container-id-2 div.sk-estimator {font-family: monospace;background-color: #f0f8ff;border: 1px dotted black;border-radius: 0.25em;box-sizing: border-box;margin-bottom: 0.5em;}#sk-container-id-2 div.sk-estimator:hover {background-color: #d4ebff;}#sk-container-id-2 div.sk-parallel-item::after {content: \"\";width: 100%;border-bottom: 1px solid gray;flex-grow: 1;}#sk-container-id-2 div.sk-label:hover label.sk-toggleable__label {background-color: #d4ebff;}#sk-container-id-2 div.sk-serial::before {content: \"\";position: absolute;border-left: 1px solid gray;box-sizing: border-box;top: 0;bottom: 0;left: 50%;z-index: 0;}#sk-container-id-2 div.sk-serial {display: flex;flex-direction: column;align-items: center;background-color: white;padding-right: 0.2em;padding-left: 0.2em;position: relative;}#sk-container-id-2 div.sk-item {position: relative;z-index: 1;}#sk-container-id-2 div.sk-parallel {display: flex;align-items: stretch;justify-content: center;background-color: white;position: relative;}#sk-container-id-2 div.sk-item::before, #sk-container-id-2 div.sk-parallel-item::before {content: \"\";position: absolute;border-left: 1px solid gray;box-sizing: border-box;top: 0;bottom: 0;left: 50%;z-index: -1;}#sk-container-id-2 div.sk-parallel-item {display: flex;flex-direction: column;z-index: 1;position: relative;background-color: white;}#sk-container-id-2 div.sk-parallel-item:first-child::after {align-self: flex-end;width: 50%;}#sk-container-id-2 div.sk-parallel-item:last-child::after {align-self: flex-start;width: 50%;}#sk-container-id-2 div.sk-parallel-item:only-child::after {width: 0;}#sk-container-id-2 div.sk-dashed-wrapped {border: 1px dashed gray;margin: 0 0.4em 0.5em 0.4em;box-sizing: border-box;padding-bottom: 0.4em;background-color: white;}#sk-container-id-2 div.sk-label label {font-family: monospace;font-weight: bold;display: inline-block;line-height: 1.2em;}#sk-container-id-2 div.sk-label-container {text-align: center;}#sk-container-id-2 div.sk-container {/* jupyter's `normalize.less` sets `[hidden] { display: none; }` but bootstrap.min.css set `[hidden] { display: none !important; }` so we also need the `!important` here to be able to override the default hidden behavior on the sphinx rendered scikit-learn.org. See: https://github.com/scikit-learn/scikit-learn/issues/21755 */display: inline-block !important;position: relative;}#sk-container-id-2 div.sk-text-repr-fallback {display: none;}</style><div id=\"sk-container-id-2\" class=\"sk-top-container\"><div class=\"sk-text-repr-fallback\"><pre>GridSearchCV(estimator=DecisionTreeClassifier(class_weight=&#x27;balanced&#x27;,\n",
       "                                              random_state=12345),\n",
       "             param_grid={&#x27;criterion&#x27;: [&#x27;gini&#x27;, &#x27;entropy&#x27;, &#x27;log_loss&#x27;],\n",
       "                         &#x27;max_depth&#x27;: range(1, 13, 2),\n",
       "                         &#x27;min_samples_leaf&#x27;: range(1, 8),\n",
       "                         &#x27;min_samples_split&#x27;: range(2, 10, 2)},\n",
       "             scoring=&#x27;f1&#x27;)</pre><b>In a Jupyter environment, please rerun this cell to show the HTML representation or trust the notebook. <br />On GitHub, the HTML representation is unable to render, please try loading this page with nbviewer.org.</b></div><div class=\"sk-container\" hidden><div class=\"sk-item sk-dashed-wrapped\"><div class=\"sk-label-container\"><div class=\"sk-label sk-toggleable\"><input class=\"sk-toggleable__control sk-hidden--visually\" id=\"sk-estimator-id-2\" type=\"checkbox\" ><label for=\"sk-estimator-id-2\" class=\"sk-toggleable__label sk-toggleable__label-arrow\">GridSearchCV</label><div class=\"sk-toggleable__content\"><pre>GridSearchCV(estimator=DecisionTreeClassifier(class_weight=&#x27;balanced&#x27;,\n",
       "                                              random_state=12345),\n",
       "             param_grid={&#x27;criterion&#x27;: [&#x27;gini&#x27;, &#x27;entropy&#x27;, &#x27;log_loss&#x27;],\n",
       "                         &#x27;max_depth&#x27;: range(1, 13, 2),\n",
       "                         &#x27;min_samples_leaf&#x27;: range(1, 8),\n",
       "                         &#x27;min_samples_split&#x27;: range(2, 10, 2)},\n",
       "             scoring=&#x27;f1&#x27;)</pre></div></div></div><div class=\"sk-parallel\"><div class=\"sk-parallel-item\"><div class=\"sk-item\"><div class=\"sk-label-container\"><div class=\"sk-label sk-toggleable\"><input class=\"sk-toggleable__control sk-hidden--visually\" id=\"sk-estimator-id-3\" type=\"checkbox\" ><label for=\"sk-estimator-id-3\" class=\"sk-toggleable__label sk-toggleable__label-arrow\">estimator: DecisionTreeClassifier</label><div class=\"sk-toggleable__content\"><pre>DecisionTreeClassifier(class_weight=&#x27;balanced&#x27;, random_state=12345)</pre></div></div></div><div class=\"sk-serial\"><div class=\"sk-item\"><div class=\"sk-estimator sk-toggleable\"><input class=\"sk-toggleable__control sk-hidden--visually\" id=\"sk-estimator-id-4\" type=\"checkbox\" ><label for=\"sk-estimator-id-4\" class=\"sk-toggleable__label sk-toggleable__label-arrow\">DecisionTreeClassifier</label><div class=\"sk-toggleable__content\"><pre>DecisionTreeClassifier(class_weight=&#x27;balanced&#x27;, random_state=12345)</pre></div></div></div></div></div></div></div></div></div></div>"
      ],
      "text/plain": [
       "GridSearchCV(estimator=DecisionTreeClassifier(class_weight='balanced',\n",
       "                                              random_state=12345),\n",
       "             param_grid={'criterion': ['gini', 'entropy', 'log_loss'],\n",
       "                         'max_depth': range(1, 13, 2),\n",
       "                         'min_samples_leaf': range(1, 8),\n",
       "                         'min_samples_split': range(2, 10, 2)},\n",
       "             scoring='f1')"
      ]
     },
     "execution_count": 38,
     "metadata": {},
     "output_type": "execute_result"
    }
   ],
   "source": [
    "model = DecisionTreeClassifier(random_state=STATE, class_weight='balanced')\n",
    "grid = GridSearchCV(model, parametrs_tree_classifier, scoring='f1')\n",
    "grid.fit(features_train, target_train)"
   ]
  },
  {
   "cell_type": "code",
   "execution_count": 39,
   "metadata": {},
   "outputs": [
    {
     "data": {
      "text/plain": [
       "{'criterion': 'gini',\n",
       " 'max_depth': 7,\n",
       " 'min_samples_leaf': 2,\n",
       " 'min_samples_split': 8}"
      ]
     },
     "execution_count": 39,
     "metadata": {},
     "output_type": "execute_result"
    }
   ],
   "source": [
    "grid.best_params_"
   ]
  },
  {
   "cell_type": "code",
   "execution_count": 40,
   "metadata": {},
   "outputs": [
    {
     "name": "stdout",
     "output_type": "stream",
     "text": [
      "Лучшее значение метрики F1: 0.5754\n",
      "ROC-AUC: 0.5062444992078858\n"
     ]
    }
   ],
   "source": [
    "model = DecisionTreeClassifier(random_state=STATE, class_weight='balanced', **grid.best_params_)\n",
    "model.fit(features_train, target_train)\n",
    "predict_valid = model.predict(features_valid)\n",
    "print(f'Лучшее значение метрики F1: {f1_score(predict_valid, target_valid).round(4)}')\n",
    "print('ROC-AUC:', roc_auc_score(target_valid, predicted_valid))"
   ]
  },
  {
   "cell_type": "markdown",
   "metadata": {},
   "source": [
    "**RandomForest**"
   ]
  },
  {
   "cell_type": "code",
   "execution_count": 41,
   "metadata": {},
   "outputs": [],
   "source": [
    "parametrs_random_forest = { 'n_estimators': range (10, 51, 10),\n",
    "              'max_depth': range (1,13, 2),\n",
    "              'min_samples_leaf': range (1,8),\n",
    "              'min_samples_split': range (2,10,2) }"
   ]
  },
  {
   "cell_type": "code",
   "execution_count": null,
   "metadata": {},
   "outputs": [],
   "source": [
    "model = RandomForestClassifier(random_state=STATE, class_weight='balanced')\n",
    "grid = GridSearchCV(model, parametrs_random_forest, scoring='f1')\n",
    "grid.fit(features_train, target_train)"
   ]
  },
  {
   "cell_type": "code",
   "execution_count": null,
   "metadata": {},
   "outputs": [],
   "source": [
    "grid.best_params_"
   ]
  },
  {
   "cell_type": "code",
   "execution_count": null,
   "metadata": {},
   "outputs": [],
   "source": [
    "best_forest_model = RandomForestClassifier(random_state=STATE, class_weight='balanced', **grid.best_params_)\n",
    "\n",
    "best_forest_model.fit(features_train, target_train)\n",
    "best_forest_result = best_forest_model.score(features_valid, target_valid)\n",
    "print('Лучшее значение F1:', f1_score(target_valid, best_forest_model.predict(features_valid)).round(4))\n",
    "print('ROC-AUC:', roc_auc_score(target_valid, predicted_valid).round(4))"
   ]
  },
  {
   "cell_type": "markdown",
   "metadata": {},
   "source": [
    "**LogReg**"
   ]
  },
  {
   "cell_type": "code",
   "execution_count": null,
   "metadata": {},
   "outputs": [],
   "source": [
    "parametrs_regression = { 'solver': ['lbfgs', 'liblinear', 'newton-cg', 'newton-cholesky', 'sag', 'saga'],\n",
    "    'max_iter': range (500, 2500, 500)\n",
    "}"
   ]
  },
  {
   "cell_type": "code",
   "execution_count": null,
   "metadata": {},
   "outputs": [],
   "source": [
    "model = LogisticRegression(random_state=STATE, class_weight='balanced')\n",
    "grid = GridSearchCV(model, parametrs_regression)\n",
    "grid.fit(features_train, target_train)"
   ]
  },
  {
   "cell_type": "code",
   "execution_count": null,
   "metadata": {},
   "outputs": [],
   "source": [
    "grid.best_params_"
   ]
  },
  {
   "cell_type": "code",
   "execution_count": null,
   "metadata": {},
   "outputs": [],
   "source": [
    "best_regression_model = LogisticRegression(max_iter=500, solver='newton-cholesky', random_state=STATE, class_weight='balanced')\n",
    "best_regression_model.fit(features_train, target_train)\n",
    "valid_predict = best_regression_model.predict(features_valid)\n",
    "best_regression_accuracy = f1_score(target_valid, predict_valid)\n",
    "print(f'Лучшее значение F1: {best_regression_accuracy.round(4)}')\n",
    "print('ROC-AUC:', roc_auc_score(target_valid, predicted_valid).round(4))"
   ]
  },
  {
   "cell_type": "markdown",
   "metadata": {},
   "source": [
    "**Random Forest с upsampling**"
   ]
  },
  {
   "cell_type": "code",
   "execution_count": null,
   "metadata": {},
   "outputs": [],
   "source": [
    "forest_upsampling_model = RandomForestClassifier(random_state=STATE)\n",
    "grid = GridSearchCV(forest_upsampling_model, parametrs_random_forest)\n",
    "grid.fit(features_upsampled, target_upsampled)"
   ]
  },
  {
   "cell_type": "code",
   "execution_count": null,
   "metadata": {},
   "outputs": [],
   "source": [
    "grid.best_params_"
   ]
  },
  {
   "cell_type": "code",
   "execution_count": null,
   "metadata": {},
   "outputs": [],
   "source": [
    "model = RandomForestClassifier(random_state=STATE, **grid.best_params_)\n",
    "\n",
    "model.fit(features_upsampled, target_upsampled)\n",
    "predict_valid = model.predict(features_valid)\n",
    "print('F1:', f1_score(target_valid, predict_valid))\n",
    "print('ROC-AUC:', roc_auc_score(target_valid, predicted_valid).round(4))"
   ]
  },
  {
   "cell_type": "markdown",
   "metadata": {},
   "source": [
    "#### Вывод:\n",
    "Лучшее значение F1-метрики у дерева решений, что не удивительно, методом GridSearch были найдены лучшие гиперпараметры, которые помогли достичь результата в 0,634 по F1-метрике. Все таки upsampling оказался лучше, чем взвешивание классов"
   ]
  },
  {
   "cell_type": "markdown",
   "metadata": {},
   "source": [
    "## Тестирование модели"
   ]
  },
  {
   "cell_type": "markdown",
   "metadata": {},
   "source": [
    "Возьмем наилучшую модель RandomForest и посмотрим F1-меру на тестовой выборке для моделей обученных на выборке с upstamping и взвешенными классами соответственно:"
   ]
  },
  {
   "cell_type": "code",
   "execution_count": null,
   "metadata": {},
   "outputs": [],
   "source": [
    "print('F1:', f1_score(target_test, model.predict(features_test)).round(4))"
   ]
  },
  {
   "cell_type": "code",
   "execution_count": null,
   "metadata": {},
   "outputs": [],
   "source": [
    "print('F1:', f1_score(target_test, best_forest_model.predict(features_test)).round(4))"
   ]
  },
  {
   "cell_type": "markdown",
   "metadata": {},
   "source": [
    "Модель с upstamping показала лучший результат, значит ROC-AUC будем рассчитывать именно для этой модели"
   ]
  },
  {
   "cell_type": "code",
   "execution_count": null,
   "metadata": {},
   "outputs": [],
   "source": [
    "probabilities_test = model_upstamping.predict_proba(features_test)\n",
    "probabilities_one_test = probabilities_test[:, 1]\n",
    "\n",
    "auc_roc = roc_auc_score(target_test, probabilities_one_test)\n",
    "auc_roc"
   ]
  },
  {
   "cell_type": "code",
   "execution_count": null,
   "metadata": {},
   "outputs": [],
   "source": [
    "fpr, tpr, thresholds = roc_curve(target_test, probabilities_one_test)\n",
    "\n",
    "plt.figure()\n",
    "plt.plot(fpr, tpr)\n",
    "plt.plot([0, 1], [0, 1], linestyle='--')\n",
    "plt.ylim(0, 1)\n",
    "plt.xlim(0, 1)\n",
    "plt.xlabel('False Positive Rate')\n",
    "plt.ylabel('True Positive Rate')\n",
    "plt.title('ROC-кривая')"
   ]
  },
  {
   "cell_type": "markdown",
   "metadata": {},
   "source": [
    "Видим, что по графику мы можем оценить нашу модель model_upstamping(RandomForest) как качественную, так как площадь под синей линией примерно равна 0,85"
   ]
  },
  {
   "cell_type": "markdown",
   "metadata": {},
   "source": [
    "#### Вывод:\n",
    "Провели тестирование, значение F1-метрики: 0.6382. ROC-кривая отображает хорошоее качество полученнйо модели"
   ]
  },
  {
   "cell_type": "markdown",
   "metadata": {},
   "source": [
    "## Вывод:"
   ]
  },
  {
   "cell_type": "markdown",
   "metadata": {},
   "source": [
    "В процессе выполнения проекта были сделаны следующие пункты:\n",
    "- Предобработка данных. В данном разделе все категориальные переменные, которые имели смысл были переведены в количественные путем One_Hot_Encoding. Также все столбцы были приведены к snake_case, и заполнены пропски в столбце `tenure`.\n",
    "- Исследована задача. Были исследованы следующие пункты: дисбаланс классов, изучены метрики построенных моделей без учета дисбаланса, сделаны выводы о том, как бороться с дисбалансом\n",
    "- Учет дисбаланса. В данном разделе были изучены несколько вариантов борьбы с дисбалансом классов, самые успешные оказались upstamping и взвешивание классов, были постороены первые модели с учетом дисбаланса. Далее с помощью GridSearchSV и перебора гиперпараметров были получены лучшие гиперпараметры.\n",
    "- Проведено тестирование. На тестировании двух лучших моделей с разным подходом учета дисбаланса были получены F1-метрики, близкие к 0,64. ROC-AUC показывает высокое качество лучшей модели, которая обучена с upstamping. Площадь под ROC-AUC ~~ 0,85"
   ]
  }
 ],
 "metadata": {
  "ExecuteTimeLog": [
   {
    "duration": 1509,
    "start_time": "2023-06-11T13:05:41.378Z"
   },
   {
    "duration": 92,
    "start_time": "2023-06-11T13:08:08.061Z"
   },
   {
    "duration": 16,
    "start_time": "2023-06-11T13:08:08.719Z"
   },
   {
    "duration": 29,
    "start_time": "2023-06-11T13:08:08.895Z"
   },
   {
    "duration": 13,
    "start_time": "2023-06-11T13:08:09.853Z"
   },
   {
    "duration": 6,
    "start_time": "2023-06-11T13:08:10.800Z"
   },
   {
    "duration": 4,
    "start_time": "2023-06-11T13:08:11.089Z"
   },
   {
    "duration": 11,
    "start_time": "2023-06-11T13:08:11.761Z"
   },
   {
    "duration": 4,
    "start_time": "2023-06-11T13:08:13.871Z"
   },
   {
    "duration": 5,
    "start_time": "2023-06-11T13:08:14.053Z"
   },
   {
    "duration": 110,
    "start_time": "2023-06-11T13:08:14.714Z"
   },
   {
    "duration": 30,
    "start_time": "2023-06-11T13:08:16.505Z"
   },
   {
    "duration": 122,
    "start_time": "2023-06-11T13:09:54.685Z"
   },
   {
    "duration": 9,
    "start_time": "2023-06-11T13:09:57.979Z"
   },
   {
    "duration": 21,
    "start_time": "2023-06-11T13:09:59.061Z"
   },
   {
    "duration": 15,
    "start_time": "2023-06-11T13:10:09.292Z"
   },
   {
    "duration": 7312,
    "start_time": "2023-06-12T06:32:36.835Z"
   },
   {
    "duration": 3,
    "start_time": "2023-06-12T06:32:44.149Z"
   },
   {
    "duration": 426,
    "start_time": "2023-06-12T06:32:44.217Z"
   },
   {
    "duration": 189,
    "start_time": "2023-06-12T06:32:44.652Z"
   },
   {
    "duration": 297,
    "start_time": "2023-06-12T06:32:44.918Z"
   },
   {
    "duration": 493,
    "start_time": "2023-06-12T06:32:45.230Z"
   },
   {
    "duration": 315,
    "start_time": "2023-06-12T06:32:45.724Z"
   },
   {
    "duration": 190,
    "start_time": "2023-06-12T06:32:46.043Z"
   },
   {
    "duration": 289,
    "start_time": "2023-06-12T06:32:46.244Z"
   },
   {
    "duration": 294,
    "start_time": "2023-06-12T06:32:46.543Z"
   },
   {
    "duration": 293,
    "start_time": "2023-06-12T06:32:46.838Z"
   },
   {
    "duration": 188,
    "start_time": "2023-06-12T06:32:47.141Z"
   },
   {
    "duration": 111,
    "start_time": "2023-06-12T06:32:47.330Z"
   },
   {
    "duration": 893,
    "start_time": "2023-06-12T06:32:47.451Z"
   },
   {
    "duration": 0,
    "start_time": "2023-06-12T06:32:48.444Z"
   },
   {
    "duration": 0,
    "start_time": "2023-06-12T06:32:48.450Z"
   },
   {
    "duration": 0,
    "start_time": "2023-06-12T06:32:48.451Z"
   },
   {
    "duration": 0,
    "start_time": "2023-06-12T06:32:48.452Z"
   },
   {
    "duration": 0,
    "start_time": "2023-06-12T06:32:48.452Z"
   },
   {
    "duration": 0,
    "start_time": "2023-06-12T06:32:48.453Z"
   },
   {
    "duration": 0,
    "start_time": "2023-06-12T06:32:48.454Z"
   },
   {
    "duration": 0,
    "start_time": "2023-06-12T06:32:48.455Z"
   },
   {
    "duration": 0,
    "start_time": "2023-06-12T06:32:48.456Z"
   },
   {
    "duration": 0,
    "start_time": "2023-06-12T06:32:48.456Z"
   },
   {
    "duration": 0,
    "start_time": "2023-06-12T06:32:48.517Z"
   },
   {
    "duration": 0,
    "start_time": "2023-06-12T06:32:48.518Z"
   },
   {
    "duration": 0,
    "start_time": "2023-06-12T06:32:48.518Z"
   },
   {
    "duration": 0,
    "start_time": "2023-06-12T06:32:48.519Z"
   },
   {
    "duration": 0,
    "start_time": "2023-06-12T06:32:48.519Z"
   },
   {
    "duration": 0,
    "start_time": "2023-06-12T06:32:48.520Z"
   },
   {
    "duration": 0,
    "start_time": "2023-06-12T06:32:48.520Z"
   },
   {
    "duration": 0,
    "start_time": "2023-06-12T06:32:48.525Z"
   },
   {
    "duration": 0,
    "start_time": "2023-06-12T06:32:48.526Z"
   },
   {
    "duration": 0,
    "start_time": "2023-06-12T06:32:48.527Z"
   },
   {
    "duration": 0,
    "start_time": "2023-06-12T06:32:48.528Z"
   },
   {
    "duration": 0,
    "start_time": "2023-06-12T06:32:48.529Z"
   },
   {
    "duration": 0,
    "start_time": "2023-06-12T06:32:48.530Z"
   },
   {
    "duration": 0,
    "start_time": "2023-06-12T06:32:48.531Z"
   },
   {
    "duration": 0,
    "start_time": "2023-06-12T06:32:48.532Z"
   },
   {
    "duration": 0,
    "start_time": "2023-06-12T06:32:48.537Z"
   },
   {
    "duration": 0,
    "start_time": "2023-06-12T06:32:48.538Z"
   },
   {
    "duration": 0,
    "start_time": "2023-06-12T06:32:48.539Z"
   },
   {
    "duration": 0,
    "start_time": "2023-06-12T06:32:48.540Z"
   },
   {
    "duration": 0,
    "start_time": "2023-06-12T06:32:48.557Z"
   },
   {
    "duration": 0,
    "start_time": "2023-06-12T06:32:48.558Z"
   },
   {
    "duration": 1,
    "start_time": "2023-06-12T06:32:48.558Z"
   },
   {
    "duration": 0,
    "start_time": "2023-06-12T06:32:48.559Z"
   },
   {
    "duration": 0,
    "start_time": "2023-06-12T06:32:48.559Z"
   },
   {
    "duration": 0,
    "start_time": "2023-06-12T06:32:48.560Z"
   },
   {
    "duration": 0,
    "start_time": "2023-06-12T06:32:48.560Z"
   },
   {
    "duration": 0,
    "start_time": "2023-06-12T06:32:48.561Z"
   },
   {
    "duration": 0,
    "start_time": "2023-06-12T06:32:48.561Z"
   },
   {
    "duration": 0,
    "start_time": "2023-06-12T06:32:48.562Z"
   },
   {
    "duration": 27412,
    "start_time": "2023-06-12T06:33:28.124Z"
   },
   {
    "duration": 7885,
    "start_time": "2023-06-12T06:33:55.539Z"
   },
   {
    "duration": 19,
    "start_time": "2023-06-12T06:34:03.429Z"
   },
   {
    "duration": 711,
    "start_time": "2023-06-12T06:34:03.518Z"
   },
   {
    "duration": 183,
    "start_time": "2023-06-12T06:34:04.237Z"
   },
   {
    "duration": 317,
    "start_time": "2023-06-12T06:34:04.424Z"
   },
   {
    "duration": 366,
    "start_time": "2023-06-12T06:34:04.757Z"
   },
   {
    "duration": 99,
    "start_time": "2023-06-12T06:34:05.129Z"
   },
   {
    "duration": 300,
    "start_time": "2023-06-12T06:34:05.229Z"
   },
   {
    "duration": 304,
    "start_time": "2023-06-12T06:34:05.537Z"
   },
   {
    "duration": 280,
    "start_time": "2023-06-12T06:34:05.845Z"
   },
   {
    "duration": 14,
    "start_time": "2023-06-12T06:34:06.126Z"
   },
   {
    "duration": 74,
    "start_time": "2023-06-12T06:34:06.144Z"
   },
   {
    "duration": 197,
    "start_time": "2023-06-12T06:34:06.234Z"
   },
   {
    "duration": 690,
    "start_time": "2023-06-12T06:34:06.454Z"
   },
   {
    "duration": 0,
    "start_time": "2023-06-12T06:34:07.220Z"
   },
   {
    "duration": 0,
    "start_time": "2023-06-12T06:34:07.239Z"
   },
   {
    "duration": 0,
    "start_time": "2023-06-12T06:34:07.243Z"
   },
   {
    "duration": 0,
    "start_time": "2023-06-12T06:34:07.249Z"
   },
   {
    "duration": 0,
    "start_time": "2023-06-12T06:34:07.250Z"
   },
   {
    "duration": 0,
    "start_time": "2023-06-12T06:34:07.251Z"
   },
   {
    "duration": 0,
    "start_time": "2023-06-12T06:34:07.251Z"
   },
   {
    "duration": 0,
    "start_time": "2023-06-12T06:34:07.252Z"
   },
   {
    "duration": 0,
    "start_time": "2023-06-12T06:34:07.252Z"
   },
   {
    "duration": 0,
    "start_time": "2023-06-12T06:34:07.324Z"
   },
   {
    "duration": 0,
    "start_time": "2023-06-12T06:34:07.336Z"
   },
   {
    "duration": 0,
    "start_time": "2023-06-12T06:34:07.337Z"
   },
   {
    "duration": 0,
    "start_time": "2023-06-12T06:34:07.338Z"
   },
   {
    "duration": 16,
    "start_time": "2023-06-12T06:34:07.339Z"
   },
   {
    "duration": 0,
    "start_time": "2023-06-12T06:34:07.421Z"
   },
   {
    "duration": 0,
    "start_time": "2023-06-12T06:34:07.425Z"
   },
   {
    "duration": 0,
    "start_time": "2023-06-12T06:34:07.426Z"
   },
   {
    "duration": 0,
    "start_time": "2023-06-12T06:34:07.426Z"
   },
   {
    "duration": 0,
    "start_time": "2023-06-12T06:34:07.427Z"
   },
   {
    "duration": 0,
    "start_time": "2023-06-12T06:34:07.427Z"
   },
   {
    "duration": 0,
    "start_time": "2023-06-12T06:34:07.433Z"
   },
   {
    "duration": 1,
    "start_time": "2023-06-12T06:34:07.435Z"
   },
   {
    "duration": 0,
    "start_time": "2023-06-12T06:34:07.436Z"
   },
   {
    "duration": 0,
    "start_time": "2023-06-12T06:34:07.439Z"
   },
   {
    "duration": 0,
    "start_time": "2023-06-12T06:34:07.449Z"
   },
   {
    "duration": 0,
    "start_time": "2023-06-12T06:34:07.450Z"
   },
   {
    "duration": 0,
    "start_time": "2023-06-12T06:34:07.452Z"
   },
   {
    "duration": 0,
    "start_time": "2023-06-12T06:34:07.453Z"
   },
   {
    "duration": 0,
    "start_time": "2023-06-12T06:34:07.521Z"
   },
   {
    "duration": 0,
    "start_time": "2023-06-12T06:34:07.522Z"
   },
   {
    "duration": 0,
    "start_time": "2023-06-12T06:34:07.525Z"
   },
   {
    "duration": 0,
    "start_time": "2023-06-12T06:34:07.526Z"
   },
   {
    "duration": 0,
    "start_time": "2023-06-12T06:34:07.527Z"
   },
   {
    "duration": 0,
    "start_time": "2023-06-12T06:34:07.527Z"
   },
   {
    "duration": 0,
    "start_time": "2023-06-12T06:34:07.533Z"
   },
   {
    "duration": 0,
    "start_time": "2023-06-12T06:34:07.534Z"
   },
   {
    "duration": 0,
    "start_time": "2023-06-12T06:34:07.536Z"
   },
   {
    "duration": 0,
    "start_time": "2023-06-12T06:34:07.537Z"
   },
   {
    "duration": 0,
    "start_time": "2023-06-12T06:34:07.538Z"
   },
   {
    "duration": 43487,
    "start_time": "2023-06-12T06:34:40.329Z"
   },
   {
    "duration": 6137,
    "start_time": "2023-06-12T06:35:23.818Z"
   },
   {
    "duration": 29,
    "start_time": "2023-06-12T06:35:30.016Z"
   },
   {
    "duration": 670,
    "start_time": "2023-06-12T06:35:30.051Z"
   },
   {
    "duration": 97,
    "start_time": "2023-06-12T06:35:30.731Z"
   },
   {
    "duration": 189,
    "start_time": "2023-06-12T06:35:30.834Z"
   },
   {
    "duration": 294,
    "start_time": "2023-06-12T06:35:31.031Z"
   },
   {
    "duration": 393,
    "start_time": "2023-06-12T06:35:31.329Z"
   },
   {
    "duration": 17,
    "start_time": "2023-06-12T06:35:31.724Z"
   },
   {
    "duration": 296,
    "start_time": "2023-06-12T06:35:31.747Z"
   },
   {
    "duration": 98,
    "start_time": "2023-06-12T06:35:32.127Z"
   },
   {
    "duration": 398,
    "start_time": "2023-06-12T06:35:32.226Z"
   },
   {
    "duration": 392,
    "start_time": "2023-06-12T06:35:32.629Z"
   },
   {
    "duration": 610,
    "start_time": "2023-06-12T06:35:33.027Z"
   },
   {
    "duration": 699,
    "start_time": "2023-06-12T06:35:33.638Z"
   },
   {
    "duration": 178,
    "start_time": "2023-06-12T06:35:34.346Z"
   },
   {
    "duration": 1102,
    "start_time": "2023-06-12T06:35:34.535Z"
   },
   {
    "duration": 0,
    "start_time": "2023-06-12T06:35:35.715Z"
   },
   {
    "duration": 0,
    "start_time": "2023-06-12T06:35:35.717Z"
   },
   {
    "duration": 0,
    "start_time": "2023-06-12T06:35:35.718Z"
   },
   {
    "duration": 0,
    "start_time": "2023-06-12T06:35:35.729Z"
   },
   {
    "duration": 0,
    "start_time": "2023-06-12T06:35:35.733Z"
   },
   {
    "duration": 0,
    "start_time": "2023-06-12T06:35:35.734Z"
   },
   {
    "duration": 0,
    "start_time": "2023-06-12T06:35:35.735Z"
   },
   {
    "duration": 0,
    "start_time": "2023-06-12T06:35:35.736Z"
   },
   {
    "duration": 0,
    "start_time": "2023-06-12T06:35:35.741Z"
   },
   {
    "duration": 0,
    "start_time": "2023-06-12T06:35:35.816Z"
   },
   {
    "duration": 0,
    "start_time": "2023-06-12T06:35:35.818Z"
   },
   {
    "duration": 0,
    "start_time": "2023-06-12T06:35:35.819Z"
   },
   {
    "duration": 0,
    "start_time": "2023-06-12T06:35:35.820Z"
   },
   {
    "duration": 0,
    "start_time": "2023-06-12T06:35:35.821Z"
   },
   {
    "duration": 0,
    "start_time": "2023-06-12T06:35:35.822Z"
   },
   {
    "duration": 0,
    "start_time": "2023-06-12T06:35:35.823Z"
   },
   {
    "duration": 0,
    "start_time": "2023-06-12T06:35:35.829Z"
   },
   {
    "duration": 0,
    "start_time": "2023-06-12T06:35:35.830Z"
   },
   {
    "duration": 0,
    "start_time": "2023-06-12T06:35:35.831Z"
   },
   {
    "duration": 0,
    "start_time": "2023-06-12T06:35:35.832Z"
   },
   {
    "duration": 0,
    "start_time": "2023-06-12T06:35:35.837Z"
   },
   {
    "duration": 0,
    "start_time": "2023-06-12T06:35:35.838Z"
   },
   {
    "duration": 0,
    "start_time": "2023-06-12T06:35:35.839Z"
   },
   {
    "duration": 0,
    "start_time": "2023-06-12T06:35:35.916Z"
   },
   {
    "duration": 0,
    "start_time": "2023-06-12T06:35:35.922Z"
   },
   {
    "duration": 0,
    "start_time": "2023-06-12T06:35:35.923Z"
   },
   {
    "duration": 0,
    "start_time": "2023-06-12T06:35:35.927Z"
   },
   {
    "duration": 0,
    "start_time": "2023-06-12T06:35:35.928Z"
   },
   {
    "duration": 0,
    "start_time": "2023-06-12T06:35:35.929Z"
   },
   {
    "duration": 0,
    "start_time": "2023-06-12T06:35:35.930Z"
   },
   {
    "duration": 0,
    "start_time": "2023-06-12T06:35:35.937Z"
   },
   {
    "duration": 0,
    "start_time": "2023-06-12T06:35:35.938Z"
   },
   {
    "duration": 0,
    "start_time": "2023-06-12T06:35:35.939Z"
   },
   {
    "duration": 0,
    "start_time": "2023-06-12T06:35:35.940Z"
   },
   {
    "duration": 0,
    "start_time": "2023-06-12T06:35:35.942Z"
   },
   {
    "duration": 0,
    "start_time": "2023-06-12T06:35:36.016Z"
   },
   {
    "duration": 0,
    "start_time": "2023-06-12T06:35:36.017Z"
   },
   {
    "duration": 19,
    "start_time": "2023-06-12T06:35:57.622Z"
   },
   {
    "duration": 219,
    "start_time": "2023-06-12T06:35:59.517Z"
   },
   {
    "duration": 113,
    "start_time": "2023-06-12T06:35:59.818Z"
   },
   {
    "duration": 196,
    "start_time": "2023-06-12T06:36:00.319Z"
   },
   {
    "duration": 392,
    "start_time": "2023-06-12T06:36:00.526Z"
   },
   {
    "duration": 308,
    "start_time": "2023-06-12T06:36:00.920Z"
   },
   {
    "duration": 1702,
    "start_time": "2023-06-12T06:36:01.231Z"
   },
   {
    "duration": 1197,
    "start_time": "2023-06-12T06:36:02.943Z"
   },
   {
    "duration": 326,
    "start_time": "2023-06-12T06:36:04.215Z"
   },
   {
    "duration": 318,
    "start_time": "2023-06-12T06:36:04.616Z"
   },
   {
    "duration": 6024,
    "start_time": "2023-06-12T06:36:05.018Z"
   },
   {
    "duration": 306,
    "start_time": "2023-06-12T06:36:11.119Z"
   },
   {
    "duration": 114,
    "start_time": "2023-06-12T06:36:11.427Z"
   },
   {
    "duration": 666,
    "start_time": "2023-06-12T06:36:11.549Z"
   },
   {
    "duration": 7127,
    "start_time": "2023-06-12T06:36:12.218Z"
   },
   {
    "duration": 103,
    "start_time": "2023-06-12T06:36:19.422Z"
   },
   {
    "duration": 219,
    "start_time": "2023-06-12T06:36:19.536Z"
   },
   {
    "duration": 4166,
    "start_time": "2023-06-12T06:36:19.757Z"
   },
   {
    "duration": 515,
    "start_time": "2023-06-12T06:36:23.924Z"
   },
   {
    "duration": 80,
    "start_time": "2023-06-12T06:36:24.445Z"
   },
   {
    "duration": 343088,
    "start_time": "2023-06-12T06:36:24.531Z"
   },
   {
    "duration": 8,
    "start_time": "2023-06-12T06:42:07.621Z"
   },
   {
    "duration": 505,
    "start_time": "2023-06-12T06:42:07.630Z"
   },
   {
    "duration": 108,
    "start_time": "2023-06-12T06:42:08.215Z"
   }
  ],
  "kernelspec": {
   "display_name": "Python 3 (ipykernel)",
   "language": "python",
   "name": "python3"
  },
  "language_info": {
   "codemirror_mode": {
    "name": "ipython",
    "version": 3
   },
   "file_extension": ".py",
   "mimetype": "text/x-python",
   "name": "python",
   "nbconvert_exporter": "python",
   "pygments_lexer": "ipython3",
   "version": "3.11.5"
  },
  "toc": {
   "base_numbering": 1,
   "nav_menu": {},
   "number_sections": true,
   "sideBar": true,
   "skip_h1_title": true,
   "title_cell": "Содержание",
   "title_sidebar": "Contents",
   "toc_cell": true,
   "toc_position": {},
   "toc_section_display": true,
   "toc_window_display": true
  }
 },
 "nbformat": 4,
 "nbformat_minor": 2
}
