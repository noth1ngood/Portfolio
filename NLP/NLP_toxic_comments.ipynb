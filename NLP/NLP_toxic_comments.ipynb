{
 "cells": [
  {
   "cell_type": "markdown",
   "id": "ac1592ae",
   "metadata": {},
   "source": [
    "# NLP"
   ]
  },
  {
   "cell_type": "markdown",
   "id": "8e4fa727",
   "metadata": {},
   "source": [
    "Интернет-магазин запускает новый сервис. Теперь пользователи могут редактировать и дополнять описания товаров, как в вики-сообществах. То есть клиенты предлагают свои правки и комментируют изменения других. Магазину нужен инструмент, который будет искать токсичные комментарии и отправлять их на модерацию. \n",
    "\n",
    "Обучите модель классифицировать комментарии на позитивные и негативные. В вашем распоряжении набор данных с разметкой о токсичности правок.\n",
    "\n",
    "Постройте модель со значением метрики качества *F1* не меньше 0.75. \n",
    "\n",
    "\n",
    "**Описание данных**\n",
    "\n",
    "Данные находятся в файле `toxic_comments.csv`. Столбец *text* в нём содержит текст комментария, а *toxic* — целевой признак."
   ]
  },
  {
   "cell_type": "markdown",
   "id": "0bc9b22b",
   "metadata": {},
   "source": [
    "__Используемые библиотеки__"
   ]
  },
  {
   "cell_type": "code",
   "execution_count": 1,
   "id": "944bbf89",
   "metadata": {},
   "outputs": [],
   "source": [
    "#!pip install vaderSentiment"
   ]
  },
  {
   "cell_type": "code",
   "execution_count": 2,
   "id": "08e2723c",
   "metadata": {},
   "outputs": [],
   "source": [
    "import pandas as pd\n",
    "import numpy as np\n",
    "import matplotlib.pyplot as plt\n",
    "import re\n",
    "import gc\n",
    "\n",
    "# ML\n",
    "from sklearn.model_selection import train_test_split, cross_val_score, GridSearchCV\n",
    "from sklearn.base import BaseEstimator, TransformerMixin\n",
    "from sklearn.metrics import f1_score\n",
    "from sklearn.compose import ColumnTransformer\n",
    "from sklearn.feature_extraction.text import TfidfVectorizer\n",
    "from sklearn.preprocessing import StandardScaler\n",
    "from imblearn.pipeline import Pipeline, make_pipeline\n",
    "from tqdm.notebook import tqdm\n",
    "from pandarallel import pandarallel\n",
    "\n",
    "# NLP\n",
    "from imblearn.over_sampling import SMOTE\n",
    "import nltk\n",
    "from wordcloud import WordCloud\n",
    "from vaderSentiment.vaderSentiment import SentimentIntensityAnalyzer\n",
    "from nltk.corpus import stopwords as nltk_stopwords, wordnet\n",
    "from nltk.stem import WordNetLemmatizer\n",
    "\n",
    "# MODELS\n",
    "from sklearn.linear_model import LogisticRegression, SGDClassifier, PassiveAggressiveClassifier\n",
    "from sklearn.tree import DecisionTreeClassifier\n",
    "from sklearn.ensemble import RandomForestClassifier\n",
    "from xgboost import XGBClassifier\n",
    "\n",
    "import warnings\n",
    "warnings.filterwarnings('ignore')"
   ]
  },
  {
   "cell_type": "markdown",
   "id": "635bc603",
   "metadata": {},
   "source": [
    "__Глобальные переменные__"
   ]
  },
  {
   "cell_type": "code",
   "execution_count": 3,
   "id": "75423985",
   "metadata": {},
   "outputs": [],
   "source": [
    "state = np.random.RandomState(1234)\n",
    "tqdm.pandas()"
   ]
  },
  {
   "cell_type": "markdown",
   "id": "c11196a0",
   "metadata": {},
   "source": [
    "## Подготовка"
   ]
  },
  {
   "cell_type": "markdown",
   "id": "208f2a4b",
   "metadata": {},
   "source": [
    "### Загрузка данных"
   ]
  },
  {
   "cell_type": "markdown",
   "id": "ad83f8bd",
   "metadata": {},
   "source": [
    "У меня довольно таки слабый ноутбук, поэтому я ограничивался 50% от всего датасета, но данное упущение легко исправить, просто убрав строку кода \n",
    "```python\n",
    "data = data.sample(frac=0.5)\n",
    "```\n",
    "поэтому прошу понять и простить)"
   ]
  },
  {
   "cell_type": "code",
   "execution_count": 4,
   "id": "a6495965",
   "metadata": {},
   "outputs": [],
   "source": [
    "try:\n",
    "    data = pd.read_csv('toxic_comments.csv')\n",
    "except:\n",
    "    data = pd.read_csv('/datasets/toxic_comments.csv')\n",
    "    \n",
    "data = data.drop('Unnamed: 0', axis=1)\n",
    "#data = data.sample(frac=)    "
   ]
  },
  {
   "cell_type": "code",
   "execution_count": 5,
   "id": "ac5dc8d6",
   "metadata": {},
   "outputs": [
    {
     "name": "stdout",
     "output_type": "stream",
     "text": [
      "<class 'pandas.core.frame.DataFrame'>\n",
      "RangeIndex: 159292 entries, 0 to 159291\n",
      "Data columns (total 2 columns):\n",
      " #   Column  Non-Null Count   Dtype \n",
      "---  ------  --------------   ----- \n",
      " 0   text    159292 non-null  object\n",
      " 1   toxic   159292 non-null  int64 \n",
      "dtypes: int64(1), object(1)\n",
      "memory usage: 2.4+ MB\n"
     ]
    }
   ],
   "source": [
    "data.info()"
   ]
  },
  {
   "cell_type": "code",
   "execution_count": 6,
   "id": "d5d6d640",
   "metadata": {},
   "outputs": [
    {
     "data": {
      "text/html": [
       "<div>\n",
       "<style scoped>\n",
       "    .dataframe tbody tr th:only-of-type {\n",
       "        vertical-align: middle;\n",
       "    }\n",
       "\n",
       "    .dataframe tbody tr th {\n",
       "        vertical-align: top;\n",
       "    }\n",
       "\n",
       "    .dataframe thead th {\n",
       "        text-align: right;\n",
       "    }\n",
       "</style>\n",
       "<table border=\"1\" class=\"dataframe\">\n",
       "  <thead>\n",
       "    <tr style=\"text-align: right;\">\n",
       "      <th></th>\n",
       "      <th>text</th>\n",
       "      <th>toxic</th>\n",
       "    </tr>\n",
       "  </thead>\n",
       "  <tbody>\n",
       "    <tr>\n",
       "      <th>77894</th>\n",
       "      <td>Levon Helm / Elton John \\n\\nHello, my feeling ...</td>\n",
       "      <td>0</td>\n",
       "    </tr>\n",
       "    <tr>\n",
       "      <th>148490</th>\n",
       "      <td>what is up with you editing all this less than...</td>\n",
       "      <td>0</td>\n",
       "    </tr>\n",
       "    <tr>\n",
       "      <th>45753</th>\n",
       "      <td>196.2.124.251 \\n\\nI see this IP address, which...</td>\n",
       "      <td>0</td>\n",
       "    </tr>\n",
       "    <tr>\n",
       "      <th>118780</th>\n",
       "      <td>Gallery images in sections are fine when there...</td>\n",
       "      <td>0</td>\n",
       "    </tr>\n",
       "    <tr>\n",
       "      <th>6783</th>\n",
       "      <td>Try a 72-hour block \\n\\nThere could be lockout...</td>\n",
       "      <td>0</td>\n",
       "    </tr>\n",
       "  </tbody>\n",
       "</table>\n",
       "</div>"
      ],
      "text/plain": [
       "                                                     text  toxic\n",
       "77894   Levon Helm / Elton John \\n\\nHello, my feeling ...      0\n",
       "148490  what is up with you editing all this less than...      0\n",
       "45753   196.2.124.251 \\n\\nI see this IP address, which...      0\n",
       "118780  Gallery images in sections are fine when there...      0\n",
       "6783    Try a 72-hour block \\n\\nThere could be lockout...      0"
      ]
     },
     "execution_count": 6,
     "metadata": {},
     "output_type": "execute_result"
    }
   ],
   "source": [
    "data.sample(5)"
   ]
  },
  {
   "cell_type": "markdown",
   "id": "cbcc420e",
   "metadata": {},
   "source": [
    "#### Вывод: \n",
    "Данные отображаются верно, но есть пару аспектов, которые стоит рассмотреть. Первый из них это столбец `Unnamed: 0`, он ничего не отображает, поэтому как признак он не представляет ценности, далее надо проверить датасет на пропуски и дубликаты."
   ]
  },
  {
   "cell_type": "markdown",
   "id": "6c6c8fcb",
   "metadata": {},
   "source": [
    "### Пропуски"
   ]
  },
  {
   "cell_type": "code",
   "execution_count": 7,
   "id": "4837e423",
   "metadata": {},
   "outputs": [
    {
     "data": {
      "text/plain": [
       "text     0\n",
       "toxic    0\n",
       "dtype: int64"
      ]
     },
     "execution_count": 7,
     "metadata": {},
     "output_type": "execute_result"
    }
   ],
   "source": [
    "data.isna().sum()"
   ]
  },
  {
   "cell_type": "markdown",
   "id": "d3957c96",
   "metadata": {},
   "source": [
    "#### Вывод: \n",
    "Пропуски не обнаружены, двигаемся дальше"
   ]
  },
  {
   "cell_type": "markdown",
   "id": "18c2a05c",
   "metadata": {},
   "source": [
    "### Дубликаты"
   ]
  },
  {
   "cell_type": "code",
   "execution_count": 8,
   "id": "3f8694e2",
   "metadata": {},
   "outputs": [
    {
     "data": {
      "text/plain": [
       "0"
      ]
     },
     "execution_count": 8,
     "metadata": {},
     "output_type": "execute_result"
    }
   ],
   "source": [
    "data.duplicated().sum()"
   ]
  },
  {
   "cell_type": "markdown",
   "id": "a0ccfde6",
   "metadata": {},
   "source": [
    "#### Вывод:\n",
    "Тут тоже успех, явных дубликатов нет"
   ]
  },
  {
   "cell_type": "markdown",
   "id": "f448885e",
   "metadata": {},
   "source": [
    "### Баланс классов в целевом признаке"
   ]
  },
  {
   "cell_type": "code",
   "execution_count": 9,
   "id": "47919580",
   "metadata": {},
   "outputs": [
    {
     "data": {
      "image/png": "[encoded data removed]",
      "text/plain": [
       "<Figure size 700x700 with 1 Axes>"
      ]
     },
     "metadata": {},
     "output_type": "display_data"
    }
   ],
   "source": [
    "data['toxic'].value_counts(normalize=True).plot(kind='bar', figsize=(7, 7))\n",
    "plt.title('Отношение классов в target')\n",
    "plt.xlabel('Названия классов')\n",
    "plt.ylabel('Стандартизированное значение частоты встречаемости классов');"
   ]
  },
  {
   "cell_type": "code",
   "execution_count": 10,
   "id": "5f57d6fb",
   "metadata": {},
   "outputs": [
    {
     "data": {
      "text/plain": [
       "0    0.898388\n",
       "1    0.101612\n",
       "Name: toxic, dtype: float64"
      ]
     },
     "execution_count": 10,
     "metadata": {},
     "output_type": "execute_result"
    }
   ],
   "source": [
    "data['toxic'].value_counts(normalize=True)"
   ]
  },
  {
   "cell_type": "markdown",
   "id": "cb25be6e",
   "metadata": {},
   "source": [
    "#### Вывод:\n",
    "Явный дисбаланс, придется исправлять, используя либо downsampling, либо upsampling, но проще всего попробовать взвешенные классы в логистической регрессии. "
   ]
  },
  {
   "cell_type": "markdown",
   "id": "8b3c5dee",
   "metadata": {},
   "source": [
    "### Векторизация текстов"
   ]
  },
  {
   "cell_type": "markdown",
   "id": "145f9bea",
   "metadata": {},
   "source": [
    "__Лемматизация__"
   ]
  },
  {
   "cell_type": "code",
   "execution_count": 11,
   "id": "2b5e520e",
   "metadata": {},
   "outputs": [],
   "source": [
    "# !pip install --upgrade Pillow\n",
    "# !pip install pandarallel \n",
    "# nltk.download('punkt')\n",
    "# nltk.download('averaged_perceptron_tagger')\n",
    "# nltk.download('wordnet')"
   ]
  },
  {
   "cell_type": "code",
   "execution_count": 12,
   "id": "9e6d4335",
   "metadata": {},
   "outputs": [
    {
     "name": "stdout",
     "output_type": "stream",
     "text": [
      "INFO: Pandarallel will run on 8 workers.\n",
      "INFO: Pandarallel will use standard multiprocessing data transfer (pipe) to transfer data between the main process and workers.\n"
     ]
    },
    {
     "data": {
      "application/vnd.jupyter.widget-view+json": {
       "model_id": "b7defffcf9194d019543f257b180fe62",
       "version_major": 2,
       "version_minor": 0
      },
      "text/plain": [
       "progress:   0%|          | 0/159292 [00:00<?, ?it/s]"
      ]
     },
     "metadata": {},
     "output_type": "display_data"
    },
    {
     "data": {
      "application/vnd.jupyter.widget-view+json": {
       "model_id": "6515b6b28d4f412491dd503a7f8eec47",
       "version_major": 2,
       "version_minor": 0
      },
      "text/plain": [
       "VBox(children=(HBox(children=(IntProgress(value=0, description='0.00%', max=19912), Label(value='0 / 19912')))…"
      ]
     },
     "metadata": {},
     "output_type": "display_data"
    },
    {
     "data": {
      "application/vnd.jupyter.widget-view+json": {
       "model_id": "98932c9e07e14f6ba99ee734701d585d",
       "version_major": 2,
       "version_minor": 0
      },
      "text/plain": [
       "progress:   0%|          | 0/159292 [00:00<?, ?it/s]"
      ]
     },
     "metadata": {},
     "output_type": "display_data"
    },
    {
     "name": "stdout",
     "output_type": "stream",
     "text": [
      "CPU times: user 9.4 s, sys: 1.45 s, total: 10.8 s\n",
      "Wall time: 3min 31s\n"
     ]
    }
   ],
   "source": [
    "%%time\n",
    "\n",
    "def get_wordnet_pos(word):\n",
    "    \"\"\"Map POS tag to first character lemmatize() accepts\"\"\"\n",
    "    tag = nltk.pos_tag([word])[0][1][0].upper()\n",
    "    tag_dict = {\"J\": wordnet.ADJ,\n",
    "                \"N\": wordnet.NOUN,\n",
    "                \"V\": wordnet.VERB,\n",
    "                \"R\": wordnet.ADV}\n",
    "    return tag_dict.get(tag, wordnet.NOUN)\n",
    "\n",
    "tqdm.pandas(desc=\"progress\") \n",
    "pandarallel.initialize(progress_bar = True)\n",
    "lemmatizer = WordNetLemmatizer()\n",
    "\n",
    "data['text'] = data['text'].progress_apply(lambda x: x.lower())\n",
    "\n",
    "data['lemm_text'] = data['text'].parallel_apply(\n",
    "                    lambda x: \" \".join([lemmatizer.lemmatize(w, get_wordnet_pos(w)) for w in nltk.word_tokenize(x)]))\n",
    "data['lemm_text'] = data['lemm_text'].progress_apply(\n",
    "                    lambda x: ' '.join(re.sub(r'[^a-zA-Z ]', ' ', x).split()))\n"
   ]
  },
  {
   "cell_type": "markdown",
   "id": "3d3c8a94",
   "metadata": {},
   "source": [
    "Сохраним получившийся датасет, чтобы упросить работу при дебаге"
   ]
  },
  {
   "cell_type": "code",
   "execution_count": 13,
   "id": "7ecc373a",
   "metadata": {},
   "outputs": [],
   "source": [
    "data.to_csv('tweets_lemm.csv')"
   ]
  },
  {
   "cell_type": "markdown",
   "id": "5f1b80af",
   "metadata": {},
   "source": [
    "###### Вывод:\n",
    "Лемматизация и очистка датасета от знаков препинания выполнена успешно!"
   ]
  },
  {
   "cell_type": "markdown",
   "id": "83ad8dc1",
   "metadata": {},
   "source": [
    "Сделаем облако слов, чтобы визуализировать самые частые слова в нашем датасете"
   ]
  },
  {
   "cell_type": "code",
   "execution_count": 14,
   "id": "d924ef85",
   "metadata": {},
   "outputs": [
    {
     "data": {
      "image/png": "[encoded data removed]",
      "text/plain": [
       "<Figure size 640x480 with 1 Axes>"
      ]
     },
     "metadata": {},
     "output_type": "display_data"
    }
   ],
   "source": [
    "wordcloud = WordCloud().generate(' '.join(data['lemm_text']))\n",
    "plt.imshow(wordcloud)\n",
    "plt.axis('off');"
   ]
  },
  {
   "cell_type": "markdown",
   "id": "50adffdc",
   "metadata": {},
   "source": [
    "### Создадим новые признаки\n",
    "которые будут описывать степень негативности, нейтральности и позитивности используемых слов в данных объектах, а также добавим длину текста"
   ]
  },
  {
   "cell_type": "code",
   "execution_count": 15,
   "id": "f65ef989",
   "metadata": {},
   "outputs": [],
   "source": [
    "def sentiment_scores(row):\n",
    " \n",
    "    sid_obj = SentimentIntensityAnalyzer()\n",
    "    sentiment_dict = sid_obj.polarity_scores(row['lemm_text'])\n",
    "    \n",
    "    row['neg'], row['neu'], row['pos'] = sentiment_dict['neg'], sentiment_dict['neu'], sentiment_dict['pos']\n",
    "    row['length'] = len(row['lemm_text'])\n",
    "    \n",
    "    return row"
   ]
  },
  {
   "cell_type": "code",
   "execution_count": 16,
   "id": "b97fe0b7",
   "metadata": {},
   "outputs": [
    {
     "data": {
      "application/vnd.jupyter.widget-view+json": {
       "model_id": "4786301ce29d43fb8fd1e6be4c810c85",
       "version_major": 2,
       "version_minor": 0
      },
      "text/plain": [
       "VBox(children=(HBox(children=(IntProgress(value=0, description='0.00%', max=19912), Label(value='0 / 19912')))…"
      ]
     },
     "metadata": {},
     "output_type": "display_data"
    }
   ],
   "source": [
    "data = data.parallel_apply(sentiment_scores, axis=1)"
   ]
  },
  {
   "cell_type": "markdown",
   "id": "5b84e236",
   "metadata": {},
   "source": [
    "Посмотрим на результат:"
   ]
  },
  {
   "cell_type": "code",
   "execution_count": 17,
   "id": "7358a955",
   "metadata": {
    "scrolled": true
   },
   "outputs": [
    {
     "data": {
      "text/html": [
       "<div>\n",
       "<style scoped>\n",
       "    .dataframe tbody tr th:only-of-type {\n",
       "        vertical-align: middle;\n",
       "    }\n",
       "\n",
       "    .dataframe tbody tr th {\n",
       "        vertical-align: top;\n",
       "    }\n",
       "\n",
       "    .dataframe thead th {\n",
       "        text-align: right;\n",
       "    }\n",
       "</style>\n",
       "<table border=\"1\" class=\"dataframe\">\n",
       "  <thead>\n",
       "    <tr style=\"text-align: right;\">\n",
       "      <th></th>\n",
       "      <th>text</th>\n",
       "      <th>toxic</th>\n",
       "      <th>lemm_text</th>\n",
       "      <th>neg</th>\n",
       "      <th>neu</th>\n",
       "      <th>pos</th>\n",
       "      <th>length</th>\n",
       "    </tr>\n",
       "  </thead>\n",
       "  <tbody>\n",
       "    <tr>\n",
       "      <th>51434</th>\n",
       "      <td>i'm going to be honest with you, i'm not going...</td>\n",
       "      <td>1</td>\n",
       "      <td>i m go to be honest with you i m not go to pas...</td>\n",
       "      <td>0.108</td>\n",
       "      <td>0.740</td>\n",
       "      <td>0.151</td>\n",
       "      <td>3290</td>\n",
       "    </tr>\n",
       "    <tr>\n",
       "      <th>154294</th>\n",
       "      <td>\" (utc)\\n\\n solar intensity due to proximity  ...</td>\n",
       "      <td>0</td>\n",
       "      <td>utc solar intensity due to proximity ratio bet...</td>\n",
       "      <td>0.017</td>\n",
       "      <td>0.888</td>\n",
       "      <td>0.095</td>\n",
       "      <td>1428</td>\n",
       "    </tr>\n",
       "    <tr>\n",
       "      <th>44885</th>\n",
       "      <td>it also does not allow that h and h came to th...</td>\n",
       "      <td>0</td>\n",
       "      <td>it also do not allow that h and h come to the ...</td>\n",
       "      <td>0.035</td>\n",
       "      <td>0.925</td>\n",
       "      <td>0.040</td>\n",
       "      <td>801</td>\n",
       "    </tr>\n",
       "  </tbody>\n",
       "</table>\n",
       "</div>"
      ],
      "text/plain": [
       "                                                     text  toxic  \\\n",
       "51434   i'm going to be honest with you, i'm not going...      1   \n",
       "154294  \" (utc)\\n\\n solar intensity due to proximity  ...      0   \n",
       "44885   it also does not allow that h and h came to th...      0   \n",
       "\n",
       "                                                lemm_text    neg    neu  \\\n",
       "51434   i m go to be honest with you i m not go to pas...  0.108  0.740   \n",
       "154294  utc solar intensity due to proximity ratio bet...  0.017  0.888   \n",
       "44885   it also do not allow that h and h come to the ...  0.035  0.925   \n",
       "\n",
       "          pos  length  \n",
       "51434   0.151    3290  \n",
       "154294  0.095    1428  \n",
       "44885   0.040     801  "
      ]
     },
     "execution_count": 17,
     "metadata": {},
     "output_type": "execute_result"
    }
   ],
   "source": [
    "data.sample(3)"
   ]
  },
  {
   "cell_type": "markdown",
   "id": "428fc20b",
   "metadata": {},
   "source": [
    "#### Вывод:\n",
    "Создали новые признаки, однако теперь стоит их стандартизировать"
   ]
  },
  {
   "cell_type": "markdown",
   "id": "5dfa8683",
   "metadata": {},
   "source": [
    "## Обучение"
   ]
  },
  {
   "cell_type": "markdown",
   "id": "ac925d5f",
   "metadata": {},
   "source": [
    "__Разбивка датасета на подвыборки__"
   ]
  },
  {
   "cell_type": "code",
   "execution_count": 18,
   "id": "02dfb78e",
   "metadata": {},
   "outputs": [],
   "source": [
    "features = data.drop(['toxic', 'text'], axis=1)\n",
    "target = data['toxic']\n",
    "features_train, features_test, target_train, target_test = train_test_split(features, target, stratify=target,\n",
    "                                                                            test_size=0.25, random_state=state)"
   ]
  },
  {
   "cell_type": "markdown",
   "id": "4bdb2819",
   "metadata": {},
   "source": [
    "При использовании кросс-валидации выборки должны разделяться и обрабатываться по отдельности: обучение и применение к трейну, затем обученную модель или трансформер применяем к валидационной выборке. Так должно быть при каждом разделении (фолде). По этой причине создадим пайплайны."
   ]
  },
  {
   "cell_type": "code",
   "execution_count": 19,
   "id": "260d7579",
   "metadata": {},
   "outputs": [],
   "source": [
    "# nltk.download('stopwords')\n",
    "# 'XGB': XGBClassifier(random_state=state)\n",
    "stopwords = set(nltk_stopwords.words('english'))\n",
    "\n",
    "models = {'Log_reg': LogisticRegression(random_state=state), \n",
    "          'SGDClassifier': SGDClassifier(random_state=state), \n",
    "          'PassiveAgressiveClassifier': PassiveAggressiveClassifier(random_state=state),\n",
    "          }\n",
    "\n",
    "cross_val_scores = []\n",
    "\n",
    "def make_pipes(model):\n",
    "    \n",
    "    new_features = ['length', 'pos', 'neg', 'neu']\n",
    "    features = ColumnTransformer(\n",
    "                    [(\"text_preprocess\", TfidfVectorizer(stop_words=list(stopwords), dtype=np.float32), \"lemm_text\"),\n",
    "                     (\"new_features_preprocess\", StandardScaler(), new_features),\n",
    "                    ])\n",
    "    pipe = make_pipeline(features, \n",
    "                         SMOTE(random_state=state),\n",
    "                         model)\n",
    "    \n",
    "    cvs = cross_val_score(pipe, features_train[['lemm_text', 'length', 'pos', 'neg', 'neu']], target_train, scoring='f1')\n",
    "    cross_val_scores.append(round(cvs.mean(), 3))\n",
    "    return 0"
   ]
  },
  {
   "cell_type": "code",
   "execution_count": 20,
   "id": "5979e5f9",
   "metadata": {
    "scrolled": true
   },
   "outputs": [
    {
     "name": "stderr",
     "output_type": "stream",
     "text": [
      "100%|█████████████████████████████████████████████| 3/3 [02:30<00:00, 50.18s/it]\n"
     ]
    }
   ],
   "source": [
    "from tqdm import tqdm\n",
    "\n",
    "for model in tqdm(models.values()):\n",
    "    make_pipes(model)"
   ]
  },
  {
   "cell_type": "markdown",
   "id": "748401f6",
   "metadata": {},
   "source": [
    "Теперь создадим таблицу, в которой записаны значение f1-метрики на кросс-валидации и на тесте для разных моделей."
   ]
  },
  {
   "cell_type": "code",
   "execution_count": 21,
   "id": "99803c71",
   "metadata": {
    "scrolled": false
   },
   "outputs": [
    {
     "data": {
      "text/html": [
       "<div>\n",
       "<style scoped>\n",
       "    .dataframe tbody tr th:only-of-type {\n",
       "        vertical-align: middle;\n",
       "    }\n",
       "\n",
       "    .dataframe tbody tr th {\n",
       "        vertical-align: top;\n",
       "    }\n",
       "\n",
       "    .dataframe thead th {\n",
       "        text-align: right;\n",
       "    }\n",
       "</style>\n",
       "<table border=\"1\" class=\"dataframe\">\n",
       "  <thead>\n",
       "    <tr style=\"text-align: right;\">\n",
       "      <th></th>\n",
       "      <th>train</th>\n",
       "    </tr>\n",
       "  </thead>\n",
       "  <tbody>\n",
       "    <tr>\n",
       "      <th>Log_reg</th>\n",
       "      <td>0.751</td>\n",
       "    </tr>\n",
       "    <tr>\n",
       "      <th>SGDClassifier</th>\n",
       "      <td>0.719</td>\n",
       "    </tr>\n",
       "    <tr>\n",
       "      <th>PassiveAgressiveClassifier</th>\n",
       "      <td>0.677</td>\n",
       "    </tr>\n",
       "  </tbody>\n",
       "</table>\n",
       "</div>"
      ],
      "text/plain": [
       "                            train\n",
       "Log_reg                     0.751\n",
       "SGDClassifier               0.719\n",
       "PassiveAgressiveClassifier  0.677"
      ]
     },
     "execution_count": 21,
     "metadata": {},
     "output_type": "execute_result"
    }
   ],
   "source": [
    "results = pd.DataFrame([cross_val_scores], columns=models.keys(), index=['train']).transpose()\n",
    "results"
   ]
  },
  {
   "cell_type": "markdown",
   "id": "fce6f6c7",
   "metadata": {},
   "source": [
    "Остается только один вопрос: можно ли потюнинговать модели, чтобы улучшить метрику? Для этого можно использовать GridSearchCV"
   ]
  },
  {
   "cell_type": "code",
   "execution_count": 22,
   "id": "f36a5ecb",
   "metadata": {},
   "outputs": [],
   "source": [
    "grid_scores = []\n",
    "best_params = []\n",
    "models_with_params = {'LogisticRegression': \n",
    "                      [LogisticRegression(), {\n",
    "                          'random_state': [state]\n",
    "                     }], \n",
    "                      'SGDClassifier': \n",
    "                      [SGDClassifier(), {\n",
    "                          'max_iter': [10000, 15000, 20000],\n",
    "                          'random_state': [state],\n",
    "                          'alpha':[0.00001, 0.000001]\n",
    "                     }], \n",
    "                      'PassiveAggressiveClassifier': \n",
    "                      [PassiveAggressiveClassifier(), {\n",
    "                          'random_state': [state],\n",
    "                          'C' : [0.003, 0.03, 0.0001], \n",
    "                          'loss': ['hinge', 'squared_hinge'],\n",
    "                          'max_iter': [150, 250, 450]\n",
    "                      }]\n",
    "                      }\n",
    "\n",
    "def make_pipe_v2(model, name):\n",
    "      \n",
    "    new_features = ['length', 'pos', 'neg', 'neu']\n",
    "    features = ColumnTransformer(\n",
    "                    [(\"text_preprocess\", TfidfVectorizer(stop_words=list(stopwords), dtype=np.float32), \"lemm_text\"),\n",
    "                     (\"new_features_preprocess\", StandardScaler(), new_features),\n",
    "                    ])\n",
    "    pipe = make_pipeline(features, \n",
    "                         SMOTE(random_state=state),\n",
    "                         model[0])\n",
    "\n",
    "    params = model[1]\n",
    "    new_params = {name.lower() + '__' + key: params[key] for key in params}\n",
    "    grid_pipe = GridSearchCV(pipe, param_grid=new_params, cv=4, scoring='f1')\n",
    "    grid_pipe.fit(features_train[['lemm_text', 'length', 'pos', 'neg', 'neu']], target_train)\n",
    "    grid_scores.append(round(grid_pipe.best_score_, 3))\n",
    "    best_params.append(grid_pipe.best_estimator_)\n",
    "    return 0"
   ]
  },
  {
   "cell_type": "code",
   "execution_count": 23,
   "id": "1e310d83",
   "metadata": {},
   "outputs": [
    {
     "name": "stderr",
     "output_type": "stream",
     "text": [
      "100%|████████████████████████████████████████████| 3/3 [17:19<00:00, 346.61s/it]\n"
     ]
    }
   ],
   "source": [
    "from tqdm import tqdm\n",
    "\n",
    "for model in tqdm(models_with_params.items()):\n",
    "    make_pipe_v2(model[1], model[0])"
   ]
  },
  {
   "cell_type": "code",
   "execution_count": 24,
   "id": "eb797c16",
   "metadata": {},
   "outputs": [],
   "source": [
    "results['grid_train'] = grid_scores"
   ]
  },
  {
   "cell_type": "code",
   "execution_count": 25,
   "id": "0680bb34",
   "metadata": {},
   "outputs": [
    {
     "data": {
      "text/html": [
       "<div>\n",
       "<style scoped>\n",
       "    .dataframe tbody tr th:only-of-type {\n",
       "        vertical-align: middle;\n",
       "    }\n",
       "\n",
       "    .dataframe tbody tr th {\n",
       "        vertical-align: top;\n",
       "    }\n",
       "\n",
       "    .dataframe thead th {\n",
       "        text-align: right;\n",
       "    }\n",
       "</style>\n",
       "<table border=\"1\" class=\"dataframe\">\n",
       "  <thead>\n",
       "    <tr style=\"text-align: right;\">\n",
       "      <th></th>\n",
       "      <th>train</th>\n",
       "      <th>grid_train</th>\n",
       "    </tr>\n",
       "  </thead>\n",
       "  <tbody>\n",
       "    <tr>\n",
       "      <th>Log_reg</th>\n",
       "      <td>0.751</td>\n",
       "      <td>0.750</td>\n",
       "    </tr>\n",
       "    <tr>\n",
       "      <th>SGDClassifier</th>\n",
       "      <td>0.719</td>\n",
       "      <td>0.750</td>\n",
       "    </tr>\n",
       "    <tr>\n",
       "      <th>PassiveAgressiveClassifier</th>\n",
       "      <td>0.677</td>\n",
       "      <td>0.759</td>\n",
       "    </tr>\n",
       "  </tbody>\n",
       "</table>\n",
       "</div>"
      ],
      "text/plain": [
       "                            train  grid_train\n",
       "Log_reg                     0.751       0.750\n",
       "SGDClassifier               0.719       0.750\n",
       "PassiveAgressiveClassifier  0.677       0.759"
      ]
     },
     "execution_count": 25,
     "metadata": {},
     "output_type": "execute_result"
    }
   ],
   "source": [
    "results"
   ]
  },
  {
   "cell_type": "markdown",
   "id": "c699427b",
   "metadata": {},
   "source": [
    "#### Вывод:\n",
    "По итогам, лучшей моделью является PassiveAgressiveClassifier, метрика на этой модели составила 0,76"
   ]
  },
  {
   "cell_type": "markdown",
   "id": "5b8cbacd",
   "metadata": {},
   "source": [
    "### Тест лучшей модели"
   ]
  },
  {
   "cell_type": "code",
   "execution_count": 38,
   "id": "308f3d0d",
   "metadata": {},
   "outputs": [
    {
     "data": {
      "text/html": [
       "<div>\n",
       "<style scoped>\n",
       "    .dataframe tbody tr th:only-of-type {\n",
       "        vertical-align: middle;\n",
       "    }\n",
       "\n",
       "    .dataframe tbody tr th {\n",
       "        vertical-align: top;\n",
       "    }\n",
       "\n",
       "    .dataframe thead th {\n",
       "        text-align: right;\n",
       "    }\n",
       "</style>\n",
       "<table border=\"1\" class=\"dataframe\">\n",
       "  <thead>\n",
       "    <tr style=\"text-align: right;\">\n",
       "      <th></th>\n",
       "      <th>train</th>\n",
       "      <th>grid_train</th>\n",
       "    </tr>\n",
       "  </thead>\n",
       "  <tbody>\n",
       "    <tr>\n",
       "      <th>PassiveAgressiveClassifier</th>\n",
       "      <td>0.677</td>\n",
       "      <td>0.759</td>\n",
       "    </tr>\n",
       "  </tbody>\n",
       "</table>\n",
       "</div>"
      ],
      "text/plain": [
       "                            train  grid_train\n",
       "PassiveAgressiveClassifier  0.677       0.759"
      ]
     },
     "execution_count": 38,
     "metadata": {},
     "output_type": "execute_result"
    }
   ],
   "source": [
    "x = results.loc[results['grid_train'] == results['grid_train'].max()]\n",
    "if x.index == 'PassiveAgressiveClassifier':\n",
    "    ind = -1\n",
    "elif x.index == 'SGDClassifier':\n",
    "    ind = 1\n",
    "else:\n",
    "    ind = 0\n",
    "x"
   ]
  },
  {
   "cell_type": "code",
   "execution_count": 40,
   "id": "efd7ab21",
   "metadata": {
    "scrolled": false
   },
   "outputs": [
    {
     "name": "stdout",
     "output_type": "stream",
     "text": [
      "F1 на тестовой выборке на лучшей модели по итогам кроссвалидации: 0.756\n"
     ]
    }
   ],
   "source": [
    "pred = best_params[ind].predict(features_test)\n",
    "print('F1 на тестовой выборке на лучшей модели по итогам кроссвалидации:', round(f1_score(target_test, pred), 3))"
   ]
  },
  {
   "cell_type": "markdown",
   "id": "1bab3ab6",
   "metadata": {},
   "source": [
    "#### Вывод:\n",
    "Была подобрана модель `PassiveAgressiveClassifier`, которая по показала результат выше заданного порога"
   ]
  },
  {
   "cell_type": "markdown",
   "id": "be154596",
   "metadata": {},
   "source": [
    "## Выводы"
   ]
  },
  {
   "cell_type": "markdown",
   "id": "53ff0277",
   "metadata": {},
   "source": [
    "NLP -- очень трудоемкая задача, которая требует больших мощностей. В процессе данной работы были проделаны следущие шаги:\n",
    "- Загрузили данные и провели коротенький EDA\n",
    "- Провели лемматизацию, используя WordNetLemmatizer (с POS-тегами), и очистили текст от знаков пунктуации и чисел\n",
    "- Создали Pipeline, в котором провели векторизацию лемматизированного текста, SMOTE апсемлинг и обучение целого списка классификаторов\n",
    "- Добавили в нашу функцию GridSearchCV, который прекрасно дружит с Pipeline'ом\n",
    "- Выбрали лучшу модель по итогам кросс-валидации и получили метрику на тестовой выборке, которая оказалась выше заданного порога."
   ]
  }
 ],
 "metadata": {
  "kernelspec": {
   "display_name": "Python 3 (ipykernel)",
   "language": "python",
   "name": "python3"
  },
  "language_info": {
   "codemirror_mode": {
    "name": "ipython",
    "version": 3
   },
   "file_extension": ".py",
   "mimetype": "text/x-python",
   "name": "python",
   "nbconvert_exporter": "python",
   "pygments_lexer": "ipython3",
   "version": "3.11.5"
  },
  "toc": {
   "base_numbering": 1,
   "nav_menu": {},
   "number_sections": true,
   "sideBar": true,
   "skip_h1_title": true,
   "title_cell": "Table of Contents",
   "title_sidebar": "Contents",
   "toc_cell": false,
   "toc_position": {},
   "toc_section_display": true,
   "toc_window_display": false
  }
 },
 "nbformat": 4,
 "nbformat_minor": 5
}
