{
 "cells": [
  {
   "cell_type": "markdown",
   "metadata": {},
   "source": [
    "# Выбор локации для скважины"
   ]
  },
  {
   "cell_type": "markdown",
   "metadata": {},
   "source": [
    "Нужно решить, где бурить новую скважину.\n",
    "\n",
    "Вам предоставлены пробы нефти в трёх регионах: в каждом 10 000 месторождений, где измерили качество нефти и объём её запасов. Постройте модель машинного обучения, которая поможет определить регион, где добыча принесёт наибольшую прибыль. Проанализируйте возможную прибыль и риски техникой *Bootstrap.*\n",
    "\n",
    "Шаги для выбора локации:\n",
    "\n",
    "- В избранном регионе ищут месторождения, для каждого определяют значения признаков;\n",
    "- Строят модель и оценивают объём запасов;\n",
    "- Выбирают месторождения с самым высокими оценками значений. Количество месторождений зависит от бюджета компании и стоимости разработки одной скважины;\n",
    "- Прибыль равна суммарной прибыли отобранных месторождений."
   ]
  },
  {
   "cell_type": "markdown",
   "metadata": {},
   "source": [
    "**Нужные библиотеки:**"
   ]
  },
  {
   "cell_type": "code",
   "execution_count": 1,
   "metadata": {},
   "outputs": [],
   "source": [
    "import pandas as pd\n",
    "import numpy as np\n",
    "from scipy.stats import t\n",
    "import matplotlib.pyplot as plt\n",
    "\n",
    "from sklearn.model_selection import train_test_split\n",
    "from sklearn.preprocessing import StandardScaler\n",
    "from sklearn.metrics import mean_squared_error, r2_score\n",
    "from sklearn.linear_model import LinearRegression\n",
    "\n",
    "import warnings\n",
    "warnings.filterwarnings('ignore')"
   ]
  },
  {
   "cell_type": "markdown",
   "metadata": {},
   "source": [
    "## Загрузка и подготовка данных"
   ]
  },
  {
   "cell_type": "markdown",
   "metadata": {},
   "source": [
    "**глобальные константы:**"
   ]
  },
  {
   "cell_type": "code",
   "execution_count": 2,
   "metadata": {},
   "outputs": [],
   "source": [
    "state = np.random.RandomState(12345)"
   ]
  },
  {
   "cell_type": "markdown",
   "metadata": {},
   "source": [
    "**загрузка данных:**"
   ]
  },
  {
   "cell_type": "code",
   "execution_count": 3,
   "metadata": {},
   "outputs": [],
   "source": [
    "try:\n",
    "    df_0 = pd.read_csv('geo_data_0.csv')\n",
    "except:\n",
    "    df_0 = pd.read_csv('/datasets/geo_data_0.csv')"
   ]
  },
  {
   "cell_type": "code",
   "execution_count": 4,
   "metadata": {},
   "outputs": [],
   "source": [
    "try:\n",
    "    df_1 = pd.read_csv('geo_data_1.csv')\n",
    "except:\n",
    "    df_1 = pd.read_csv('/datasets/geo_data_1.csv')"
   ]
  },
  {
   "cell_type": "code",
   "execution_count": 5,
   "metadata": {},
   "outputs": [],
   "source": [
    "try:\n",
    "    df_2 = pd.read_csv('geo_data_2.csv')\n",
    "except:\n",
    "    df_2 = pd.read_csv('/datasets/geo_data_2.csv')"
   ]
  },
  {
   "cell_type": "markdown",
   "metadata": {},
   "source": [
    "понимаю, что выглядит это довольно страшно, но я руководстовался тем, что я подгружаю каждый датасет независимо от другого, поэтому если мне надо будет заново подгрузить один из датасетов мне не придетс трогать оставшеся"
   ]
  },
  {
   "cell_type": "code",
   "execution_count": 6,
   "metadata": {},
   "outputs": [
    {
     "data": {
      "text/html": [
       "<div>\n",
       "<style scoped>\n",
       "    .dataframe tbody tr th:only-of-type {\n",
       "        vertical-align: middle;\n",
       "    }\n",
       "\n",
       "    .dataframe tbody tr th {\n",
       "        vertical-align: top;\n",
       "    }\n",
       "\n",
       "    .dataframe thead th {\n",
       "        text-align: right;\n",
       "    }\n",
       "</style>\n",
       "<table border=\"1\" class=\"dataframe\">\n",
       "  <thead>\n",
       "    <tr style=\"text-align: right;\">\n",
       "      <th></th>\n",
       "      <th>id</th>\n",
       "      <th>f0</th>\n",
       "      <th>f1</th>\n",
       "      <th>f2</th>\n",
       "      <th>product</th>\n",
       "    </tr>\n",
       "  </thead>\n",
       "  <tbody>\n",
       "    <tr>\n",
       "      <th>0</th>\n",
       "      <td>txEyH</td>\n",
       "      <td>0.705745</td>\n",
       "      <td>-0.497823</td>\n",
       "      <td>1.221170</td>\n",
       "      <td>105.280062</td>\n",
       "    </tr>\n",
       "    <tr>\n",
       "      <th>1</th>\n",
       "      <td>2acmU</td>\n",
       "      <td>1.334711</td>\n",
       "      <td>-0.340164</td>\n",
       "      <td>4.365080</td>\n",
       "      <td>73.037750</td>\n",
       "    </tr>\n",
       "    <tr>\n",
       "      <th>2</th>\n",
       "      <td>409Wp</td>\n",
       "      <td>1.022732</td>\n",
       "      <td>0.151990</td>\n",
       "      <td>1.419926</td>\n",
       "      <td>85.265647</td>\n",
       "    </tr>\n",
       "    <tr>\n",
       "      <th>3</th>\n",
       "      <td>iJLyR</td>\n",
       "      <td>-0.032172</td>\n",
       "      <td>0.139033</td>\n",
       "      <td>2.978566</td>\n",
       "      <td>168.620776</td>\n",
       "    </tr>\n",
       "    <tr>\n",
       "      <th>4</th>\n",
       "      <td>Xdl7t</td>\n",
       "      <td>1.988431</td>\n",
       "      <td>0.155413</td>\n",
       "      <td>4.751769</td>\n",
       "      <td>154.036647</td>\n",
       "    </tr>\n",
       "  </tbody>\n",
       "</table>\n",
       "</div>"
      ],
      "text/plain": [
       "      id        f0        f1        f2     product\n",
       "0  txEyH  0.705745 -0.497823  1.221170  105.280062\n",
       "1  2acmU  1.334711 -0.340164  4.365080   73.037750\n",
       "2  409Wp  1.022732  0.151990  1.419926   85.265647\n",
       "3  iJLyR -0.032172  0.139033  2.978566  168.620776\n",
       "4  Xdl7t  1.988431  0.155413  4.751769  154.036647"
      ]
     },
     "execution_count": 6,
     "metadata": {},
     "output_type": "execute_result"
    }
   ],
   "source": [
    "df_0.head()"
   ]
  },
  {
   "cell_type": "code",
   "execution_count": 7,
   "metadata": {},
   "outputs": [
    {
     "data": {
      "text/html": [
       "<div>\n",
       "<style scoped>\n",
       "    .dataframe tbody tr th:only-of-type {\n",
       "        vertical-align: middle;\n",
       "    }\n",
       "\n",
       "    .dataframe tbody tr th {\n",
       "        vertical-align: top;\n",
       "    }\n",
       "\n",
       "    .dataframe thead th {\n",
       "        text-align: right;\n",
       "    }\n",
       "</style>\n",
       "<table border=\"1\" class=\"dataframe\">\n",
       "  <thead>\n",
       "    <tr style=\"text-align: right;\">\n",
       "      <th></th>\n",
       "      <th>id</th>\n",
       "      <th>f0</th>\n",
       "      <th>f1</th>\n",
       "      <th>f2</th>\n",
       "      <th>product</th>\n",
       "    </tr>\n",
       "  </thead>\n",
       "  <tbody>\n",
       "    <tr>\n",
       "      <th>0</th>\n",
       "      <td>kBEdx</td>\n",
       "      <td>-15.001348</td>\n",
       "      <td>-8.276000</td>\n",
       "      <td>-0.005876</td>\n",
       "      <td>3.179103</td>\n",
       "    </tr>\n",
       "    <tr>\n",
       "      <th>1</th>\n",
       "      <td>62mP7</td>\n",
       "      <td>14.272088</td>\n",
       "      <td>-3.475083</td>\n",
       "      <td>0.999183</td>\n",
       "      <td>26.953261</td>\n",
       "    </tr>\n",
       "    <tr>\n",
       "      <th>2</th>\n",
       "      <td>vyE1P</td>\n",
       "      <td>6.263187</td>\n",
       "      <td>-5.948386</td>\n",
       "      <td>5.001160</td>\n",
       "      <td>134.766305</td>\n",
       "    </tr>\n",
       "    <tr>\n",
       "      <th>3</th>\n",
       "      <td>KcrkZ</td>\n",
       "      <td>-13.081196</td>\n",
       "      <td>-11.506057</td>\n",
       "      <td>4.999415</td>\n",
       "      <td>137.945408</td>\n",
       "    </tr>\n",
       "    <tr>\n",
       "      <th>4</th>\n",
       "      <td>AHL4O</td>\n",
       "      <td>12.702195</td>\n",
       "      <td>-8.147433</td>\n",
       "      <td>5.004363</td>\n",
       "      <td>134.766305</td>\n",
       "    </tr>\n",
       "  </tbody>\n",
       "</table>\n",
       "</div>"
      ],
      "text/plain": [
       "      id         f0         f1        f2     product\n",
       "0  kBEdx -15.001348  -8.276000 -0.005876    3.179103\n",
       "1  62mP7  14.272088  -3.475083  0.999183   26.953261\n",
       "2  vyE1P   6.263187  -5.948386  5.001160  134.766305\n",
       "3  KcrkZ -13.081196 -11.506057  4.999415  137.945408\n",
       "4  AHL4O  12.702195  -8.147433  5.004363  134.766305"
      ]
     },
     "execution_count": 7,
     "metadata": {},
     "output_type": "execute_result"
    }
   ],
   "source": [
    "df_1.head()"
   ]
  },
  {
   "cell_type": "code",
   "execution_count": 8,
   "metadata": {
    "scrolled": true
   },
   "outputs": [
    {
     "data": {
      "text/html": [
       "<div>\n",
       "<style scoped>\n",
       "    .dataframe tbody tr th:only-of-type {\n",
       "        vertical-align: middle;\n",
       "    }\n",
       "\n",
       "    .dataframe tbody tr th {\n",
       "        vertical-align: top;\n",
       "    }\n",
       "\n",
       "    .dataframe thead th {\n",
       "        text-align: right;\n",
       "    }\n",
       "</style>\n",
       "<table border=\"1\" class=\"dataframe\">\n",
       "  <thead>\n",
       "    <tr style=\"text-align: right;\">\n",
       "      <th></th>\n",
       "      <th>id</th>\n",
       "      <th>f0</th>\n",
       "      <th>f1</th>\n",
       "      <th>f2</th>\n",
       "      <th>product</th>\n",
       "    </tr>\n",
       "  </thead>\n",
       "  <tbody>\n",
       "    <tr>\n",
       "      <th>0</th>\n",
       "      <td>fwXo0</td>\n",
       "      <td>-1.146987</td>\n",
       "      <td>0.963328</td>\n",
       "      <td>-0.828965</td>\n",
       "      <td>27.758673</td>\n",
       "    </tr>\n",
       "    <tr>\n",
       "      <th>1</th>\n",
       "      <td>WJtFt</td>\n",
       "      <td>0.262778</td>\n",
       "      <td>0.269839</td>\n",
       "      <td>-2.530187</td>\n",
       "      <td>56.069697</td>\n",
       "    </tr>\n",
       "    <tr>\n",
       "      <th>2</th>\n",
       "      <td>ovLUW</td>\n",
       "      <td>0.194587</td>\n",
       "      <td>0.289035</td>\n",
       "      <td>-5.586433</td>\n",
       "      <td>62.871910</td>\n",
       "    </tr>\n",
       "    <tr>\n",
       "      <th>3</th>\n",
       "      <td>q6cA6</td>\n",
       "      <td>2.236060</td>\n",
       "      <td>-0.553760</td>\n",
       "      <td>0.930038</td>\n",
       "      <td>114.572842</td>\n",
       "    </tr>\n",
       "    <tr>\n",
       "      <th>4</th>\n",
       "      <td>WPMUX</td>\n",
       "      <td>-0.515993</td>\n",
       "      <td>1.716266</td>\n",
       "      <td>5.899011</td>\n",
       "      <td>149.600746</td>\n",
       "    </tr>\n",
       "  </tbody>\n",
       "</table>\n",
       "</div>"
      ],
      "text/plain": [
       "      id        f0        f1        f2     product\n",
       "0  fwXo0 -1.146987  0.963328 -0.828965   27.758673\n",
       "1  WJtFt  0.262778  0.269839 -2.530187   56.069697\n",
       "2  ovLUW  0.194587  0.289035 -5.586433   62.871910\n",
       "3  q6cA6  2.236060 -0.553760  0.930038  114.572842\n",
       "4  WPMUX -0.515993  1.716266  5.899011  149.600746"
      ]
     },
     "execution_count": 8,
     "metadata": {},
     "output_type": "execute_result"
    }
   ],
   "source": [
    "df_2.head()"
   ]
  },
  {
   "cell_type": "code",
   "execution_count": 9,
   "metadata": {},
   "outputs": [],
   "source": [
    "def check_dataset(df, num):\n",
    "    print(f'Количество дупликатов в {num + 1}-ом датасете: {df.duplicated().sum()}')\n",
    "    print('Корреляционная матрица:', df.corr(), sep='\\n')\n",
    "    print(f'Количество NaN-значений во всех строках в {num + 1}-ем датасете: {df.isna().sum().sum()}')\n",
    "    print()\n",
    "    return"
   ]
  },
  {
   "cell_type": "code",
   "execution_count": 10,
   "metadata": {},
   "outputs": [
    {
     "name": "stdout",
     "output_type": "stream",
     "text": [
      "Количество дупликатов в 1-ом датасете: 0\n",
      "Корреляционная матрица:\n",
      "               f0        f1        f2   product\n",
      "f0       1.000000 -0.440723 -0.003153  0.143536\n",
      "f1      -0.440723  1.000000  0.001724 -0.192356\n",
      "f2      -0.003153  0.001724  1.000000  0.483663\n",
      "product  0.143536 -0.192356  0.483663  1.000000\n",
      "Количество NaN-значений во всех строках в 1-ем датасете: 0\n",
      "\n",
      "Количество дупликатов в 2-ом датасете: 0\n",
      "Корреляционная матрица:\n",
      "               f0        f1        f2   product\n",
      "f0       1.000000  0.182287 -0.001777 -0.030491\n",
      "f1       0.182287  1.000000 -0.002595 -0.010155\n",
      "f2      -0.001777 -0.002595  1.000000  0.999397\n",
      "product -0.030491 -0.010155  0.999397  1.000000\n",
      "Количество NaN-значений во всех строках в 2-ем датасете: 0\n",
      "\n",
      "Количество дупликатов в 3-ом датасете: 0\n",
      "Корреляционная матрица:\n",
      "               f0        f1        f2   product\n",
      "f0       1.000000  0.000528 -0.000448 -0.001987\n",
      "f1       0.000528  1.000000  0.000779 -0.001012\n",
      "f2      -0.000448  0.000779  1.000000  0.445871\n",
      "product -0.001987 -0.001012  0.445871  1.000000\n",
      "Количество NaN-значений во всех строках в 3-ем датасете: 0\n",
      "\n"
     ]
    }
   ],
   "source": [
    "dfs = [df_0, df_1, df_2]\n",
    "for num in range(len(dfs)):\n",
    "    check_dataset(dfs[num], num)"
   ]
  },
  {
   "cell_type": "markdown",
   "metadata": {},
   "source": [
    "### Вывод:\n",
    "Загрузил данные, все норм! Нет дубликатов, нет NaN-значений, нет мультиколлинеарности."
   ]
  },
  {
   "cell_type": "markdown",
   "metadata": {},
   "source": [
    "## Обучение и проверка модели"
   ]
  },
  {
   "cell_type": "code",
   "execution_count": 11,
   "metadata": {},
   "outputs": [],
   "source": [
    "def fit_func(df, i):\n",
    "    target = df['product']\n",
    "    features = df.drop(['product', 'id'] , axis=1)\n",
    "    features_train, features_valid, target_train, target_valid = train_test_split(\n",
    "                                                features, target, test_size=0.25, random_state=state)\n",
    "    numeric = ['f0', 'f1', 'f2']\n",
    "\n",
    "    scaler = StandardScaler()\n",
    "    scaler.fit(features_train[numeric])\n",
    "\n",
    "    features_train[numeric] = scaler.transform(features_train[numeric])\n",
    "    features_valid[numeric] = scaler.transform(features_valid[numeric])\n",
    "    \n",
    "    model = LinearRegression()\n",
    "    model.fit(features_train, target_train)\n",
    "    predicted_valid = model.predict(features_valid)\n",
    "    rmse = mean_squared_error(target_valid, predicted_valid) ** 0.5\n",
    "    \n",
    "    print(f'RMSE для {i} региона: {rmse.round(4)}')\n",
    "    print(f'Средний запас предсказанного сырья для {i}: {predicted_valid.mean().round(4)}')\n",
    "    print(f'R2: {r2_score(target_valid, predicted_valid)}')\n",
    "    return predicted_valid, target_valid"
   ]
  },
  {
   "cell_type": "code",
   "execution_count": 12,
   "metadata": {},
   "outputs": [
    {
     "name": "stdout",
     "output_type": "stream",
     "text": [
      "RMSE для 1 региона: 37.5794\n",
      "Средний запас предсказанного сырья для 1: 92.5926\n",
      "R2: 0.27994321524487786\n"
     ]
    }
   ],
   "source": [
    "predict_valid_0, target_valid_0 = fit_func(df_0, 1)"
   ]
  },
  {
   "cell_type": "code",
   "execution_count": 13,
   "metadata": {},
   "outputs": [
    {
     "name": "stdout",
     "output_type": "stream",
     "text": [
      "RMSE для 2 региона: 0.8897\n",
      "Средний запас предсказанного сырья для 2: 68.77\n",
      "R2: 0.9996264922748638\n"
     ]
    }
   ],
   "source": [
    "predict_valid_1, target_valid_1 = fit_func(df_1, 2)"
   ]
  },
  {
   "cell_type": "code",
   "execution_count": 14,
   "metadata": {},
   "outputs": [
    {
     "name": "stdout",
     "output_type": "stream",
     "text": [
      "RMSE для 3 региона: 39.958\n",
      "Средний запас предсказанного сырья для 3: 95.0875\n",
      "R2: 0.20261508041163934\n"
     ]
    }
   ],
   "source": [
    "predict_valid_2, target_valid_2 = fit_func(df_2, 3)"
   ]
  },
  {
   "cell_type": "code",
   "execution_count": 15,
   "metadata": {},
   "outputs": [],
   "source": [
    "target_valid_0.reset_index(drop=True, inplace=True)\n",
    "target_valid_1.reset_index(drop=True, inplace=True)\n",
    "target_valid_2.reset_index(drop=True, inplace=True)"
   ]
  },
  {
   "cell_type": "markdown",
   "metadata": {},
   "source": [
    "#### Вывод:\n",
    "Для задачи предсказывания объема добачи выбрал линейную регрессию, по итогу модель работает почти идеально только для одного региона, а для остальных регионов работает примерно как среднее, это подтверждает каэффициент детерминации для каждого из регионов. "
   ]
  },
  {
   "cell_type": "markdown",
   "metadata": {},
   "source": [
    "## Подготовка к расчёту прибыли"
   ]
  },
  {
   "cell_type": "code",
   "execution_count": 16,
   "metadata": {},
   "outputs": [],
   "source": [
    "# топ лучших точек\n",
    "MAX_COUNT = 200\n",
    "# бюджет\n",
    "BUDGET = 10 ** 10\n",
    "# доход с 1 баррели нефти\n",
    "COST = 45 * (10**4)"
   ]
  },
  {
   "cell_type": "markdown",
   "metadata": {},
   "source": [
    "Теперь посчитаем, какой должен быть минимальный объем сырья, чтобы новая разработка скважины была безубыточной:"
   ]
  },
  {
   "cell_type": "code",
   "execution_count": 17,
   "metadata": {},
   "outputs": [
    {
     "name": "stdout",
     "output_type": "stream",
     "text": [
      "Минимальный объем добычи сырья для безубыточной добычи: 111.111\n"
     ]
    }
   ],
   "source": [
    "min_volume = BUDGET / (COST * MAX_COUNT)\n",
    "print(f'Минимальный объем добычи сырья для безубыточной добычи: {round(min_volume, 3)}')"
   ]
  },
  {
   "cell_type": "code",
   "execution_count": 18,
   "metadata": {},
   "outputs": [
    {
     "name": "stdout",
     "output_type": "stream",
     "text": [
      "Среднее по регионам:\n",
      "1 регион: 92.5\n",
      "2 регион: 68.825\n",
      "3 регион: 95.0\n"
     ]
    }
   ],
   "source": [
    "vals = [df_0, df_1, df_2]\n",
    "print('Среднее по регионам:')\n",
    "for i in range(len(vals)):\n",
    "    print(f'{i + 1} регион:', round(vals[i]['product'].mean(), 3))"
   ]
  },
  {
   "cell_type": "markdown",
   "metadata": {},
   "source": [
    "#### Вывод:\n",
    "Чтобы покрыть затраты на разработку новой местности все новые скважины должны добывать минимум 112 баррелей нефти, что больше чем средний запас во всех регионах. "
   ]
  },
  {
   "cell_type": "markdown",
   "metadata": {},
   "source": [
    "## Расчёт прибыли и рисков "
   ]
  },
  {
   "cell_type": "code",
   "execution_count": 19,
   "metadata": {},
   "outputs": [],
   "source": [
    "def revenue(pred, target, cnt):\n",
    "    pred = pd.Series(pred).reset_index(drop=True).sort_values(ascending=False)\n",
    "    target = target.reset_index(drop=True)\n",
    "    selected = target[pred.index][:cnt]\n",
    "\n",
    "    if target[pred.index].shape != pred.shape:\n",
    "        print(\"Shape mismatch! Selected targets shape:\", target[pred.index].shape)\n",
    "\n",
    "\n",
    "    return COST * selected.sum() - BUDGET"
   ]
  },
  {
   "cell_type": "code",
   "execution_count": 20,
   "metadata": {},
   "outputs": [
    {
     "data": {
      "text/plain": [
       "3    3\n",
       "3    3\n",
       "3    3\n",
       "3    3\n",
       "3    3\n",
       "3    3\n",
       "3    3\n",
       "3    3\n",
       "3    3\n",
       "2    2\n",
       "2    2\n",
       "2    2\n",
       "2    2\n",
       "dtype: int64"
      ]
     },
     "metadata": {},
     "output_type": "display_data"
    }
   ],
   "source": [
    "_target = pd.Series([2, 2, 3, 3, 3], index=[2, 2, 3, 3, 3])\n",
    "_preds = pd.Series([2, 2, 3, 3, 3], index=[2, 2, 3, 3, 3]).sort_values(ascending=False)\n",
    "\n",
    "\n",
    "display(_target.loc[_preds.index])"
   ]
  },
  {
   "cell_type": "markdown",
   "metadata": {},
   "source": [
    "Теперь рассчитаем прибыльность топ-200 самых производительных скважин по предсказаниям нашей модели:"
   ]
  },
  {
   "cell_type": "code",
   "execution_count": 22,
   "metadata": {},
   "outputs": [
    {
     "name": "stdout",
     "output_type": "stream",
     "text": [
      "Расчет прибыли для 1-го региона: 3320826043.1398506\n",
      "Доля от бюджета: 0.33\n",
      "\n",
      "Расчет прибыли для 2-го региона: 2415086696.681511\n",
      "Доля от бюджета: 0.24\n",
      "\n",
      "Расчет прибыли для 3-го региона: 2539915945.842947\n",
      "Доля от бюджета: 0.25\n",
      "\n"
     ]
    }
   ],
   "source": [
    "preds = [predict_valid_0, predict_valid_1, predict_valid_2]\n",
    "targets = [target_valid_0, target_valid_1, target_valid_2]\n",
    "for i in range(len(preds)):\n",
    "    revenue_pred = revenue(preds[i], targets[i], MAX_COUNT)\n",
    "    print(f'Расчет прибыли для {i + 1}-го региона: {revenue_pred}')\n",
    "    print(f'Доля от бюджета: {round(revenue_pred / BUDGET, 2)}')\n",
    "    print()"
   ]
  },
  {
   "cell_type": "markdown",
   "metadata": {},
   "source": [
    "#### Вывод:\n",
    "по предсказаниям модели, в любом регионе 200 лучших скважин показывают хорошую прибыльность."
   ]
  },
  {
   "cell_type": "markdown",
   "metadata": {},
   "source": [
    "**Bootstrap**"
   ]
  },
  {
   "cell_type": "code",
   "execution_count": 23,
   "metadata": {},
   "outputs": [
    {
     "name": "stdout",
     "output_type": "stream",
     "text": [
      "Средняя выручка для 1-го региона: 394284411.341\n",
      "95% интервал: -69450566.857 | 915496165.831\n",
      "Риски: 6.1 %\n",
      "\n",
      "Средняя выручка для 2-го региона: 454736359.097\n",
      "95% интервал: 61071811.298 | 855914149.143\n",
      "Риски: 0.7 %\n",
      "\n",
      "Средняя выручка для 3-го региона: 353664097.525\n",
      "95% интервал: -162650946.942 | 847761844.515\n",
      "Риски: 7.6 %\n",
      "\n"
     ]
    }
   ],
   "source": [
    "values_dict = {0: [], 1: [], 2: []}\n",
    "for j in range(len(preds)):\n",
    "    for i in range(10 ** 3):\n",
    "        pred_subsample = pd.Series(preds[j]).sample(n=500, replace=True, random_state=state)\n",
    "        target_subsample = targets[j][pred_subsample.index]\n",
    "        values_dict[j].append(revenue(pred_subsample, target_subsample, MAX_COUNT))\n",
    "        \n",
    "    values = pd.Series(values_dict[j])\n",
    "    lower = round(values.quantile(0.025), 3)\n",
    "    upper = round(values.quantile(0.975), 3)\n",
    "    mean = round(values.mean(), 3)\n",
    "    risk = (values < 0).mean() * 100\n",
    "    \n",
    "    print(f\"Средняя выручка для {j + 1}-го региона:\", mean)\n",
    "    print(\"95% интервал:\", lower, '|',upper)\n",
    "    print('Риски:', round(risk, 2), '%')\n",
    "    print()"
   ]
  },
  {
   "cell_type": "code",
   "execution_count": 24,
   "metadata": {},
   "outputs": [
    {
     "data": {
      "text/plain": [
       "(array([  5.,  16.,  70., 154., 217., 260., 156.,  84.,  34.,   4.]),\n",
       " array([-4.51127941e+08, -2.86128168e+08, -1.21128394e+08,  4.38713801e+07,\n",
       "         2.08871154e+08,  3.73870928e+08,  5.38870702e+08,  7.03870476e+08,\n",
       "         8.68870249e+08,  1.03387002e+09,  1.19886980e+09]),\n",
       " <BarContainer object of 10 artists>)"
      ]
     },
     "execution_count": 24,
     "metadata": {},
     "output_type": "execute_result"
    },
    {
     "data": {
      "image/png": "[encoded data removed]",
      "text/plain": [
       "<Figure size 432x288 with 1 Axes>"
      ]
     },
     "metadata": {
      "needs_background": "light"
     },
     "output_type": "display_data"
    }
   ],
   "source": [
    "plt.hist(values_dict[0])"
   ]
  },
  {
   "cell_type": "code",
   "execution_count": 25,
   "metadata": {},
   "outputs": [
    {
     "data": {
      "text/plain": [
       "(array([  3.,   7.,  70., 129., 228., 248., 176.,  97.,  35.,   7.]),\n",
       " array([-2.42960973e+08, -1.10108350e+08,  2.27442741e+07,  1.55596898e+08,\n",
       "         2.88449521e+08,  4.21302145e+08,  5.54154769e+08,  6.87007392e+08,\n",
       "         8.19860016e+08,  9.52712639e+08,  1.08556526e+09]),\n",
       " <BarContainer object of 10 artists>)"
      ]
     },
     "execution_count": 25,
     "metadata": {},
     "output_type": "execute_result"
    },
    {
     "data": {
      "image/png": "[encoded data removed]",
      "text/plain": [
       "<Figure size 432x288 with 1 Axes>"
      ]
     },
     "metadata": {
      "needs_background": "light"
     },
     "output_type": "display_data"
    }
   ],
   "source": [
    "plt.hist(values_dict[1])"
   ]
  },
  {
   "cell_type": "code",
   "execution_count": 26,
   "metadata": {},
   "outputs": [
    {
     "data": {
      "text/plain": [
       "(array([  1.,   1.,  30.,  89., 233., 312., 216.,  92.,  21.,   5.]),\n",
       " array([-7.13048562e+08, -5.17971624e+08, -3.22894686e+08, -1.27817748e+08,\n",
       "         6.72591898e+07,  2.62336128e+08,  4.57413066e+08,  6.52490004e+08,\n",
       "         8.47566942e+08,  1.04264388e+09,  1.23772082e+09]),\n",
       " <BarContainer object of 10 artists>)"
      ]
     },
     "execution_count": 26,
     "metadata": {},
     "output_type": "execute_result"
    },
    {
     "data": {
      "image/png": "[encoded data removed]",
      "text/plain": [
       "<Figure size 432x288 with 1 Axes>"
      ]
     },
     "metadata": {
      "needs_background": "light"
     },
     "output_type": "display_data"
    }
   ],
   "source": [
    "plt.hist(values_dict[2])"
   ]
  },
  {
   "cell_type": "markdown",
   "metadata": {},
   "source": [
    "#### Вывод:\n",
    "Явным лидером является второй регион, ведь в нем выше средняя выручка и ниже риск получить отрицательную прибыль."
   ]
  },
  {
   "cell_type": "markdown",
   "metadata": {},
   "source": [
    "## Общий вывод:\n",
    "В проделанной работе можно выделить неколько этапов, по которым можно сделать вывод:\n",
    "- 1) Загрузка данных.\n",
    "- 2) Обучение модели линейной регресии, в процессе которого были выяснены метрики качества полученной модели, такие как R2 и RMSE.\n",
    "- 3) Подготовка к подсчету прибыли, в ходе которой был посчитан безубыточный объем добычи.\n",
    "- 4) Расчет прибыли и рисков методом Bootstrap. В ходе этого эпата было выяснено, что второй регион оказался лучшим для разработки новых скважин."
   ]
  }
 ],
 "metadata": {
  "ExecuteTimeLog": [
   {
    "duration": 1068,
    "start_time": "2023-07-07T20:42:54.515Z"
   },
   {
    "duration": 98,
    "start_time": "2023-07-07T20:46:49.782Z"
   },
   {
    "duration": 1031,
    "start_time": "2023-07-07T20:47:24.333Z"
   },
   {
    "duration": 3,
    "start_time": "2023-07-07T20:47:25.367Z"
   },
   {
    "duration": 413,
    "start_time": "2023-07-07T20:47:25.372Z"
   },
   {
    "duration": 243,
    "start_time": "2023-07-07T20:47:25.787Z"
   },
   {
    "duration": 241,
    "start_time": "2023-07-07T20:47:26.033Z"
   },
   {
    "duration": 16,
    "start_time": "2023-07-07T20:47:26.275Z"
   },
   {
    "duration": 9,
    "start_time": "2023-07-07T20:47:26.292Z"
   },
   {
    "duration": 10,
    "start_time": "2023-07-07T20:47:26.302Z"
   },
   {
    "duration": 6,
    "start_time": "2023-07-07T20:47:26.314Z"
   },
   {
    "duration": 86,
    "start_time": "2023-07-07T20:47:26.321Z"
   },
   {
    "duration": 135,
    "start_time": "2023-07-07T20:47:26.408Z"
   },
   {
    "duration": 139,
    "start_time": "2023-07-07T20:47:26.603Z"
   },
   {
    "duration": 4,
    "start_time": "2023-07-07T20:47:26.802Z"
   },
   {
    "duration": 96,
    "start_time": "2023-07-07T20:47:26.811Z"
   },
   {
    "duration": 6,
    "start_time": "2023-07-07T20:47:26.909Z"
   },
   {
    "duration": 9,
    "start_time": "2023-07-07T20:47:26.916Z"
   },
   {
    "duration": 4,
    "start_time": "2023-07-07T20:47:26.926Z"
   },
   {
    "duration": 35,
    "start_time": "2023-07-07T20:47:26.931Z"
   },
   {
    "duration": 7798,
    "start_time": "2023-07-07T20:47:26.968Z"
   },
   {
    "duration": 1054,
    "start_time": "2023-07-07T20:48:44.213Z"
   },
   {
    "duration": 3,
    "start_time": "2023-07-07T20:48:45.269Z"
   },
   {
    "duration": 206,
    "start_time": "2023-07-07T20:48:45.274Z"
   },
   {
    "duration": 164,
    "start_time": "2023-07-07T20:48:45.482Z"
   },
   {
    "duration": 164,
    "start_time": "2023-07-07T20:48:45.647Z"
   },
   {
    "duration": 17,
    "start_time": "2023-07-07T20:48:45.812Z"
   },
   {
    "duration": 18,
    "start_time": "2023-07-07T20:48:45.830Z"
   },
   {
    "duration": 10,
    "start_time": "2023-07-07T20:48:45.849Z"
   },
   {
    "duration": 23,
    "start_time": "2023-07-07T20:48:45.860Z"
   },
   {
    "duration": 48,
    "start_time": "2023-07-07T20:48:45.886Z"
   },
   {
    "duration": 211,
    "start_time": "2023-07-07T20:48:45.936Z"
   },
   {
    "duration": 183,
    "start_time": "2023-07-07T20:48:46.150Z"
   },
   {
    "duration": 4,
    "start_time": "2023-07-07T20:48:46.403Z"
   },
   {
    "duration": 106,
    "start_time": "2023-07-07T20:48:46.411Z"
   },
   {
    "duration": 6,
    "start_time": "2023-07-07T20:48:46.519Z"
   },
   {
    "duration": 12,
    "start_time": "2023-07-07T20:48:46.527Z"
   },
   {
    "duration": 22,
    "start_time": "2023-07-07T20:48:46.541Z"
   },
   {
    "duration": 31,
    "start_time": "2023-07-07T20:48:46.565Z"
   },
   {
    "duration": 9651,
    "start_time": "2023-07-07T20:48:46.598Z"
   },
   {
    "duration": 10,
    "start_time": "2023-07-07T20:53:49.896Z"
   },
   {
    "duration": 8,
    "start_time": "2023-07-07T20:54:08.276Z"
   },
   {
    "duration": 5,
    "start_time": "2023-07-07T20:55:02.205Z"
   },
   {
    "duration": 6,
    "start_time": "2023-07-07T20:55:09.173Z"
   },
   {
    "duration": 6,
    "start_time": "2023-07-07T20:55:33.093Z"
   },
   {
    "duration": 9,
    "start_time": "2023-07-07T20:55:43.759Z"
   },
   {
    "duration": 10,
    "start_time": "2023-07-07T20:55:47.719Z"
   },
   {
    "duration": 10,
    "start_time": "2023-07-07T20:55:58.092Z"
   },
   {
    "duration": 9,
    "start_time": "2023-07-07T20:56:01.890Z"
   },
   {
    "duration": 1645,
    "start_time": "2023-07-09T20:28:16.305Z"
   },
   {
    "duration": 5,
    "start_time": "2023-07-09T20:28:17.954Z"
   },
   {
    "duration": 447,
    "start_time": "2023-07-09T20:28:17.963Z"
   },
   {
    "duration": 237,
    "start_time": "2023-07-09T20:28:18.413Z"
   },
   {
    "duration": 250,
    "start_time": "2023-07-09T20:28:18.652Z"
   },
   {
    "duration": 17,
    "start_time": "2023-07-09T20:28:18.903Z"
   },
   {
    "duration": 10,
    "start_time": "2023-07-09T20:28:18.922Z"
   },
   {
    "duration": 21,
    "start_time": "2023-07-09T20:28:18.934Z"
   },
   {
    "duration": 16,
    "start_time": "2023-07-09T20:28:18.958Z"
   },
   {
    "duration": 218,
    "start_time": "2023-07-09T20:28:18.977Z"
   },
   {
    "duration": 6,
    "start_time": "2023-07-09T20:28:19.196Z"
   },
   {
    "duration": 63,
    "start_time": "2023-07-09T20:28:19.204Z"
   },
   {
    "duration": 217,
    "start_time": "2023-07-09T20:28:19.271Z"
   },
   {
    "duration": 198,
    "start_time": "2023-07-09T20:28:19.491Z"
   },
   {
    "duration": 69,
    "start_time": "2023-07-09T20:28:19.690Z"
   },
   {
    "duration": 206,
    "start_time": "2023-07-09T20:28:19.762Z"
   },
   {
    "duration": 34,
    "start_time": "2023-07-09T20:28:19.970Z"
   },
   {
    "duration": 269,
    "start_time": "2023-07-09T20:28:20.007Z"
   },
   {
    "duration": 6,
    "start_time": "2023-07-09T20:28:20.278Z"
   },
   {
    "duration": 13,
    "start_time": "2023-07-09T20:28:20.286Z"
   },
   {
    "duration": 8,
    "start_time": "2023-07-09T20:28:20.300Z"
   },
   {
    "duration": 26,
    "start_time": "2023-07-09T20:28:20.310Z"
   },
   {
    "duration": 4858,
    "start_time": "2023-07-09T20:28:20.338Z"
   },
   {
    "duration": 180,
    "start_time": "2023-07-09T20:28:25.198Z"
   },
   {
    "duration": 156,
    "start_time": "2023-07-09T20:28:25.381Z"
   },
   {
    "duration": 186,
    "start_time": "2023-07-09T20:28:25.539Z"
   }
  ],
  "kernelspec": {
   "display_name": "Python 3 (ipykernel)",
   "language": "python",
   "name": "python3"
  },
  "language_info": {
   "codemirror_mode": {
    "name": "ipython",
    "version": 3
   },
   "file_extension": ".py",
   "mimetype": "text/x-python",
   "name": "python",
   "nbconvert_exporter": "python",
   "pygments_lexer": "ipython3",
   "version": "3.11.5"
  },
  "toc": {
   "base_numbering": 1,
   "nav_menu": {},
   "number_sections": true,
   "sideBar": true,
   "skip_h1_title": true,
   "title_cell": "Table of Contents",
   "title_sidebar": "Contents",
   "toc_cell": false,
   "toc_position": {},
   "toc_section_display": true,
   "toc_window_display": false
  }
 },
 "nbformat": 4,
 "nbformat_minor": 2
}
