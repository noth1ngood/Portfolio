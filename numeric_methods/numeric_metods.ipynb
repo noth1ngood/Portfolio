{
 "cells": [
  {
   "cell_type": "markdown",
   "metadata": {},
   "source": [
    "# Определение стоимости автомобилей"
   ]
  },
  {
   "cell_type": "markdown",
   "metadata": {},
   "source": [
    "Сервис по продаже автомобилей с пробегом разрабатывает приложение для привлечения новых клиентов. В нём можно быстро узнать рыночную стоимость своего автомобиля. В вашем распоряжении исторические данные: технические характеристики, комплектации и цены автомобилей. Вам нужно построить модель для определения стоимости. \n",
    "\n",
    "Заказчику важны:\n",
    "\n",
    "- качество предсказания;\n",
    "- скорость предсказания;\n",
    "- время обучения."
   ]
  },
  {
   "cell_type": "markdown",
   "metadata": {},
   "source": [
    "**Используемые библиотеки:**"
   ]
  },
  {
   "cell_type": "code",
   "execution_count": null,
   "metadata": {},
   "outputs": [],
   "source": [
    "import time\n",
    "import pandas as pd\n",
    "import numpy as np\n",
    "import seaborn as sns\n",
    "import matplotlib.pyplot as plt\n",
    "\n",
    "from catboost import CatBoostRegressor\n",
    "import xgboost as xg\n",
    "import lightgbm as lgb\n",
    "\n",
    "from sklearn.preprocessing import StandardScaler, OrdinalEncoder, OneHotEncoder\n",
    "from sklearn.model_selection import train_test_split, GridSearchCV\n",
    "from sklearn.metrics import mean_squared_error, make_scorer\n",
    "from sklearn.linear_model import LinearRegression\n",
    "\n",
    "import warnings\n",
    "warnings.filterwarnings('ignore')"
   ]
  },
  {
   "cell_type": "markdown",
   "metadata": {},
   "source": [
    "**Глобальные переменные:**"
   ]
  },
  {
   "cell_type": "code",
   "execution_count": null,
   "metadata": {},
   "outputs": [],
   "source": [
    "state = np.random.RandomState(12345)"
   ]
  },
  {
   "cell_type": "markdown",
   "metadata": {},
   "source": [
    "## Подготовка данных"
   ]
  },
  {
   "cell_type": "markdown",
   "metadata": {},
   "source": [
    "### Загрузка данных"
   ]
  },
  {
   "cell_type": "code",
   "execution_count": null,
   "metadata": {},
   "outputs": [],
   "source": [
    "try:\n",
    "    df = pd.read_csv('autos.csv')\n",
    "except:\n",
    "    df = pd.read_csv('/datasets/autos.csv')"
   ]
  },
  {
   "cell_type": "code",
   "execution_count": null,
   "metadata": {
    "scrolled": false
   },
   "outputs": [],
   "source": [
    "df.head()"
   ]
  },
  {
   "cell_type": "code",
   "execution_count": null,
   "metadata": {},
   "outputs": [],
   "source": [
    "df.info()"
   ]
  },
  {
   "cell_type": "markdown",
   "metadata": {},
   "source": [
    "#### Вывод:\n",
    "Данные загружены, проведен первичный осмотр. Данные загрузились без каких-либо проблем!"
   ]
  },
  {
   "cell_type": "markdown",
   "metadata": {},
   "source": [
    "### Работа с пропусками "
   ]
  },
  {
   "cell_type": "code",
   "execution_count": null,
   "metadata": {},
   "outputs": [],
   "source": [
    "df.isna().sum()"
   ]
  },
  {
   "cell_type": "markdown",
   "metadata": {},
   "source": [
    "Как видим, есть 5 признаков, в которых присутствуют пропуски. Пройдемся по каждому из них:\n",
    "\n",
    "VehicleType -- этот признак невозможно избавить от пропусков, не прибегая к источникам из вне, так как машина одной модели может иметь разный тип кузова, например `volkswagen golf`, поэтому придется заполнить пропуски заглушками\n",
    "\n",
    "Gearbox -- этот признак можно попытаться заполнить основываясь на на том, что машина одних и тех же годов, марки и модели скорее всего имеет схожую коробку передач\n",
    "\n",
    "Model -- этот признак невозможно восстановить, так как у одной марки довольно большой модельный ряд, тем более нельзя опираться на косвенные признаки, так как автопроизводители устанавливают одни и те же детали в разные модели.\n",
    "\n",
    "FuelType -- этот признак тоже можно попытаться заполнить, так как у машин одной марки, модели, мощности будут скорее всего схожие типы топлива\n",
    "\n",
    "Repaired -- этот признак невозможно восполнить основываясь на датасете, так как каждый автомобиль независим, поэтому марка и модель не будут иметь влияние на этот признак."
   ]
  },
  {
   "cell_type": "markdown",
   "metadata": {},
   "source": [
    "Сначала найдем все строки, в которых есть пропуски во всех пяти признаках, такие строки не предоставляют из себя ценности, поэтому можно их удалить."
   ]
  },
  {
   "cell_type": "code",
   "execution_count": null,
   "metadata": {},
   "outputs": [],
   "source": [
    "nans_indexes = df.loc[df['Repaired'].isna() & \n",
    "                      df['VehicleType'].isna() & \n",
    "                      df['Model'].isna() &\n",
    "                      df['Gearbox'].isna() &\n",
    "                      df['FuelType'].isna()].index\n",
    "nans_indexes"
   ]
  },
  {
   "cell_type": "code",
   "execution_count": null,
   "metadata": {},
   "outputs": [],
   "source": [
    "df = df.drop(index=nans_indexes)"
   ]
  },
  {
   "cell_type": "markdown",
   "metadata": {},
   "source": [
    "На мой взгляд, все признаки, относящиеся к:\n",
    "- дате регистрации\n",
    "- описанию продавца\n",
    "\n",
    "не имеют влияния на цену машины"
   ]
  },
  {
   "cell_type": "code",
   "execution_count": null,
   "metadata": {},
   "outputs": [],
   "source": [
    "df = df.drop(['DateCrawled', 'RegistrationMonth', 'PostalCode', 'LastSeen', 'NumberOfPictures', 'DateCreated'], axis=1)"
   ]
  },
  {
   "cell_type": "markdown",
   "metadata": {},
   "source": [
    "Далее надо посмотреть есть ли объекты с нулевой ценой"
   ]
  },
  {
   "cell_type": "code",
   "execution_count": null,
   "metadata": {},
   "outputs": [],
   "source": [
    "df.loc[df.Price < 100]"
   ]
  },
  {
   "cell_type": "markdown",
   "metadata": {},
   "source": [
    "Таких объявлений много, их надо убрать, так как это сильно повлияет на качество модели"
   ]
  },
  {
   "cell_type": "code",
   "execution_count": null,
   "metadata": {
    "scrolled": false
   },
   "outputs": [],
   "source": [
    "df = df.loc[df.Price > 100]\n",
    "df.head(3)"
   ]
  },
  {
   "cell_type": "markdown",
   "metadata": {},
   "source": [
    "Заполним заглушками следущие признаки:"
   ]
  },
  {
   "cell_type": "code",
   "execution_count": null,
   "metadata": {},
   "outputs": [],
   "source": [
    "df[['VehicleType', 'Model', 'Repaired']] = df[['VehicleType', 'Model', 'Repaired']].fillna('unknown')\n",
    "df['FuelType'] = df['FuelType'].fillna('other')"
   ]
  },
  {
   "cell_type": "markdown",
   "metadata": {},
   "source": [
    "Далее создадим функцию, которая будет заполнять пропуски в `Gearbox`, основываясь на идее, что у машин одинакового года, модели, бренда и мощности схожие типы коробок передач."
   ]
  },
  {
   "cell_type": "code",
   "execution_count": null,
   "metadata": {},
   "outputs": [],
   "source": [
    "def fill_gaps(row):\n",
    "    \n",
    "    if row['Gearbox'] not in ['auto', 'manual']:\n",
    "        try:\n",
    "            row['Gearbox'] = df.loc[(df['Brand'] == row['Brand']) & \n",
    "                                    (df['Model'] == row['Model']) & \n",
    "                                    (df['RegistrationYear'] == row['RegistrationYear']) & \n",
    "                                    (df['Power'] == row['Power']), 'Gearbox'].mode()[0]\n",
    "        except:\n",
    "            row['Gearbox'] = 'unknown'\n",
    "            \n",
    "    return row"
   ]
  },
  {
   "cell_type": "code",
   "execution_count": null,
   "metadata": {},
   "outputs": [],
   "source": [
    "%%time\n",
    "\n",
    "new_df = df.apply(fill_gaps, axis=1)"
   ]
  },
  {
   "cell_type": "code",
   "execution_count": null,
   "metadata": {},
   "outputs": [],
   "source": [
    "new_df.isna().sum()"
   ]
  },
  {
   "cell_type": "markdown",
   "metadata": {},
   "source": [
    "Оставшиеся признаки нельзя восстановить по данным датасета, поэтому есть только два выхода: удалить эти строки или заполнить пропуски заглушками. Так как в сумме пропуски составляют 24% от общего объема всего датасета, удаление этих строк сильно скажется на качестве датасета."
   ]
  },
  {
   "cell_type": "markdown",
   "metadata": {},
   "source": [
    "#### Вывод\n",
    "Пропуски побеждены!"
   ]
  },
  {
   "cell_type": "markdown",
   "metadata": {},
   "source": [
    "### Аномалии"
   ]
  },
  {
   "cell_type": "markdown",
   "metadata": {},
   "source": [
    "Аномалии могут встретиться только в численных признках, то есть в `Price`, `Power`, `Kilometer`."
   ]
  },
  {
   "cell_type": "code",
   "execution_count": null,
   "metadata": {},
   "outputs": [],
   "source": [
    "sns.boxplot(new_df[['Price', 'Power', 'Kilometer']])\n",
    "plt.xlabel(\"Признаки\")\n",
    "plt.ylabel(\"Разброс\")\n",
    "plt.title('Ящик с усами для всех количественных признаков');"
   ]
  },
  {
   "cell_type": "code",
   "execution_count": null,
   "metadata": {},
   "outputs": [],
   "source": [
    "sns.boxplot(new_df[['Price', 'Power', 'Kilometer']])\n",
    "plt.xlabel(\"Признаки\")\n",
    "plt.ylabel(\"Разброс\")\n",
    "plt.title('Ящик с усами для всех количественных признаков')\n",
    "plt.ylim((0, 7000));"
   ]
  },
  {
   "cell_type": "markdown",
   "metadata": {},
   "source": [
    "Из двух ящиков с усами можно сделать следующий вывод: \n",
    "\n",
    "Во-первых, мы видим огромное количество выбросов в признке `Power`, нужно посмотреть на общее количество таких выбросов и решить удалять такие объекты или все таки исправлять\n",
    "\n",
    "Во-вторых, на мой взгляд, в признаке `Kilometer` не стоит убирать аномальные значения пробега, так как их не сособо много, и они не сильно портят общую картину.\n"
   ]
  },
  {
   "cell_type": "code",
   "execution_count": null,
   "metadata": {},
   "outputs": [],
   "source": [
    "new_df['Power'].describe()"
   ]
  },
  {
   "cell_type": "markdown",
   "metadata": {},
   "source": [
    "Можно было бы стандартизацию провести, но STD огромный из-за выбросов, поэтому получится фигня, на мой взгляд порог в 500 лошадиных сил адекватен, выбросов, которые привосходят этот порог около 500 штук, поэтому резоннее просто удалить такие объекты, чем восстанавливать верные значения для каждого из них."
   ]
  },
  {
   "cell_type": "markdown",
   "metadata": {},
   "source": [
    "Также стоит удалить объекты, которые имеют много пропусков и мощность аномально низкая"
   ]
  },
  {
   "cell_type": "code",
   "execution_count": null,
   "metadata": {},
   "outputs": [],
   "source": [
    "new_df = new_df.loc[(new_df['Power'] > 40) & \n",
    "                   (new_df['VehicleType'] != 'unknown') & \n",
    "                   (new_df['Repaired'] != 'unknown') & \n",
    "                   (new_df['Model'] != 'unknown')]"
   ]
  },
  {
   "cell_type": "code",
   "execution_count": null,
   "metadata": {},
   "outputs": [],
   "source": [
    "new_df = new_df.loc[new_df['Power'] < 500]"
   ]
  },
  {
   "cell_type": "code",
   "execution_count": null,
   "metadata": {},
   "outputs": [],
   "source": [
    "power_pivot_table = round(new_df.pivot_table(index='Brand', values='Power', aggfunc='median'))\n",
    "power_pivot_table.head(3)"
   ]
  },
  {
   "cell_type": "code",
   "execution_count": null,
   "metadata": {},
   "outputs": [],
   "source": [
    "def anomalies(row):\n",
    "    if row['Power'] < 10:\n",
    "        row['Power'] == power_pivot_table['Power'][row['Brand']]\n",
    "    return row"
   ]
  },
  {
   "cell_type": "code",
   "execution_count": null,
   "metadata": {},
   "outputs": [],
   "source": [
    "%%time\n",
    "\n",
    "new_df = new_df.apply(anomalies, axis=1)"
   ]
  },
  {
   "cell_type": "markdown",
   "metadata": {},
   "source": [
    "Теперь посмотрим на аномалии в годе регистрации автомобиля"
   ]
  },
  {
   "cell_type": "code",
   "execution_count": null,
   "metadata": {},
   "outputs": [],
   "source": [
    "new_df['RegistrationYear'].describe()"
   ]
  },
  {
   "cell_type": "code",
   "execution_count": null,
   "metadata": {},
   "outputs": [],
   "source": [
    "new_df = new_df.loc[new_df['RegistrationYear'] > 1980]"
   ]
  },
  {
   "cell_type": "markdown",
   "metadata": {},
   "source": [
    "#### Вывод:\n",
    "Почистили датасет от аномалий в признаке `Power` и `RegistrationYear`"
   ]
  },
  {
   "cell_type": "markdown",
   "metadata": {},
   "source": [
    "## Обучение моделей"
   ]
  },
  {
   "cell_type": "markdown",
   "metadata": {},
   "source": [
    "### Подготовка выборок для обучения"
   ]
  },
  {
   "cell_type": "markdown",
   "metadata": {},
   "source": [
    "Деление датасета на выборки:"
   ]
  },
  {
   "cell_type": "code",
   "execution_count": null,
   "metadata": {},
   "outputs": [],
   "source": [
    "target = new_df['Price']\n",
    "features = new_df.drop(['Price'], axis=1)\n",
    "\n",
    "features_train, features_test, target_train, target_test = train_test_split(features, target, \n",
    "                                                                            test_size=0.25, random_state=state)\n",
    "features_train, features_valid, target_train, target_valid = train_test_split(features_train, target_train, \n",
    "                                                                              test_size=0.25, random_state=state)"
   ]
  },
  {
   "cell_type": "markdown",
   "metadata": {},
   "source": [
    "Стандартизация данных:"
   ]
  },
  {
   "cell_type": "code",
   "execution_count": null,
   "metadata": {},
   "outputs": [],
   "source": [
    "numeric = ['RegistrationYear', 'Power', 'Kilometer']\n",
    "\n",
    "scaler = StandardScaler()\n",
    "scaler.fit(features_train[numeric])\n",
    "\n",
    "features_train[numeric] = scaler.transform(features_train[numeric])\n",
    "features_valid[numeric] = scaler.transform(features_valid[numeric])\n",
    "features_test[numeric] = scaler.transform(features_test[numeric])"
   ]
  },
  {
   "cell_type": "markdown",
   "metadata": {},
   "source": [
    "### Обучение моделей"
   ]
  },
  {
   "cell_type": "markdown",
   "metadata": {},
   "source": [
    "Перед началом напишем функцию, которая будет высчитывать среднее время предсказания для n-го числа объектов"
   ]
  },
  {
   "cell_type": "code",
   "execution_count": null,
   "metadata": {},
   "outputs": [],
   "source": [
    "def check_time(model, data, len_sample, count_of_preds):\n",
    "    times = []\n",
    "    for i in range(count_of_preds):\n",
    "        start = time.time()\n",
    "        predict = model.predict(data.sample(len_sample))\n",
    "        stop = time.time()\n",
    "        times.append(stop - start)\n",
    "    return round(np.array(times).mean(), 5)"
   ]
  },
  {
   "cell_type": "markdown",
   "metadata": {},
   "source": [
    "**RMSE**"
   ]
  },
  {
   "cell_type": "code",
   "execution_count": null,
   "metadata": {},
   "outputs": [],
   "source": [
    "def RMSE(target, predict):\n",
    "    return np.sqrt(mean_squared_error(target, predict))\n",
    "\n",
    "rmse = make_scorer(RMSE, greater_is_better = False)"
   ]
  },
  {
   "cell_type": "markdown",
   "metadata": {},
   "source": [
    "**CatBoostRegressor**"
   ]
  },
  {
   "cell_type": "markdown",
   "metadata": {},
   "source": [
    "Запишем категориальные переменные"
   ]
  },
  {
   "cell_type": "code",
   "execution_count": null,
   "metadata": {},
   "outputs": [],
   "source": [
    "cat_features = ['VehicleType', 'Gearbox', 'Model', 'FuelType', 'Brand', 'Repaired']"
   ]
  },
  {
   "cell_type": "markdown",
   "metadata": {},
   "source": [
    "Лучшие гиперпараметры мы будем искать, используя GridSearchCV"
   ]
  },
  {
   "cell_type": "code",
   "execution_count": null,
   "metadata": {},
   "outputs": [],
   "source": [
    "grid_params = {'learning_rate': [0.1, 0.2, 0.4],\n",
    "        'depth': [4, 6, 8],\n",
    "        'iterations': [100, 50, 200]}"
   ]
  },
  {
   "cell_type": "code",
   "execution_count": null,
   "metadata": {
    "scrolled": true
   },
   "outputs": [],
   "source": [
    "%%time\n",
    "\n",
    "model = CatBoostRegressor()\n",
    "grid = GridSearchCV(model, grid_params, scoring=rmse, n_jobs=-1, verbose=50)\n",
    "grid.fit(features_train, target_train, cat_features=cat_features)"
   ]
  },
  {
   "cell_type": "markdown",
   "metadata": {},
   "source": [
    "Теперь посмотрим на среднее время обучения, предсказания и RMSE"
   ]
  },
  {
   "cell_type": "code",
   "execution_count": null,
   "metadata": {},
   "outputs": [],
   "source": [
    "grid.cv_results_"
   ]
  },
  {
   "cell_type": "markdown",
   "metadata": {},
   "source": [
    "Теперь посмотрим на метрики, важные для заказчика"
   ]
  },
  {
   "cell_type": "code",
   "execution_count": null,
   "metadata": {},
   "outputs": [],
   "source": [
    "print('Результаты для CatBoostRegressor')\n",
    "print('Среднее время обучения:', round(grid.cv_results_['mean_fit_time'].mean(), 2))\n",
    "print(\"Среднее время предсказания:\", round(grid.cv_results_['mean_score_time'].mean(), 3))\n",
    "print(\"RMSE:\", round(np.abs(grid.cv_results_['mean_test_score']).mean(), 1))"
   ]
  },
  {
   "cell_type": "markdown",
   "metadata": {},
   "source": [
    "Теперь, используя подобранные параметры, обучим модель и получим метрику RMSE"
   ]
  },
  {
   "cell_type": "code",
   "execution_count": null,
   "metadata": {},
   "outputs": [],
   "source": [
    "%%time\n",
    "\n",
    "model_catboost = CatBoostRegressor(verbose=100, **grid.best_params_, loss_function='RMSE')\n",
    "model_catboost.fit(features_train, target_train, cat_features=cat_features)\n",
    "predict_valid = model_catboost.predict(features_valid)"
   ]
  },
  {
   "cell_type": "code",
   "execution_count": null,
   "metadata": {},
   "outputs": [],
   "source": [
    "print(f'RMSE для CatBoostRegressor: {round(RMSE(predict_valid, target_valid), 1)}')"
   ]
  },
  {
   "cell_type": "markdown",
   "metadata": {},
   "source": [
    "**LightGBM**"
   ]
  },
  {
   "cell_type": "code",
   "execution_count": null,
   "metadata": {},
   "outputs": [],
   "source": [
    "ohe_encoder = OneHotEncoder(drop='first', sparse=False, handle_unknown='ignore')\n",
    "\n",
    "train_temp = ohe_encoder.fit_transform(features_train[cat_features])\n",
    "features_train[ohe_encoder.get_feature_names_out()] = train_temp\n",
    "features_train.drop(cat_features, axis=1, inplace=True)\n",
    "\n",
    "valid_temp = ohe_encoder.transform(features_valid[cat_features])\n",
    "features_valid[ohe_encoder.get_feature_names_out()] = valid_temp\n",
    "features_valid.drop(cat_features, axis=1, inplace=True)\n",
    "\n",
    "test_temp = ohe_encoder.transform(features_test[cat_features])\n",
    "features_test[ohe_encoder.get_feature_names_out()] = test_temp\n",
    "features_test.drop(cat_features, axis=1, inplace=True)"
   ]
  },
  {
   "cell_type": "code",
   "execution_count": null,
   "metadata": {},
   "outputs": [],
   "source": [
    "grid_params = {\n",
    "    'objective': ['regression'],\n",
    "    'metric': ['RMSE'],\n",
    "    'learning_rate': [0.005, 0.01],\n",
    "    \"max_depth\": [4, 8, 12, 16],\n",
    "    \"num_leaves\": [64, 128, 256],\n",
    "    'n_estimations': [500, 1000, 1500]\n",
    "}"
   ]
  },
  {
   "cell_type": "code",
   "execution_count": null,
   "metadata": {
    "scrolled": true
   },
   "outputs": [],
   "source": [
    "lgb_regressor = lgb.LGBMRegressor(learning_rate=0.01)\n",
    "grid = GridSearchCV(lgb_regressor, param_grid=grid_params, cv=5, verbose=100)\n",
    "grid.fit(features_train, target_train)\n",
    "grid.best_params_"
   ]
  },
  {
   "cell_type": "code",
   "execution_count": null,
   "metadata": {},
   "outputs": [],
   "source": [
    "grid.cv_results_"
   ]
  },
  {
   "cell_type": "code",
   "execution_count": null,
   "metadata": {},
   "outputs": [],
   "source": [
    "print('Результаты для LGBMRegressor')\n",
    "print('Среднее время обучения:', round(grid.cv_results_['mean_fit_time'].mean(), 2))\n",
    "print(\"Среднее время предсказания:\", round(grid.cv_results_['mean_score_time'].mean(), 3))\n",
    "print(\"RMSE:\", round(np.abs(grid.cv_results_['mean_test_score']).mean(), 1))"
   ]
  },
  {
   "cell_type": "code",
   "execution_count": null,
   "metadata": {
    "scrolled": true
   },
   "outputs": [],
   "source": [
    "train_df = lgb.Dataset(features_train, label=target_train)\n",
    "booster = lgb.train({\n",
    " 'max_depth': 16,\n",
    " 'metric': 'RMSE',\n",
    " 'n_estimations': 500,\n",
    " 'num_leaves': 256,\n",
    " 'objective': 'regression'}, train_set=train_df)"
   ]
  },
  {
   "cell_type": "code",
   "execution_count": null,
   "metadata": {},
   "outputs": [],
   "source": [
    "predict_valid = booster.predict(features_valid)\n",
    "print(f'RMSE для LGBMRegressor: {round(RMSE(predict_valid, target_valid), 2)}')"
   ]
  },
  {
   "cell_type": "markdown",
   "metadata": {},
   "source": [
    "**LinearRegression**"
   ]
  },
  {
   "cell_type": "code",
   "execution_count": null,
   "metadata": {},
   "outputs": [],
   "source": [
    "model_lin_reg = LinearRegression(n_jobs=-1)\n",
    "start_0 = time.time()\n",
    "model_lin_reg.fit(features_train, target_train)\n",
    "stop_0 = time.time()\n",
    "start_1 = time.time()\n",
    "predict_valid = model_lin_reg.predict(features_valid)\n",
    "stop_1 = time.time()\n",
    "print(f'RMSE для LinearRegression: {round(RMSE(predict_valid, target_valid), 2)}')"
   ]
  },
  {
   "cell_type": "code",
   "execution_count": null,
   "metadata": {},
   "outputs": [],
   "source": [
    "print('Результаты для CatBoostRegressor')\n",
    "print('Среднее время обучения:', round(abs(start_0 - stop_0), 2))\n",
    "print(\"Среднее время предсказания:\", round(abs(start_1 - stop_1), 3))\n",
    "print(\"RMSE:\", round(RMSE(predict_valid, target_valid), 1))"
   ]
  },
  {
   "cell_type": "markdown",
   "metadata": {},
   "source": [
    "#### Вывод:\n",
    "Как видим, модели, использующие градиентный бустинг намного лучше справляются с задачей регрессии."
   ]
  },
  {
   "cell_type": "markdown",
   "metadata": {},
   "source": [
    "### Анализ моделей"
   ]
  },
  {
   "cell_type": "markdown",
   "metadata": {
    "scrolled": true
   },
   "source": [
    "Очевидно, что линейная регрессия точно не является лучшей моделью по сравнению с моделями, использующими градиентный бустинг, поэтому выбирать приходится из CatBoost и LightGBM.\n",
    "\n",
    "Сравнивая RMSE, можно придти к выводу, что LightGBM лучше справляется с точностью предсказания цены автомобиля.\n",
    "\n",
    "Что касается скорости обученя, то тут LightGBM опять же лучше справляется 1 секунда против 32 у CatBoost.\n",
    "\n",
    "И, наконец, скорость предсказания у LightGBM тоже лучше, чем у Catboost.\n",
    "\n",
    "На такой результат могло повлиять, что в подборе гиперпараметров для LightGBM было 72 комбинации, против 27 у Catboost, и возможно из-за этого LightGBM имеет лучше подогнанные гиперпараметры, а также может сказаться, что для Catboost признаки не были закодированы. \n",
    "\n",
    "Чтобы проверить последнее замечание я проведу еще один GridSearch для Catboost но уже с закодированными признаками."
   ]
  },
  {
   "cell_type": "code",
   "execution_count": null,
   "metadata": {},
   "outputs": [],
   "source": [
    "grid_params = {'learning_rate': [0.1, 0.2, 0.4],\n",
    "        'depth': [4, 6, 8],\n",
    "        'iterations': [100, 50, 200]}"
   ]
  },
  {
   "cell_type": "code",
   "execution_count": null,
   "metadata": {},
   "outputs": [],
   "source": [
    "%%time\n",
    "\n",
    "model = CatBoostRegressor()\n",
    "grid = GridSearchCV(model, grid_params, scoring=rmse, n_jobs=-1, verbose=50)\n",
    "grid.fit(features_train, target_train)"
   ]
  },
  {
   "cell_type": "code",
   "execution_count": null,
   "metadata": {},
   "outputs": [],
   "source": [
    "print('Результаты для LGBMRegressor')\n",
    "print('Среднее время обучения:', round(grid.cv_results_['mean_fit_time'].mean(), 2))\n",
    "print(\"Среднее время предсказания:\", round(grid.cv_results_['mean_score_time'].mean(), 3))\n",
    "print(\"RMSE:\", round(np.abs(grid.cv_results_['mean_test_score']).mean(), 1))"
   ]
  },
  {
   "cell_type": "markdown",
   "metadata": {},
   "source": [
    "Как мы видим, кодирование признаков положительно повлияла на время обучения и время предсказания. Однако ситуация не поменялась, LightGBM все еще лучше."
   ]
  },
  {
   "cell_type": "markdown",
   "metadata": {},
   "source": [
    "Протестируем модель LGBMRergressor на тестовой выборке:"
   ]
  },
  {
   "cell_type": "code",
   "execution_count": null,
   "metadata": {},
   "outputs": [],
   "source": [
    "predict_test = booster.predict(features_test)\n",
    "print(f'RMSE для LGBMRegressor: {round(RMSE(predict_test, target_test), 2)}')"
   ]
  },
  {
   "cell_type": "markdown",
   "metadata": {},
   "source": [
    "Как видим, метрика RMSE ниже 2500, а значит модель рабоет хорошо!"
   ]
  },
  {
   "cell_type": "markdown",
   "metadata": {},
   "source": [
    "#### Вывод:\n",
    "По итогам просмотра метрик, важдых для заказчика была выбрана модель LGBMRegressor, так как она справляется с задачей быстрее и точнее, чем другие аналоги, использующие градиентный бустинг."
   ]
  },
  {
   "cell_type": "markdown",
   "metadata": {},
   "source": [
    "## Чек-лист проверки"
   ]
  },
  {
   "cell_type": "markdown",
   "metadata": {},
   "source": [
    "Поставьте 'x' в выполненных пунктах. Далее нажмите Shift+Enter."
   ]
  },
  {
   "cell_type": "markdown",
   "metadata": {},
   "source": [
    "- [x]  Jupyter Notebook открыт\n",
    "- [x]  Весь код выполняется без ошибок\n",
    "- [x]  Ячейки с кодом расположены в порядке исполнения\n",
    "- [x]  Выполнена загрузка и подготовка данных\n",
    "- [x]  Выполнено обучение моделей\n",
    "- [x]  Есть анализ скорости работы и качества моделей"
   ]
  }
 ],
 "metadata": {
  "ExecuteTimeLog": [
   {
    "duration": 10445,
    "start_time": "2023-08-27T20:55:37.639Z"
   },
   {
    "duration": 3,
    "start_time": "2023-08-27T20:55:48.087Z"
   },
   {
    "duration": 1235,
    "start_time": "2023-08-27T20:55:48.092Z"
   },
   {
    "duration": 18,
    "start_time": "2023-08-27T20:55:49.329Z"
   },
   {
    "duration": 155,
    "start_time": "2023-08-27T20:55:49.349Z"
   },
   {
    "duration": 144,
    "start_time": "2023-08-27T20:55:49.506Z"
   },
   {
    "duration": 81,
    "start_time": "2023-08-27T20:55:49.652Z"
   },
   {
    "duration": 75,
    "start_time": "2023-08-27T20:55:49.734Z"
   },
   {
    "duration": 56,
    "start_time": "2023-08-27T20:55:49.810Z"
   },
   {
    "duration": 28,
    "start_time": "2023-08-27T20:55:49.868Z"
   },
   {
    "duration": 60,
    "start_time": "2023-08-27T20:55:49.898Z"
   },
   {
    "duration": 112,
    "start_time": "2023-08-27T20:55:49.960Z"
   },
   {
    "duration": 5,
    "start_time": "2023-08-27T20:55:50.074Z"
   },
   {
    "duration": 575467,
    "start_time": "2023-08-27T20:55:50.083Z"
   },
   {
    "duration": 0,
    "start_time": "2023-08-27T21:05:25.553Z"
   },
   {
    "duration": 0,
    "start_time": "2023-08-27T21:05:25.554Z"
   },
   {
    "duration": 0,
    "start_time": "2023-08-27T21:05:25.555Z"
   },
   {
    "duration": 0,
    "start_time": "2023-08-27T21:05:25.556Z"
   },
   {
    "duration": 0,
    "start_time": "2023-08-27T21:05:25.557Z"
   },
   {
    "duration": 0,
    "start_time": "2023-08-27T21:05:25.558Z"
   },
   {
    "duration": 0,
    "start_time": "2023-08-27T21:05:25.559Z"
   },
   {
    "duration": 0,
    "start_time": "2023-08-27T21:05:25.560Z"
   },
   {
    "duration": 0,
    "start_time": "2023-08-27T21:05:25.561Z"
   },
   {
    "duration": 0,
    "start_time": "2023-08-27T21:05:25.562Z"
   },
   {
    "duration": 0,
    "start_time": "2023-08-27T21:05:25.563Z"
   },
   {
    "duration": 0,
    "start_time": "2023-08-27T21:05:25.564Z"
   },
   {
    "duration": 0,
    "start_time": "2023-08-27T21:05:25.565Z"
   },
   {
    "duration": 10,
    "start_time": "2023-08-27T21:05:28.280Z"
   },
   {
    "duration": 10,
    "start_time": "2023-08-27T21:05:28.506Z"
   },
   {
    "duration": 10,
    "start_time": "2023-08-27T21:05:28.954Z"
   },
   {
    "duration": 12,
    "start_time": "2023-08-27T21:05:29.865Z"
   },
   {
    "duration": 109,
    "start_time": "2023-08-27T21:05:42.288Z"
   },
   {
    "duration": 89,
    "start_time": "2023-08-27T21:05:43.914Z"
   },
   {
    "duration": 86,
    "start_time": "2023-08-27T21:05:45.273Z"
   },
   {
    "duration": 0,
    "start_time": "2023-08-27T21:05:45.362Z"
   },
   {
    "duration": 19,
    "start_time": "2023-08-27T21:05:45.521Z"
   },
   {
    "duration": 77,
    "start_time": "2023-08-27T21:05:46.228Z"
   },
   {
    "duration": 18,
    "start_time": "2023-08-27T21:05:47.601Z"
   },
   {
    "duration": 36,
    "start_time": "2023-08-27T21:05:48.454Z"
   },
   {
    "duration": 3,
    "start_time": "2023-08-27T21:05:48.534Z"
   },
   {
    "duration": 11336,
    "start_time": "2023-08-27T21:05:48.618Z"
   },
   {
    "duration": 0,
    "start_time": "2023-08-27T21:05:59.956Z"
   },
   {
    "duration": 0,
    "start_time": "2023-08-27T21:05:59.957Z"
   },
   {
    "duration": 15,
    "start_time": "2023-08-27T21:06:02.886Z"
   },
   {
    "duration": 16,
    "start_time": "2023-08-27T21:06:03.125Z"
   },
   {
    "duration": 11,
    "start_time": "2023-08-27T21:06:07.207Z"
   },
   {
    "duration": 97,
    "start_time": "2023-08-27T21:06:14.668Z"
   },
   {
    "duration": 119,
    "start_time": "2023-08-27T21:06:15.159Z"
   },
   {
    "duration": 12,
    "start_time": "2023-08-27T21:06:18.709Z"
   },
   {
    "duration": 3,
    "start_time": "2023-08-27T21:06:26.020Z"
   },
   {
    "duration": 23,
    "start_time": "2023-08-27T21:06:34.393Z"
   },
   {
    "duration": 687,
    "start_time": "2023-08-27T21:06:40.445Z"
   },
   {
    "duration": 4,
    "start_time": "2023-08-27T21:06:50.507Z"
   },
   {
    "duration": 739,
    "start_time": "2023-08-27T21:06:55.128Z"
   },
   {
    "duration": 650,
    "start_time": "2023-08-27T21:07:03.964Z"
   },
   {
    "duration": 19,
    "start_time": "2023-08-27T21:07:18.643Z"
   },
   {
    "duration": 4,
    "start_time": "2023-08-27T21:07:22.495Z"
   },
   {
    "duration": 76218,
    "start_time": "2023-08-27T21:07:33.008Z"
   },
   {
    "duration": 42,
    "start_time": "2023-08-27T21:08:54.236Z"
   },
   {
    "duration": 4,
    "start_time": "2023-08-27T21:09:05.760Z"
   },
   {
    "duration": 12668,
    "start_time": "2023-08-27T21:09:06.111Z"
   },
   {
    "duration": 2,
    "start_time": "2023-08-27T21:09:23.347Z"
   },
   {
    "duration": 31820,
    "start_time": "2023-08-27T21:09:23.728Z"
   },
   {
    "duration": 6,
    "start_time": "2023-08-27T21:09:55.550Z"
   },
   {
    "duration": 5,
    "start_time": "2023-08-27T21:10:03.583Z"
   },
   {
    "duration": 11,
    "start_time": "2023-08-27T21:10:44.609Z"
   },
   {
    "duration": 12,
    "start_time": "2023-08-27T21:10:47.092Z"
   },
   {
    "duration": 31584,
    "start_time": "2023-08-27T21:10:49.674Z"
   },
   {
    "duration": 7,
    "start_time": "2023-08-27T21:11:21.347Z"
   }
  ],
  "kernelspec": {
   "display_name": "Python 3 (ipykernel)",
   "language": "python",
   "name": "python3"
  },
  "language_info": {
   "codemirror_mode": {
    "name": "ipython",
    "version": 3
   },
   "file_extension": ".py",
   "mimetype": "text/x-python",
   "name": "python",
   "nbconvert_exporter": "python",
   "pygments_lexer": "ipython3",
   "version": "3.11.5"
  },
  "toc": {
   "base_numbering": 1,
   "nav_menu": {},
   "number_sections": true,
   "sideBar": true,
   "skip_h1_title": true,
   "title_cell": "Table of Contents",
   "title_sidebar": "Contents",
   "toc_cell": false,
   "toc_position": {},
   "toc_section_display": true,
   "toc_window_display": false
  }
 },
 "nbformat": 4,
 "nbformat_minor": 2
}
